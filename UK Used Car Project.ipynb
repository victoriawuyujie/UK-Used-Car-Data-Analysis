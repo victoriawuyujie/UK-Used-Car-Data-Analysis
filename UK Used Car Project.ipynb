{
  "cells": [
    {
      "cell_type": "markdown",
      "source": [
        "## Introduction ##\n",
        "\n",
        "The used car market has always been a popular topic and several factors play an important role in determining the resale value of used cars.\n",
        "\n",
        "Our project aims to explore the UK used car market by analyzing the factors that affect the resale value of used cars. The dataset we chose contains **nine CSVs categorized by car brands: audi, bmw, ford, hyundi, merc, skoda, toyota, vauxhall, vw**, each contains information on price, transmission, mileage, fuel type, road tax, miles per gallon (mpg), and engine size for popular car brands in the UK.\n",
        "\n",
        "Please find the link to the dataset in Kaggle: https://www.kaggle.com/datasets/adityadesai13/used-car-dataset-ford-and-mercedes?datasetId=750216&sortBy=voteCount&select=ford.csv\n"
      ],
      "metadata": {
        "id": "OSz0KNmTWlqX"
      }
    },
    {
      "cell_type": "markdown",
      "source": [
        "###We aim to utilize EDA to achieve the following explorations:\n",
        "\n",
        "- Identify the most popular car brand, registration year, and features among used car buyers in the UK.\n",
        "\n",
        "- Examine the relationship between the age, mileage, and resale value of used cars.\n",
        "\n",
        "###By modeling, we envision compeleing the following investigatrions:\n",
        "\n",
        "- Evaluate the impact of fuel type, transmission type, road tax, and other features on the resale value of used cars.\n",
        "\n",
        "- Develop a predictive model to estimate the resale value of used cars based on their features.\n",
        "\n",
        "- Compare different models and identifying a model with the highest accuracy."
      ],
      "metadata": {
        "id": "dskgHSfachKl"
      }
    },
    {
      "cell_type": "markdown",
      "metadata": {
        "id": "Vuyxwt1Q2Jnt"
      },
      "source": [
        "## Import Necessary Packages"
      ]
    },
    {
      "cell_type": "code",
      "execution_count": 3,
      "metadata": {
        "id": "AStag6Rf2QgZ"
      },
      "outputs": [],
      "source": [
        "import pandas as pd\n",
        "import numpy as np\n",
        "import json\n",
        "import matplotlib.pyplot as plt\n",
        "import seaborn as sns"
      ]
    },
    {
      "cell_type": "markdown",
      "metadata": {
        "id": "AaxBw2y51I_W"
      },
      "source": [
        "## Data loading and preprocessing"
      ]
    },
    {
      "cell_type": "markdown",
      "source": [
        "###Read Data###"
      ],
      "metadata": {
        "id": "OZDN4vVcLUWF"
      }
    },
    {
      "cell_type": "markdown",
      "source": [
        "We begin by loading the dataset into the python notebook. The datasets are in the format of CSV files. Each CSV file corresponds to a car manufacturer.  "
      ],
      "metadata": {
        "id": "a_Hgl7ajHbz8"
      }
    },
    {
      "cell_type": "code",
      "execution_count": null,
      "metadata": {
        "id": "0bn8wYR5wgub"
      },
      "outputs": [],
      "source": [
        "# Read the dataset\n",
        "audi_df = pd.read_csv('audi.csv')\n",
        "bmw_df = pd.read_csv('bmw.csv')\n",
        "ford_df = pd.read_csv('ford.csv')\n",
        "hyundi_df = pd.read_csv('hyundi.csv')\n",
        "merc_df = pd.read_csv('merc.csv')\n",
        "skoda_df = pd.read_csv('skoda.csv')\n",
        "toyota_df = pd.read_csv('toyota.csv')\n",
        "vauxhall_df = pd.read_csv('vauxhall.csv')\n",
        "vw_df = pd.read_csv('vw.csv')"
      ]
    },
    {
      "cell_type": "markdown",
      "source": [
        "###Check the Size of Raw Datasets###"
      ],
      "metadata": {
        "id": "k51f1qn-LnMU"
      }
    },
    {
      "cell_type": "markdown",
      "source": [
        "Lets begin by inspecting the size of datasets in terms of number of rows."
      ],
      "metadata": {
        "id": "oiJ7mPR1IUFY"
      }
    },
    {
      "cell_type": "code",
      "source": [
        "# Calculate the number of rows in each dataset\n",
        "num_rows = [len(audi_df), len(bmw_df), len(ford_df), len(hyundi_df),\n",
        "            len(merc_df), len(skoda_df), len(toyota_df), len(vauxhall_df), len(vw_df)]\n",
        "\n",
        "# Create a barplot to show the number of rows in each dataset\n",
        "\n",
        "plt.figure(figsize=(6,4))\n",
        "plt.bar(['audi', 'bmw', 'ford', 'hyundi', 'merc', 'skoda', 'toyota', 'vauxhall', 'vw'], num_rows)\n",
        "plt.xlabel('Dataset')\n",
        "plt.ylabel('Number of Rows')\n",
        "plt.title('Number of Rows in Each Dataset')\n",
        "plt.show()"
      ],
      "metadata": {
        "colab": {
          "base_uri": "https://localhost:8080/",
          "height": 410
        },
        "id": "xur4F0n-ITzA",
        "outputId": "f17c27f4-7b7e-4297-afdf-edf2e323d238"
      },
      "execution_count": 5,
      "outputs": [
        {
          "output_type": "display_data",
          "data": {
            "text/plain": [
              "<Figure size 600x400 with 1 Axes>"
            ],
            "image/png": "[encoded data removed]"
          },
          "metadata": {}
        }
      ]
    },
    {
      "cell_type": "markdown",
      "source": [
        "As we can see, the size of datasets ranges from around 5000 to 17500."
      ],
      "metadata": {
        "id": "6Kn1hKxVKYwg"
      }
    },
    {
      "cell_type": "markdown",
      "source": [
        "###Check Columns###"
      ],
      "metadata": {
        "id": "bkfnTgaoLwhg"
      }
    },
    {
      "cell_type": "markdown",
      "source": [
        "Next, we would like to inspect the format and columns of each dataset to gain a better understanding. Lets first look at the first five rows of each dataset to see what kind of preprocessing is required."
      ],
      "metadata": {
        "id": "jWnfzA5UKv-l"
      }
    },
    {
      "cell_type": "code",
      "execution_count": 6,
      "metadata": {
        "colab": {
          "base_uri": "https://localhost:8080/",
          "height": 206
        },
        "id": "NJ6HB0Pm-XA0",
        "outputId": "9fbe3bb4-d57e-47af-96af-c69a381cba73"
      },
      "outputs": [
        {
          "output_type": "execute_result",
          "data": {
            "text/plain": [
              "  model  year  price transmission  mileage fuelType  tax   mpg  engineSize\n",
              "0    A1  2017  12500       Manual    15735   Petrol  150  55.4         1.4\n",
              "1    A6  2016  16500    Automatic    36203   Diesel   20  64.2         2.0\n",
              "2    A1  2016  11000       Manual    29946   Petrol   30  55.4         1.4\n",
              "3    A4  2017  16800    Automatic    25952   Diesel  145  67.3         2.0\n",
              "4    A3  2019  17300       Manual     1998   Petrol  145  49.6         1.0"
            ],
            "text/html": [
              "\n",
              "  <div id=\"df-de9bfa40-8d2f-40d8-af8b-18f880d01ab4\">\n",
              "    <div class=\"colab-df-container\">\n",
              "      <div>\n",
              "<style scoped>\n",
              "    .dataframe tbody tr th:only-of-type {\n",
              "        vertical-align: middle;\n",
              "    }\n",
              "\n",
              "    .dataframe tbody tr th {\n",
              "        vertical-align: top;\n",
              "    }\n",
              "\n",
              "    .dataframe thead th {\n",
              "        text-align: right;\n",
              "    }\n",
              "</style>\n",
              "<table border=\"1\" class=\"dataframe\">\n",
              "  <thead>\n",
              "    <tr style=\"text-align: right;\">\n",
              "      <th></th>\n",
              "      <th>model</th>\n",
              "      <th>year</th>\n",
              "      <th>price</th>\n",
              "      <th>transmission</th>\n",
              "      <th>mileage</th>\n",
              "      <th>fuelType</th>\n",
              "      <th>tax</th>\n",
              "      <th>mpg</th>\n",
              "      <th>engineSize</th>\n",
              "    </tr>\n",
              "  </thead>\n",
              "  <tbody>\n",
              "    <tr>\n",
              "      <th>0</th>\n",
              "      <td>A1</td>\n",
              "      <td>2017</td>\n",
              "      <td>12500</td>\n",
              "      <td>Manual</td>\n",
              "      <td>15735</td>\n",
              "      <td>Petrol</td>\n",
              "      <td>150</td>\n",
              "      <td>55.4</td>\n",
              "      <td>1.4</td>\n",
              "    </tr>\n",
              "    <tr>\n",
              "      <th>1</th>\n",
              "      <td>A6</td>\n",
              "      <td>2016</td>\n",
              "      <td>16500</td>\n",
              "      <td>Automatic</td>\n",
              "      <td>36203</td>\n",
              "      <td>Diesel</td>\n",
              "      <td>20</td>\n",
              "      <td>64.2</td>\n",
              "      <td>2.0</td>\n",
              "    </tr>\n",
              "    <tr>\n",
              "      <th>2</th>\n",
              "      <td>A1</td>\n",
              "      <td>2016</td>\n",
              "      <td>11000</td>\n",
              "      <td>Manual</td>\n",
              "      <td>29946</td>\n",
              "      <td>Petrol</td>\n",
              "      <td>30</td>\n",
              "      <td>55.4</td>\n",
              "      <td>1.4</td>\n",
              "    </tr>\n",
              "    <tr>\n",
              "      <th>3</th>\n",
              "      <td>A4</td>\n",
              "      <td>2017</td>\n",
              "      <td>16800</td>\n",
              "      <td>Automatic</td>\n",
              "      <td>25952</td>\n",
              "      <td>Diesel</td>\n",
              "      <td>145</td>\n",
              "      <td>67.3</td>\n",
              "      <td>2.0</td>\n",
              "    </tr>\n",
              "    <tr>\n",
              "      <th>4</th>\n",
              "      <td>A3</td>\n",
              "      <td>2019</td>\n",
              "      <td>17300</td>\n",
              "      <td>Manual</td>\n",
              "      <td>1998</td>\n",
              "      <td>Petrol</td>\n",
              "      <td>145</td>\n",
              "      <td>49.6</td>\n",
              "      <td>1.0</td>\n",
              "    </tr>\n",
              "  </tbody>\n",
              "</table>\n",
              "</div>\n",
              "      <button class=\"colab-df-convert\" onclick=\"convertToInteractive('df-de9bfa40-8d2f-40d8-af8b-18f880d01ab4')\"\n",
              "              title=\"Convert this dataframe to an interactive table.\"\n",
              "              style=\"display:none;\">\n",
              "        \n",
              "  <svg xmlns=\"http://www.w3.org/2000/svg\" height=\"24px\"viewBox=\"0 0 24 24\"\n",
              "       width=\"24px\">\n",
              "    <path d=\"M0 0h24v24H0V0z\" fill=\"none\"/>\n",
              "    <path d=\"M18.56 5.44l.94 2.06.94-2.06 2.06-.94-2.06-.94-.94-2.06-.94 2.06-2.06.94zm-11 1L8.5 8.5l.94-2.06 2.06-.94-2.06-.94L8.5 2.5l-.94 2.06-2.06.94zm10 10l.94 2.06.94-2.06 2.06-.94-2.06-.94-.94-2.06-.94 2.06-2.06.94z\"/><path d=\"M17.41 7.96l-1.37-1.37c-.4-.4-.92-.59-1.43-.59-.52 0-1.04.2-1.43.59L10.3 9.45l-7.72 7.72c-.78.78-.78 2.05 0 2.83L4 21.41c.39.39.9.59 1.41.59.51 0 1.02-.2 1.41-.59l7.78-7.78 2.81-2.81c.8-.78.8-2.07 0-2.86zM5.41 20L4 18.59l7.72-7.72 1.47 1.35L5.41 20z\"/>\n",
              "  </svg>\n",
              "      </button>\n",
              "      \n",
              "  <style>\n",
              "    .colab-df-container {\n",
              "      display:flex;\n",
              "      flex-wrap:wrap;\n",
              "      gap: 12px;\n",
              "    }\n",
              "\n",
              "    .colab-df-convert {\n",
              "      background-color: #E8F0FE;\n",
              "      border: none;\n",
              "      border-radius: 50%;\n",
              "      cursor: pointer;\n",
              "      display: none;\n",
              "      fill: #1967D2;\n",
              "      height: 32px;\n",
              "      padding: 0 0 0 0;\n",
              "      width: 32px;\n",
              "    }\n",
              "\n",
              "    .colab-df-convert:hover {\n",
              "      background-color: #E2EBFA;\n",
              "      box-shadow: 0px 1px 2px rgba(60, 64, 67, 0.3), 0px 1px 3px 1px rgba(60, 64, 67, 0.15);\n",
              "      fill: #174EA6;\n",
              "    }\n",
              "\n",
              "    [theme=dark] .colab-df-convert {\n",
              "      background-color: #3B4455;\n",
              "      fill: #D2E3FC;\n",
              "    }\n",
              "\n",
              "    [theme=dark] .colab-df-convert:hover {\n",
              "      background-color: #434B5C;\n",
              "      box-shadow: 0px 1px 3px 1px rgba(0, 0, 0, 0.15);\n",
              "      filter: drop-shadow(0px 1px 2px rgba(0, 0, 0, 0.3));\n",
              "      fill: #FFFFFF;\n",
              "    }\n",
              "  </style>\n",
              "\n",
              "      <script>\n",
              "        const buttonEl =\n",
              "          document.querySelector('#df-de9bfa40-8d2f-40d8-af8b-18f880d01ab4 button.colab-df-convert');\n",
              "        buttonEl.style.display =\n",
              "          google.colab.kernel.accessAllowed ? 'block' : 'none';\n",
              "\n",
              "        async function convertToInteractive(key) {\n",
              "          const element = document.querySelector('#df-de9bfa40-8d2f-40d8-af8b-18f880d01ab4');\n",
              "          const dataTable =\n",
              "            await google.colab.kernel.invokeFunction('convertToInteractive',\n",
              "                                                     [key], {});\n",
              "          if (!dataTable) return;\n",
              "\n",
              "          const docLinkHtml = 'Like what you see? Visit the ' +\n",
              "            '<a target=\"_blank\" href=https://colab.research.google.com/notebooks/data_table.ipynb>data table notebook</a>'\n",
              "            + ' to learn more about interactive tables.';\n",
              "          element.innerHTML = '';\n",
              "          dataTable['output_type'] = 'display_data';\n",
              "          await google.colab.output.renderOutput(dataTable, element);\n",
              "          const docLink = document.createElement('div');\n",
              "          docLink.innerHTML = docLinkHtml;\n",
              "          element.appendChild(docLink);\n",
              "        }\n",
              "      </script>\n",
              "    </div>\n",
              "  </div>\n",
              "  "
            ]
          },
          "metadata": {},
          "execution_count": 6
        }
      ],
      "source": [
        "# Display the first 5 rows of each dataset\n",
        "audi_df.head(5)"
      ]
    },
    {
      "cell_type": "code",
      "execution_count": 7,
      "metadata": {
        "colab": {
          "base_uri": "https://localhost:8080/",
          "height": 206
        },
        "id": "3Fupwmm5-nD8",
        "outputId": "9ba31b88-482c-42ab-d82d-2eaa05436ca2"
      },
      "outputs": [
        {
          "output_type": "execute_result",
          "data": {
            "text/plain": [
              "       model  year  price transmission  mileage fuelType  tax   mpg  \\\n",
              "0   5 Series  2014  11200    Automatic    67068   Diesel  125  57.6   \n",
              "1   6 Series  2018  27000    Automatic    14827   Petrol  145  42.8   \n",
              "2   5 Series  2016  16000    Automatic    62794   Diesel  160  51.4   \n",
              "3   1 Series  2017  12750    Automatic    26676   Diesel  145  72.4   \n",
              "4   7 Series  2014  14500    Automatic    39554   Diesel  160  50.4   \n",
              "\n",
              "   engineSize  \n",
              "0         2.0  \n",
              "1         2.0  \n",
              "2         3.0  \n",
              "3         1.5  \n",
              "4         3.0  "
            ],
            "text/html": [
              "\n",
              "  <div id=\"df-7fa034d6-f498-4a86-be3f-001528599a4f\">\n",
              "    <div class=\"colab-df-container\">\n",
              "      <div>\n",
              "<style scoped>\n",
              "    .dataframe tbody tr th:only-of-type {\n",
              "        vertical-align: middle;\n",
              "    }\n",
              "\n",
              "    .dataframe tbody tr th {\n",
              "        vertical-align: top;\n",
              "    }\n",
              "\n",
              "    .dataframe thead th {\n",
              "        text-align: right;\n",
              "    }\n",
              "</style>\n",
              "<table border=\"1\" class=\"dataframe\">\n",
              "  <thead>\n",
              "    <tr style=\"text-align: right;\">\n",
              "      <th></th>\n",
              "      <th>model</th>\n",
              "      <th>year</th>\n",
              "      <th>price</th>\n",
              "      <th>transmission</th>\n",
              "      <th>mileage</th>\n",
              "      <th>fuelType</th>\n",
              "      <th>tax</th>\n",
              "      <th>mpg</th>\n",
              "      <th>engineSize</th>\n",
              "    </tr>\n",
              "  </thead>\n",
              "  <tbody>\n",
              "    <tr>\n",
              "      <th>0</th>\n",
              "      <td>5 Series</td>\n",
              "      <td>2014</td>\n",
              "      <td>11200</td>\n",
              "      <td>Automatic</td>\n",
              "      <td>67068</td>\n",
              "      <td>Diesel</td>\n",
              "      <td>125</td>\n",
              "      <td>57.6</td>\n",
              "      <td>2.0</td>\n",
              "    </tr>\n",
              "    <tr>\n",
              "      <th>1</th>\n",
              "      <td>6 Series</td>\n",
              "      <td>2018</td>\n",
              "      <td>27000</td>\n",
              "      <td>Automatic</td>\n",
              "      <td>14827</td>\n",
              "      <td>Petrol</td>\n",
              "      <td>145</td>\n",
              "      <td>42.8</td>\n",
              "      <td>2.0</td>\n",
              "    </tr>\n",
              "    <tr>\n",
              "      <th>2</th>\n",
              "      <td>5 Series</td>\n",
              "      <td>2016</td>\n",
              "      <td>16000</td>\n",
              "      <td>Automatic</td>\n",
              "      <td>62794</td>\n",
              "      <td>Diesel</td>\n",
              "      <td>160</td>\n",
              "      <td>51.4</td>\n",
              "      <td>3.0</td>\n",
              "    </tr>\n",
              "    <tr>\n",
              "      <th>3</th>\n",
              "      <td>1 Series</td>\n",
              "      <td>2017</td>\n",
              "      <td>12750</td>\n",
              "      <td>Automatic</td>\n",
              "      <td>26676</td>\n",
              "      <td>Diesel</td>\n",
              "      <td>145</td>\n",
              "      <td>72.4</td>\n",
              "      <td>1.5</td>\n",
              "    </tr>\n",
              "    <tr>\n",
              "      <th>4</th>\n",
              "      <td>7 Series</td>\n",
              "      <td>2014</td>\n",
              "      <td>14500</td>\n",
              "      <td>Automatic</td>\n",
              "      <td>39554</td>\n",
              "      <td>Diesel</td>\n",
              "      <td>160</td>\n",
              "      <td>50.4</td>\n",
              "      <td>3.0</td>\n",
              "    </tr>\n",
              "  </tbody>\n",
              "</table>\n",
              "</div>\n",
              "      <button class=\"colab-df-convert\" onclick=\"convertToInteractive('df-7fa034d6-f498-4a86-be3f-001528599a4f')\"\n",
              "              title=\"Convert this dataframe to an interactive table.\"\n",
              "              style=\"display:none;\">\n",
              "        \n",
              "  <svg xmlns=\"http://www.w3.org/2000/svg\" height=\"24px\"viewBox=\"0 0 24 24\"\n",
              "       width=\"24px\">\n",
              "    <path d=\"M0 0h24v24H0V0z\" fill=\"none\"/>\n",
              "    <path d=\"M18.56 5.44l.94 2.06.94-2.06 2.06-.94-2.06-.94-.94-2.06-.94 2.06-2.06.94zm-11 1L8.5 8.5l.94-2.06 2.06-.94-2.06-.94L8.5 2.5l-.94 2.06-2.06.94zm10 10l.94 2.06.94-2.06 2.06-.94-2.06-.94-.94-2.06-.94 2.06-2.06.94z\"/><path d=\"M17.41 7.96l-1.37-1.37c-.4-.4-.92-.59-1.43-.59-.52 0-1.04.2-1.43.59L10.3 9.45l-7.72 7.72c-.78.78-.78 2.05 0 2.83L4 21.41c.39.39.9.59 1.41.59.51 0 1.02-.2 1.41-.59l7.78-7.78 2.81-2.81c.8-.78.8-2.07 0-2.86zM5.41 20L4 18.59l7.72-7.72 1.47 1.35L5.41 20z\"/>\n",
              "  </svg>\n",
              "      </button>\n",
              "      \n",
              "  <style>\n",
              "    .colab-df-container {\n",
              "      display:flex;\n",
              "      flex-wrap:wrap;\n",
              "      gap: 12px;\n",
              "    }\n",
              "\n",
              "    .colab-df-convert {\n",
              "      background-color: #E8F0FE;\n",
              "      border: none;\n",
              "      border-radius: 50%;\n",
              "      cursor: pointer;\n",
              "      display: none;\n",
              "      fill: #1967D2;\n",
              "      height: 32px;\n",
              "      padding: 0 0 0 0;\n",
              "      width: 32px;\n",
              "    }\n",
              "\n",
              "    .colab-df-convert:hover {\n",
              "      background-color: #E2EBFA;\n",
              "      box-shadow: 0px 1px 2px rgba(60, 64, 67, 0.3), 0px 1px 3px 1px rgba(60, 64, 67, 0.15);\n",
              "      fill: #174EA6;\n",
              "    }\n",
              "\n",
              "    [theme=dark] .colab-df-convert {\n",
              "      background-color: #3B4455;\n",
              "      fill: #D2E3FC;\n",
              "    }\n",
              "\n",
              "    [theme=dark] .colab-df-convert:hover {\n",
              "      background-color: #434B5C;\n",
              "      box-shadow: 0px 1px 3px 1px rgba(0, 0, 0, 0.15);\n",
              "      filter: drop-shadow(0px 1px 2px rgba(0, 0, 0, 0.3));\n",
              "      fill: #FFFFFF;\n",
              "    }\n",
              "  </style>\n",
              "\n",
              "      <script>\n",
              "        const buttonEl =\n",
              "          document.querySelector('#df-7fa034d6-f498-4a86-be3f-001528599a4f button.colab-df-convert');\n",
              "        buttonEl.style.display =\n",
              "          google.colab.kernel.accessAllowed ? 'block' : 'none';\n",
              "\n",
              "        async function convertToInteractive(key) {\n",
              "          const element = document.querySelector('#df-7fa034d6-f498-4a86-be3f-001528599a4f');\n",
              "          const dataTable =\n",
              "            await google.colab.kernel.invokeFunction('convertToInteractive',\n",
              "                                                     [key], {});\n",
              "          if (!dataTable) return;\n",
              "\n",
              "          const docLinkHtml = 'Like what you see? Visit the ' +\n",
              "            '<a target=\"_blank\" href=https://colab.research.google.com/notebooks/data_table.ipynb>data table notebook</a>'\n",
              "            + ' to learn more about interactive tables.';\n",
              "          element.innerHTML = '';\n",
              "          dataTable['output_type'] = 'display_data';\n",
              "          await google.colab.output.renderOutput(dataTable, element);\n",
              "          const docLink = document.createElement('div');\n",
              "          docLink.innerHTML = docLinkHtml;\n",
              "          element.appendChild(docLink);\n",
              "        }\n",
              "      </script>\n",
              "    </div>\n",
              "  </div>\n",
              "  "
            ]
          },
          "metadata": {},
          "execution_count": 7
        }
      ],
      "source": [
        "bmw_df.head(5)"
      ]
    },
    {
      "cell_type": "code",
      "execution_count": 8,
      "metadata": {
        "colab": {
          "base_uri": "https://localhost:8080/",
          "height": 206
        },
        "id": "j_7982IM-o_T",
        "outputId": "b624507d-a863-4745-8d89-46928ae51dcb"
      },
      "outputs": [
        {
          "output_type": "execute_result",
          "data": {
            "text/plain": [
              "     model  year  price transmission  mileage fuelType  tax   mpg  engineSize\n",
              "0   Fiesta  2017  12000    Automatic    15944   Petrol  150  57.7         1.0\n",
              "1    Focus  2018  14000       Manual     9083   Petrol  150  57.7         1.0\n",
              "2    Focus  2017  13000       Manual    12456   Petrol  150  57.7         1.0\n",
              "3   Fiesta  2019  17500       Manual    10460   Petrol  145  40.3         1.5\n",
              "4   Fiesta  2019  16500    Automatic     1482   Petrol  145  48.7         1.0"
            ],
            "text/html": [
              "\n",
              "  <div id=\"df-6fb0343f-babb-4eea-9976-c7cd8d1efa23\">\n",
              "    <div class=\"colab-df-container\">\n",
              "      <div>\n",
              "<style scoped>\n",
              "    .dataframe tbody tr th:only-of-type {\n",
              "        vertical-align: middle;\n",
              "    }\n",
              "\n",
              "    .dataframe tbody tr th {\n",
              "        vertical-align: top;\n",
              "    }\n",
              "\n",
              "    .dataframe thead th {\n",
              "        text-align: right;\n",
              "    }\n",
              "</style>\n",
              "<table border=\"1\" class=\"dataframe\">\n",
              "  <thead>\n",
              "    <tr style=\"text-align: right;\">\n",
              "      <th></th>\n",
              "      <th>model</th>\n",
              "      <th>year</th>\n",
              "      <th>price</th>\n",
              "      <th>transmission</th>\n",
              "      <th>mileage</th>\n",
              "      <th>fuelType</th>\n",
              "      <th>tax</th>\n",
              "      <th>mpg</th>\n",
              "      <th>engineSize</th>\n",
              "    </tr>\n",
              "  </thead>\n",
              "  <tbody>\n",
              "    <tr>\n",
              "      <th>0</th>\n",
              "      <td>Fiesta</td>\n",
              "      <td>2017</td>\n",
              "      <td>12000</td>\n",
              "      <td>Automatic</td>\n",
              "      <td>15944</td>\n",
              "      <td>Petrol</td>\n",
              "      <td>150</td>\n",
              "      <td>57.7</td>\n",
              "      <td>1.0</td>\n",
              "    </tr>\n",
              "    <tr>\n",
              "      <th>1</th>\n",
              "      <td>Focus</td>\n",
              "      <td>2018</td>\n",
              "      <td>14000</td>\n",
              "      <td>Manual</td>\n",
              "      <td>9083</td>\n",
              "      <td>Petrol</td>\n",
              "      <td>150</td>\n",
              "      <td>57.7</td>\n",
              "      <td>1.0</td>\n",
              "    </tr>\n",
              "    <tr>\n",
              "      <th>2</th>\n",
              "      <td>Focus</td>\n",
              "      <td>2017</td>\n",
              "      <td>13000</td>\n",
              "      <td>Manual</td>\n",
              "      <td>12456</td>\n",
              "      <td>Petrol</td>\n",
              "      <td>150</td>\n",
              "      <td>57.7</td>\n",
              "      <td>1.0</td>\n",
              "    </tr>\n",
              "    <tr>\n",
              "      <th>3</th>\n",
              "      <td>Fiesta</td>\n",
              "      <td>2019</td>\n",
              "      <td>17500</td>\n",
              "      <td>Manual</td>\n",
              "      <td>10460</td>\n",
              "      <td>Petrol</td>\n",
              "      <td>145</td>\n",
              "      <td>40.3</td>\n",
              "      <td>1.5</td>\n",
              "    </tr>\n",
              "    <tr>\n",
              "      <th>4</th>\n",
              "      <td>Fiesta</td>\n",
              "      <td>2019</td>\n",
              "      <td>16500</td>\n",
              "      <td>Automatic</td>\n",
              "      <td>1482</td>\n",
              "      <td>Petrol</td>\n",
              "      <td>145</td>\n",
              "      <td>48.7</td>\n",
              "      <td>1.0</td>\n",
              "    </tr>\n",
              "  </tbody>\n",
              "</table>\n",
              "</div>\n",
              "      <button class=\"colab-df-convert\" onclick=\"convertToInteractive('df-6fb0343f-babb-4eea-9976-c7cd8d1efa23')\"\n",
              "              title=\"Convert this dataframe to an interactive table.\"\n",
              "              style=\"display:none;\">\n",
              "        \n",
              "  <svg xmlns=\"http://www.w3.org/2000/svg\" height=\"24px\"viewBox=\"0 0 24 24\"\n",
              "       width=\"24px\">\n",
              "    <path d=\"M0 0h24v24H0V0z\" fill=\"none\"/>\n",
              "    <path d=\"M18.56 5.44l.94 2.06.94-2.06 2.06-.94-2.06-.94-.94-2.06-.94 2.06-2.06.94zm-11 1L8.5 8.5l.94-2.06 2.06-.94-2.06-.94L8.5 2.5l-.94 2.06-2.06.94zm10 10l.94 2.06.94-2.06 2.06-.94-2.06-.94-.94-2.06-.94 2.06-2.06.94z\"/><path d=\"M17.41 7.96l-1.37-1.37c-.4-.4-.92-.59-1.43-.59-.52 0-1.04.2-1.43.59L10.3 9.45l-7.72 7.72c-.78.78-.78 2.05 0 2.83L4 21.41c.39.39.9.59 1.41.59.51 0 1.02-.2 1.41-.59l7.78-7.78 2.81-2.81c.8-.78.8-2.07 0-2.86zM5.41 20L4 18.59l7.72-7.72 1.47 1.35L5.41 20z\"/>\n",
              "  </svg>\n",
              "      </button>\n",
              "      \n",
              "  <style>\n",
              "    .colab-df-container {\n",
              "      display:flex;\n",
              "      flex-wrap:wrap;\n",
              "      gap: 12px;\n",
              "    }\n",
              "\n",
              "    .colab-df-convert {\n",
              "      background-color: #E8F0FE;\n",
              "      border: none;\n",
              "      border-radius: 50%;\n",
              "      cursor: pointer;\n",
              "      display: none;\n",
              "      fill: #1967D2;\n",
              "      height: 32px;\n",
              "      padding: 0 0 0 0;\n",
              "      width: 32px;\n",
              "    }\n",
              "\n",
              "    .colab-df-convert:hover {\n",
              "      background-color: #E2EBFA;\n",
              "      box-shadow: 0px 1px 2px rgba(60, 64, 67, 0.3), 0px 1px 3px 1px rgba(60, 64, 67, 0.15);\n",
              "      fill: #174EA6;\n",
              "    }\n",
              "\n",
              "    [theme=dark] .colab-df-convert {\n",
              "      background-color: #3B4455;\n",
              "      fill: #D2E3FC;\n",
              "    }\n",
              "\n",
              "    [theme=dark] .colab-df-convert:hover {\n",
              "      background-color: #434B5C;\n",
              "      box-shadow: 0px 1px 3px 1px rgba(0, 0, 0, 0.15);\n",
              "      filter: drop-shadow(0px 1px 2px rgba(0, 0, 0, 0.3));\n",
              "      fill: #FFFFFF;\n",
              "    }\n",
              "  </style>\n",
              "\n",
              "      <script>\n",
              "        const buttonEl =\n",
              "          document.querySelector('#df-6fb0343f-babb-4eea-9976-c7cd8d1efa23 button.colab-df-convert');\n",
              "        buttonEl.style.display =\n",
              "          google.colab.kernel.accessAllowed ? 'block' : 'none';\n",
              "\n",
              "        async function convertToInteractive(key) {\n",
              "          const element = document.querySelector('#df-6fb0343f-babb-4eea-9976-c7cd8d1efa23');\n",
              "          const dataTable =\n",
              "            await google.colab.kernel.invokeFunction('convertToInteractive',\n",
              "                                                     [key], {});\n",
              "          if (!dataTable) return;\n",
              "\n",
              "          const docLinkHtml = 'Like what you see? Visit the ' +\n",
              "            '<a target=\"_blank\" href=https://colab.research.google.com/notebooks/data_table.ipynb>data table notebook</a>'\n",
              "            + ' to learn more about interactive tables.';\n",
              "          element.innerHTML = '';\n",
              "          dataTable['output_type'] = 'display_data';\n",
              "          await google.colab.output.renderOutput(dataTable, element);\n",
              "          const docLink = document.createElement('div');\n",
              "          docLink.innerHTML = docLinkHtml;\n",
              "          element.appendChild(docLink);\n",
              "        }\n",
              "      </script>\n",
              "    </div>\n",
              "  </div>\n",
              "  "
            ]
          },
          "metadata": {},
          "execution_count": 8
        }
      ],
      "source": [
        "ford_df.head(5)"
      ]
    },
    {
      "cell_type": "code",
      "execution_count": 9,
      "metadata": {
        "colab": {
          "base_uri": "https://localhost:8080/",
          "height": 206
        },
        "id": "XQ67YFZs-rHR",
        "outputId": "69eeb24a-18ea-4360-e95b-3fd34b7e9530"
      },
      "outputs": [
        {
          "output_type": "execute_result",
          "data": {
            "text/plain": [
              "     model  year  price transmission  mileage fuelType  tax(£)   mpg  \\\n",
              "0      I20  2017   7999       Manual    17307   Petrol     145  58.9   \n",
              "1   Tucson  2016  14499    Automatic    25233   Diesel     235  43.5   \n",
              "2   Tucson  2016  11399       Manual    37877   Diesel      30  61.7   \n",
              "3      I10  2016   6499       Manual    23789   Petrol      20  60.1   \n",
              "4     IX35  2015  10199       Manual    33177   Diesel     160  51.4   \n",
              "\n",
              "   engineSize  \n",
              "0         1.2  \n",
              "1         2.0  \n",
              "2         1.7  \n",
              "3         1.0  \n",
              "4         2.0  "
            ],
            "text/html": [
              "\n",
              "  <div id=\"df-019a8b36-be02-40bb-8ca7-b818c054348c\">\n",
              "    <div class=\"colab-df-container\">\n",
              "      <div>\n",
              "<style scoped>\n",
              "    .dataframe tbody tr th:only-of-type {\n",
              "        vertical-align: middle;\n",
              "    }\n",
              "\n",
              "    .dataframe tbody tr th {\n",
              "        vertical-align: top;\n",
              "    }\n",
              "\n",
              "    .dataframe thead th {\n",
              "        text-align: right;\n",
              "    }\n",
              "</style>\n",
              "<table border=\"1\" class=\"dataframe\">\n",
              "  <thead>\n",
              "    <tr style=\"text-align: right;\">\n",
              "      <th></th>\n",
              "      <th>model</th>\n",
              "      <th>year</th>\n",
              "      <th>price</th>\n",
              "      <th>transmission</th>\n",
              "      <th>mileage</th>\n",
              "      <th>fuelType</th>\n",
              "      <th>tax(£)</th>\n",
              "      <th>mpg</th>\n",
              "      <th>engineSize</th>\n",
              "    </tr>\n",
              "  </thead>\n",
              "  <tbody>\n",
              "    <tr>\n",
              "      <th>0</th>\n",
              "      <td>I20</td>\n",
              "      <td>2017</td>\n",
              "      <td>7999</td>\n",
              "      <td>Manual</td>\n",
              "      <td>17307</td>\n",
              "      <td>Petrol</td>\n",
              "      <td>145</td>\n",
              "      <td>58.9</td>\n",
              "      <td>1.2</td>\n",
              "    </tr>\n",
              "    <tr>\n",
              "      <th>1</th>\n",
              "      <td>Tucson</td>\n",
              "      <td>2016</td>\n",
              "      <td>14499</td>\n",
              "      <td>Automatic</td>\n",
              "      <td>25233</td>\n",
              "      <td>Diesel</td>\n",
              "      <td>235</td>\n",
              "      <td>43.5</td>\n",
              "      <td>2.0</td>\n",
              "    </tr>\n",
              "    <tr>\n",
              "      <th>2</th>\n",
              "      <td>Tucson</td>\n",
              "      <td>2016</td>\n",
              "      <td>11399</td>\n",
              "      <td>Manual</td>\n",
              "      <td>37877</td>\n",
              "      <td>Diesel</td>\n",
              "      <td>30</td>\n",
              "      <td>61.7</td>\n",
              "      <td>1.7</td>\n",
              "    </tr>\n",
              "    <tr>\n",
              "      <th>3</th>\n",
              "      <td>I10</td>\n",
              "      <td>2016</td>\n",
              "      <td>6499</td>\n",
              "      <td>Manual</td>\n",
              "      <td>23789</td>\n",
              "      <td>Petrol</td>\n",
              "      <td>20</td>\n",
              "      <td>60.1</td>\n",
              "      <td>1.0</td>\n",
              "    </tr>\n",
              "    <tr>\n",
              "      <th>4</th>\n",
              "      <td>IX35</td>\n",
              "      <td>2015</td>\n",
              "      <td>10199</td>\n",
              "      <td>Manual</td>\n",
              "      <td>33177</td>\n",
              "      <td>Diesel</td>\n",
              "      <td>160</td>\n",
              "      <td>51.4</td>\n",
              "      <td>2.0</td>\n",
              "    </tr>\n",
              "  </tbody>\n",
              "</table>\n",
              "</div>\n",
              "      <button class=\"colab-df-convert\" onclick=\"convertToInteractive('df-019a8b36-be02-40bb-8ca7-b818c054348c')\"\n",
              "              title=\"Convert this dataframe to an interactive table.\"\n",
              "              style=\"display:none;\">\n",
              "        \n",
              "  <svg xmlns=\"http://www.w3.org/2000/svg\" height=\"24px\"viewBox=\"0 0 24 24\"\n",
              "       width=\"24px\">\n",
              "    <path d=\"M0 0h24v24H0V0z\" fill=\"none\"/>\n",
              "    <path d=\"M18.56 5.44l.94 2.06.94-2.06 2.06-.94-2.06-.94-.94-2.06-.94 2.06-2.06.94zm-11 1L8.5 8.5l.94-2.06 2.06-.94-2.06-.94L8.5 2.5l-.94 2.06-2.06.94zm10 10l.94 2.06.94-2.06 2.06-.94-2.06-.94-.94-2.06-.94 2.06-2.06.94z\"/><path d=\"M17.41 7.96l-1.37-1.37c-.4-.4-.92-.59-1.43-.59-.52 0-1.04.2-1.43.59L10.3 9.45l-7.72 7.72c-.78.78-.78 2.05 0 2.83L4 21.41c.39.39.9.59 1.41.59.51 0 1.02-.2 1.41-.59l7.78-7.78 2.81-2.81c.8-.78.8-2.07 0-2.86zM5.41 20L4 18.59l7.72-7.72 1.47 1.35L5.41 20z\"/>\n",
              "  </svg>\n",
              "      </button>\n",
              "      \n",
              "  <style>\n",
              "    .colab-df-container {\n",
              "      display:flex;\n",
              "      flex-wrap:wrap;\n",
              "      gap: 12px;\n",
              "    }\n",
              "\n",
              "    .colab-df-convert {\n",
              "      background-color: #E8F0FE;\n",
              "      border: none;\n",
              "      border-radius: 50%;\n",
              "      cursor: pointer;\n",
              "      display: none;\n",
              "      fill: #1967D2;\n",
              "      height: 32px;\n",
              "      padding: 0 0 0 0;\n",
              "      width: 32px;\n",
              "    }\n",
              "\n",
              "    .colab-df-convert:hover {\n",
              "      background-color: #E2EBFA;\n",
              "      box-shadow: 0px 1px 2px rgba(60, 64, 67, 0.3), 0px 1px 3px 1px rgba(60, 64, 67, 0.15);\n",
              "      fill: #174EA6;\n",
              "    }\n",
              "\n",
              "    [theme=dark] .colab-df-convert {\n",
              "      background-color: #3B4455;\n",
              "      fill: #D2E3FC;\n",
              "    }\n",
              "\n",
              "    [theme=dark] .colab-df-convert:hover {\n",
              "      background-color: #434B5C;\n",
              "      box-shadow: 0px 1px 3px 1px rgba(0, 0, 0, 0.15);\n",
              "      filter: drop-shadow(0px 1px 2px rgba(0, 0, 0, 0.3));\n",
              "      fill: #FFFFFF;\n",
              "    }\n",
              "  </style>\n",
              "\n",
              "      <script>\n",
              "        const buttonEl =\n",
              "          document.querySelector('#df-019a8b36-be02-40bb-8ca7-b818c054348c button.colab-df-convert');\n",
              "        buttonEl.style.display =\n",
              "          google.colab.kernel.accessAllowed ? 'block' : 'none';\n",
              "\n",
              "        async function convertToInteractive(key) {\n",
              "          const element = document.querySelector('#df-019a8b36-be02-40bb-8ca7-b818c054348c');\n",
              "          const dataTable =\n",
              "            await google.colab.kernel.invokeFunction('convertToInteractive',\n",
              "                                                     [key], {});\n",
              "          if (!dataTable) return;\n",
              "\n",
              "          const docLinkHtml = 'Like what you see? Visit the ' +\n",
              "            '<a target=\"_blank\" href=https://colab.research.google.com/notebooks/data_table.ipynb>data table notebook</a>'\n",
              "            + ' to learn more about interactive tables.';\n",
              "          element.innerHTML = '';\n",
              "          dataTable['output_type'] = 'display_data';\n",
              "          await google.colab.output.renderOutput(dataTable, element);\n",
              "          const docLink = document.createElement('div');\n",
              "          docLink.innerHTML = docLinkHtml;\n",
              "          element.appendChild(docLink);\n",
              "        }\n",
              "      </script>\n",
              "    </div>\n",
              "  </div>\n",
              "  "
            ]
          },
          "metadata": {},
          "execution_count": 9
        }
      ],
      "source": [
        "hyundi_df.head(5)"
      ]
    },
    {
      "cell_type": "code",
      "execution_count": 10,
      "metadata": {
        "colab": {
          "base_uri": "https://localhost:8080/",
          "height": 206
        },
        "id": "M59H_jmG-s6S",
        "outputId": "46d43d0c-3651-45a5-fb52-b9353d5eee0b"
      },
      "outputs": [
        {
          "output_type": "execute_result",
          "data": {
            "text/plain": [
              "       model  year  price transmission  mileage fuelType  tax   mpg  \\\n",
              "0        SLK  2005   5200    Automatic    63000   Petrol  325  32.1   \n",
              "1    S Class  2017  34948    Automatic    27000   Hybrid   20  61.4   \n",
              "2   SL CLASS  2016  49948    Automatic     6200   Petrol  555  28.0   \n",
              "3    G Class  2016  61948    Automatic    16000   Petrol  325  30.4   \n",
              "4    G Class  2016  73948    Automatic     4000   Petrol  325  30.1   \n",
              "\n",
              "   engineSize  \n",
              "0         1.8  \n",
              "1         2.1  \n",
              "2         5.5  \n",
              "3         4.0  \n",
              "4         4.0  "
            ],
            "text/html": [
              "\n",
              "  <div id=\"df-22c34f82-eee7-47d1-983c-ded86e723398\">\n",
              "    <div class=\"colab-df-container\">\n",
              "      <div>\n",
              "<style scoped>\n",
              "    .dataframe tbody tr th:only-of-type {\n",
              "        vertical-align: middle;\n",
              "    }\n",
              "\n",
              "    .dataframe tbody tr th {\n",
              "        vertical-align: top;\n",
              "    }\n",
              "\n",
              "    .dataframe thead th {\n",
              "        text-align: right;\n",
              "    }\n",
              "</style>\n",
              "<table border=\"1\" class=\"dataframe\">\n",
              "  <thead>\n",
              "    <tr style=\"text-align: right;\">\n",
              "      <th></th>\n",
              "      <th>model</th>\n",
              "      <th>year</th>\n",
              "      <th>price</th>\n",
              "      <th>transmission</th>\n",
              "      <th>mileage</th>\n",
              "      <th>fuelType</th>\n",
              "      <th>tax</th>\n",
              "      <th>mpg</th>\n",
              "      <th>engineSize</th>\n",
              "    </tr>\n",
              "  </thead>\n",
              "  <tbody>\n",
              "    <tr>\n",
              "      <th>0</th>\n",
              "      <td>SLK</td>\n",
              "      <td>2005</td>\n",
              "      <td>5200</td>\n",
              "      <td>Automatic</td>\n",
              "      <td>63000</td>\n",
              "      <td>Petrol</td>\n",
              "      <td>325</td>\n",
              "      <td>32.1</td>\n",
              "      <td>1.8</td>\n",
              "    </tr>\n",
              "    <tr>\n",
              "      <th>1</th>\n",
              "      <td>S Class</td>\n",
              "      <td>2017</td>\n",
              "      <td>34948</td>\n",
              "      <td>Automatic</td>\n",
              "      <td>27000</td>\n",
              "      <td>Hybrid</td>\n",
              "      <td>20</td>\n",
              "      <td>61.4</td>\n",
              "      <td>2.1</td>\n",
              "    </tr>\n",
              "    <tr>\n",
              "      <th>2</th>\n",
              "      <td>SL CLASS</td>\n",
              "      <td>2016</td>\n",
              "      <td>49948</td>\n",
              "      <td>Automatic</td>\n",
              "      <td>6200</td>\n",
              "      <td>Petrol</td>\n",
              "      <td>555</td>\n",
              "      <td>28.0</td>\n",
              "      <td>5.5</td>\n",
              "    </tr>\n",
              "    <tr>\n",
              "      <th>3</th>\n",
              "      <td>G Class</td>\n",
              "      <td>2016</td>\n",
              "      <td>61948</td>\n",
              "      <td>Automatic</td>\n",
              "      <td>16000</td>\n",
              "      <td>Petrol</td>\n",
              "      <td>325</td>\n",
              "      <td>30.4</td>\n",
              "      <td>4.0</td>\n",
              "    </tr>\n",
              "    <tr>\n",
              "      <th>4</th>\n",
              "      <td>G Class</td>\n",
              "      <td>2016</td>\n",
              "      <td>73948</td>\n",
              "      <td>Automatic</td>\n",
              "      <td>4000</td>\n",
              "      <td>Petrol</td>\n",
              "      <td>325</td>\n",
              "      <td>30.1</td>\n",
              "      <td>4.0</td>\n",
              "    </tr>\n",
              "  </tbody>\n",
              "</table>\n",
              "</div>\n",
              "      <button class=\"colab-df-convert\" onclick=\"convertToInteractive('df-22c34f82-eee7-47d1-983c-ded86e723398')\"\n",
              "              title=\"Convert this dataframe to an interactive table.\"\n",
              "              style=\"display:none;\">\n",
              "        \n",
              "  <svg xmlns=\"http://www.w3.org/2000/svg\" height=\"24px\"viewBox=\"0 0 24 24\"\n",
              "       width=\"24px\">\n",
              "    <path d=\"M0 0h24v24H0V0z\" fill=\"none\"/>\n",
              "    <path d=\"M18.56 5.44l.94 2.06.94-2.06 2.06-.94-2.06-.94-.94-2.06-.94 2.06-2.06.94zm-11 1L8.5 8.5l.94-2.06 2.06-.94-2.06-.94L8.5 2.5l-.94 2.06-2.06.94zm10 10l.94 2.06.94-2.06 2.06-.94-2.06-.94-.94-2.06-.94 2.06-2.06.94z\"/><path d=\"M17.41 7.96l-1.37-1.37c-.4-.4-.92-.59-1.43-.59-.52 0-1.04.2-1.43.59L10.3 9.45l-7.72 7.72c-.78.78-.78 2.05 0 2.83L4 21.41c.39.39.9.59 1.41.59.51 0 1.02-.2 1.41-.59l7.78-7.78 2.81-2.81c.8-.78.8-2.07 0-2.86zM5.41 20L4 18.59l7.72-7.72 1.47 1.35L5.41 20z\"/>\n",
              "  </svg>\n",
              "      </button>\n",
              "      \n",
              "  <style>\n",
              "    .colab-df-container {\n",
              "      display:flex;\n",
              "      flex-wrap:wrap;\n",
              "      gap: 12px;\n",
              "    }\n",
              "\n",
              "    .colab-df-convert {\n",
              "      background-color: #E8F0FE;\n",
              "      border: none;\n",
              "      border-radius: 50%;\n",
              "      cursor: pointer;\n",
              "      display: none;\n",
              "      fill: #1967D2;\n",
              "      height: 32px;\n",
              "      padding: 0 0 0 0;\n",
              "      width: 32px;\n",
              "    }\n",
              "\n",
              "    .colab-df-convert:hover {\n",
              "      background-color: #E2EBFA;\n",
              "      box-shadow: 0px 1px 2px rgba(60, 64, 67, 0.3), 0px 1px 3px 1px rgba(60, 64, 67, 0.15);\n",
              "      fill: #174EA6;\n",
              "    }\n",
              "\n",
              "    [theme=dark] .colab-df-convert {\n",
              "      background-color: #3B4455;\n",
              "      fill: #D2E3FC;\n",
              "    }\n",
              "\n",
              "    [theme=dark] .colab-df-convert:hover {\n",
              "      background-color: #434B5C;\n",
              "      box-shadow: 0px 1px 3px 1px rgba(0, 0, 0, 0.15);\n",
              "      filter: drop-shadow(0px 1px 2px rgba(0, 0, 0, 0.3));\n",
              "      fill: #FFFFFF;\n",
              "    }\n",
              "  </style>\n",
              "\n",
              "      <script>\n",
              "        const buttonEl =\n",
              "          document.querySelector('#df-22c34f82-eee7-47d1-983c-ded86e723398 button.colab-df-convert');\n",
              "        buttonEl.style.display =\n",
              "          google.colab.kernel.accessAllowed ? 'block' : 'none';\n",
              "\n",
              "        async function convertToInteractive(key) {\n",
              "          const element = document.querySelector('#df-22c34f82-eee7-47d1-983c-ded86e723398');\n",
              "          const dataTable =\n",
              "            await google.colab.kernel.invokeFunction('convertToInteractive',\n",
              "                                                     [key], {});\n",
              "          if (!dataTable) return;\n",
              "\n",
              "          const docLinkHtml = 'Like what you see? Visit the ' +\n",
              "            '<a target=\"_blank\" href=https://colab.research.google.com/notebooks/data_table.ipynb>data table notebook</a>'\n",
              "            + ' to learn more about interactive tables.';\n",
              "          element.innerHTML = '';\n",
              "          dataTable['output_type'] = 'display_data';\n",
              "          await google.colab.output.renderOutput(dataTable, element);\n",
              "          const docLink = document.createElement('div');\n",
              "          docLink.innerHTML = docLinkHtml;\n",
              "          element.appendChild(docLink);\n",
              "        }\n",
              "      </script>\n",
              "    </div>\n",
              "  </div>\n",
              "  "
            ]
          },
          "metadata": {},
          "execution_count": 10
        }
      ],
      "source": [
        "merc_df.head(5)"
      ]
    },
    {
      "cell_type": "code",
      "execution_count": 11,
      "metadata": {
        "colab": {
          "base_uri": "https://localhost:8080/",
          "height": 206
        },
        "id": "FIAj_hlZ-vo-",
        "outputId": "2a9371e6-327f-4e5b-dc09-0da1a4d340f3"
      },
      "outputs": [
        {
          "output_type": "execute_result",
          "data": {
            "text/plain": [
              "   model  year  price transmission  mileage fuelType  tax   mpg  engineSize\n",
              "0   GT86  2016  16000       Manual    24089   Petrol  265  36.2         2.0\n",
              "1   GT86  2017  15995       Manual    18615   Petrol  145  36.2         2.0\n",
              "2   GT86  2015  13998       Manual    27469   Petrol  265  36.2         2.0\n",
              "3   GT86  2017  18998       Manual    14736   Petrol  150  36.2         2.0\n",
              "4   GT86  2017  17498       Manual    36284   Petrol  145  36.2         2.0"
            ],
            "text/html": [
              "\n",
              "  <div id=\"df-9e664b7e-b90d-480f-845e-74780c67ab69\">\n",
              "    <div class=\"colab-df-container\">\n",
              "      <div>\n",
              "<style scoped>\n",
              "    .dataframe tbody tr th:only-of-type {\n",
              "        vertical-align: middle;\n",
              "    }\n",
              "\n",
              "    .dataframe tbody tr th {\n",
              "        vertical-align: top;\n",
              "    }\n",
              "\n",
              "    .dataframe thead th {\n",
              "        text-align: right;\n",
              "    }\n",
              "</style>\n",
              "<table border=\"1\" class=\"dataframe\">\n",
              "  <thead>\n",
              "    <tr style=\"text-align: right;\">\n",
              "      <th></th>\n",
              "      <th>model</th>\n",
              "      <th>year</th>\n",
              "      <th>price</th>\n",
              "      <th>transmission</th>\n",
              "      <th>mileage</th>\n",
              "      <th>fuelType</th>\n",
              "      <th>tax</th>\n",
              "      <th>mpg</th>\n",
              "      <th>engineSize</th>\n",
              "    </tr>\n",
              "  </thead>\n",
              "  <tbody>\n",
              "    <tr>\n",
              "      <th>0</th>\n",
              "      <td>GT86</td>\n",
              "      <td>2016</td>\n",
              "      <td>16000</td>\n",
              "      <td>Manual</td>\n",
              "      <td>24089</td>\n",
              "      <td>Petrol</td>\n",
              "      <td>265</td>\n",
              "      <td>36.2</td>\n",
              "      <td>2.0</td>\n",
              "    </tr>\n",
              "    <tr>\n",
              "      <th>1</th>\n",
              "      <td>GT86</td>\n",
              "      <td>2017</td>\n",
              "      <td>15995</td>\n",
              "      <td>Manual</td>\n",
              "      <td>18615</td>\n",
              "      <td>Petrol</td>\n",
              "      <td>145</td>\n",
              "      <td>36.2</td>\n",
              "      <td>2.0</td>\n",
              "    </tr>\n",
              "    <tr>\n",
              "      <th>2</th>\n",
              "      <td>GT86</td>\n",
              "      <td>2015</td>\n",
              "      <td>13998</td>\n",
              "      <td>Manual</td>\n",
              "      <td>27469</td>\n",
              "      <td>Petrol</td>\n",
              "      <td>265</td>\n",
              "      <td>36.2</td>\n",
              "      <td>2.0</td>\n",
              "    </tr>\n",
              "    <tr>\n",
              "      <th>3</th>\n",
              "      <td>GT86</td>\n",
              "      <td>2017</td>\n",
              "      <td>18998</td>\n",
              "      <td>Manual</td>\n",
              "      <td>14736</td>\n",
              "      <td>Petrol</td>\n",
              "      <td>150</td>\n",
              "      <td>36.2</td>\n",
              "      <td>2.0</td>\n",
              "    </tr>\n",
              "    <tr>\n",
              "      <th>4</th>\n",
              "      <td>GT86</td>\n",
              "      <td>2017</td>\n",
              "      <td>17498</td>\n",
              "      <td>Manual</td>\n",
              "      <td>36284</td>\n",
              "      <td>Petrol</td>\n",
              "      <td>145</td>\n",
              "      <td>36.2</td>\n",
              "      <td>2.0</td>\n",
              "    </tr>\n",
              "  </tbody>\n",
              "</table>\n",
              "</div>\n",
              "      <button class=\"colab-df-convert\" onclick=\"convertToInteractive('df-9e664b7e-b90d-480f-845e-74780c67ab69')\"\n",
              "              title=\"Convert this dataframe to an interactive table.\"\n",
              "              style=\"display:none;\">\n",
              "        \n",
              "  <svg xmlns=\"http://www.w3.org/2000/svg\" height=\"24px\"viewBox=\"0 0 24 24\"\n",
              "       width=\"24px\">\n",
              "    <path d=\"M0 0h24v24H0V0z\" fill=\"none\"/>\n",
              "    <path d=\"M18.56 5.44l.94 2.06.94-2.06 2.06-.94-2.06-.94-.94-2.06-.94 2.06-2.06.94zm-11 1L8.5 8.5l.94-2.06 2.06-.94-2.06-.94L8.5 2.5l-.94 2.06-2.06.94zm10 10l.94 2.06.94-2.06 2.06-.94-2.06-.94-.94-2.06-.94 2.06-2.06.94z\"/><path d=\"M17.41 7.96l-1.37-1.37c-.4-.4-.92-.59-1.43-.59-.52 0-1.04.2-1.43.59L10.3 9.45l-7.72 7.72c-.78.78-.78 2.05 0 2.83L4 21.41c.39.39.9.59 1.41.59.51 0 1.02-.2 1.41-.59l7.78-7.78 2.81-2.81c.8-.78.8-2.07 0-2.86zM5.41 20L4 18.59l7.72-7.72 1.47 1.35L5.41 20z\"/>\n",
              "  </svg>\n",
              "      </button>\n",
              "      \n",
              "  <style>\n",
              "    .colab-df-container {\n",
              "      display:flex;\n",
              "      flex-wrap:wrap;\n",
              "      gap: 12px;\n",
              "    }\n",
              "\n",
              "    .colab-df-convert {\n",
              "      background-color: #E8F0FE;\n",
              "      border: none;\n",
              "      border-radius: 50%;\n",
              "      cursor: pointer;\n",
              "      display: none;\n",
              "      fill: #1967D2;\n",
              "      height: 32px;\n",
              "      padding: 0 0 0 0;\n",
              "      width: 32px;\n",
              "    }\n",
              "\n",
              "    .colab-df-convert:hover {\n",
              "      background-color: #E2EBFA;\n",
              "      box-shadow: 0px 1px 2px rgba(60, 64, 67, 0.3), 0px 1px 3px 1px rgba(60, 64, 67, 0.15);\n",
              "      fill: #174EA6;\n",
              "    }\n",
              "\n",
              "    [theme=dark] .colab-df-convert {\n",
              "      background-color: #3B4455;\n",
              "      fill: #D2E3FC;\n",
              "    }\n",
              "\n",
              "    [theme=dark] .colab-df-convert:hover {\n",
              "      background-color: #434B5C;\n",
              "      box-shadow: 0px 1px 3px 1px rgba(0, 0, 0, 0.15);\n",
              "      filter: drop-shadow(0px 1px 2px rgba(0, 0, 0, 0.3));\n",
              "      fill: #FFFFFF;\n",
              "    }\n",
              "  </style>\n",
              "\n",
              "      <script>\n",
              "        const buttonEl =\n",
              "          document.querySelector('#df-9e664b7e-b90d-480f-845e-74780c67ab69 button.colab-df-convert');\n",
              "        buttonEl.style.display =\n",
              "          google.colab.kernel.accessAllowed ? 'block' : 'none';\n",
              "\n",
              "        async function convertToInteractive(key) {\n",
              "          const element = document.querySelector('#df-9e664b7e-b90d-480f-845e-74780c67ab69');\n",
              "          const dataTable =\n",
              "            await google.colab.kernel.invokeFunction('convertToInteractive',\n",
              "                                                     [key], {});\n",
              "          if (!dataTable) return;\n",
              "\n",
              "          const docLinkHtml = 'Like what you see? Visit the ' +\n",
              "            '<a target=\"_blank\" href=https://colab.research.google.com/notebooks/data_table.ipynb>data table notebook</a>'\n",
              "            + ' to learn more about interactive tables.';\n",
              "          element.innerHTML = '';\n",
              "          dataTable['output_type'] = 'display_data';\n",
              "          await google.colab.output.renderOutput(dataTable, element);\n",
              "          const docLink = document.createElement('div');\n",
              "          docLink.innerHTML = docLinkHtml;\n",
              "          element.appendChild(docLink);\n",
              "        }\n",
              "      </script>\n",
              "    </div>\n",
              "  </div>\n",
              "  "
            ]
          },
          "metadata": {},
          "execution_count": 11
        }
      ],
      "source": [
        "toyota_df.head(5)"
      ]
    },
    {
      "cell_type": "code",
      "execution_count": 12,
      "metadata": {
        "colab": {
          "base_uri": "https://localhost:8080/",
          "height": 206
        },
        "id": "a8sKYHB3-1s5",
        "outputId": "58b21cea-11f2-464c-fd5f-ec9943b4e6fa"
      },
      "outputs": [
        {
          "output_type": "execute_result",
          "data": {
            "text/plain": [
              "    model  year  price transmission  mileage fuelType  tax   mpg  engineSize\n",
              "0   Corsa  2018   7885       Manual     9876   Petrol  145  55.4         1.4\n",
              "1   Corsa  2019  11995       Manual     2500   Petrol  145  54.3         1.4\n",
              "2   Corsa  2017   9777    Automatic     9625   Petrol  145  47.9         1.4\n",
              "3   Corsa  2016   8500       Manual    25796   Petrol   30  55.4         1.4\n",
              "4   Corsa  2019  10000       Manual     3887   Petrol  145  43.5         1.4"
            ],
            "text/html": [
              "\n",
              "  <div id=\"df-5b242d5b-2b9e-41c7-898f-fe06e36e258f\">\n",
              "    <div class=\"colab-df-container\">\n",
              "      <div>\n",
              "<style scoped>\n",
              "    .dataframe tbody tr th:only-of-type {\n",
              "        vertical-align: middle;\n",
              "    }\n",
              "\n",
              "    .dataframe tbody tr th {\n",
              "        vertical-align: top;\n",
              "    }\n",
              "\n",
              "    .dataframe thead th {\n",
              "        text-align: right;\n",
              "    }\n",
              "</style>\n",
              "<table border=\"1\" class=\"dataframe\">\n",
              "  <thead>\n",
              "    <tr style=\"text-align: right;\">\n",
              "      <th></th>\n",
              "      <th>model</th>\n",
              "      <th>year</th>\n",
              "      <th>price</th>\n",
              "      <th>transmission</th>\n",
              "      <th>mileage</th>\n",
              "      <th>fuelType</th>\n",
              "      <th>tax</th>\n",
              "      <th>mpg</th>\n",
              "      <th>engineSize</th>\n",
              "    </tr>\n",
              "  </thead>\n",
              "  <tbody>\n",
              "    <tr>\n",
              "      <th>0</th>\n",
              "      <td>Corsa</td>\n",
              "      <td>2018</td>\n",
              "      <td>7885</td>\n",
              "      <td>Manual</td>\n",
              "      <td>9876</td>\n",
              "      <td>Petrol</td>\n",
              "      <td>145</td>\n",
              "      <td>55.4</td>\n",
              "      <td>1.4</td>\n",
              "    </tr>\n",
              "    <tr>\n",
              "      <th>1</th>\n",
              "      <td>Corsa</td>\n",
              "      <td>2019</td>\n",
              "      <td>11995</td>\n",
              "      <td>Manual</td>\n",
              "      <td>2500</td>\n",
              "      <td>Petrol</td>\n",
              "      <td>145</td>\n",
              "      <td>54.3</td>\n",
              "      <td>1.4</td>\n",
              "    </tr>\n",
              "    <tr>\n",
              "      <th>2</th>\n",
              "      <td>Corsa</td>\n",
              "      <td>2017</td>\n",
              "      <td>9777</td>\n",
              "      <td>Automatic</td>\n",
              "      <td>9625</td>\n",
              "      <td>Petrol</td>\n",
              "      <td>145</td>\n",
              "      <td>47.9</td>\n",
              "      <td>1.4</td>\n",
              "    </tr>\n",
              "    <tr>\n",
              "      <th>3</th>\n",
              "      <td>Corsa</td>\n",
              "      <td>2016</td>\n",
              "      <td>8500</td>\n",
              "      <td>Manual</td>\n",
              "      <td>25796</td>\n",
              "      <td>Petrol</td>\n",
              "      <td>30</td>\n",
              "      <td>55.4</td>\n",
              "      <td>1.4</td>\n",
              "    </tr>\n",
              "    <tr>\n",
              "      <th>4</th>\n",
              "      <td>Corsa</td>\n",
              "      <td>2019</td>\n",
              "      <td>10000</td>\n",
              "      <td>Manual</td>\n",
              "      <td>3887</td>\n",
              "      <td>Petrol</td>\n",
              "      <td>145</td>\n",
              "      <td>43.5</td>\n",
              "      <td>1.4</td>\n",
              "    </tr>\n",
              "  </tbody>\n",
              "</table>\n",
              "</div>\n",
              "      <button class=\"colab-df-convert\" onclick=\"convertToInteractive('df-5b242d5b-2b9e-41c7-898f-fe06e36e258f')\"\n",
              "              title=\"Convert this dataframe to an interactive table.\"\n",
              "              style=\"display:none;\">\n",
              "        \n",
              "  <svg xmlns=\"http://www.w3.org/2000/svg\" height=\"24px\"viewBox=\"0 0 24 24\"\n",
              "       width=\"24px\">\n",
              "    <path d=\"M0 0h24v24H0V0z\" fill=\"none\"/>\n",
              "    <path d=\"M18.56 5.44l.94 2.06.94-2.06 2.06-.94-2.06-.94-.94-2.06-.94 2.06-2.06.94zm-11 1L8.5 8.5l.94-2.06 2.06-.94-2.06-.94L8.5 2.5l-.94 2.06-2.06.94zm10 10l.94 2.06.94-2.06 2.06-.94-2.06-.94-.94-2.06-.94 2.06-2.06.94z\"/><path d=\"M17.41 7.96l-1.37-1.37c-.4-.4-.92-.59-1.43-.59-.52 0-1.04.2-1.43.59L10.3 9.45l-7.72 7.72c-.78.78-.78 2.05 0 2.83L4 21.41c.39.39.9.59 1.41.59.51 0 1.02-.2 1.41-.59l7.78-7.78 2.81-2.81c.8-.78.8-2.07 0-2.86zM5.41 20L4 18.59l7.72-7.72 1.47 1.35L5.41 20z\"/>\n",
              "  </svg>\n",
              "      </button>\n",
              "      \n",
              "  <style>\n",
              "    .colab-df-container {\n",
              "      display:flex;\n",
              "      flex-wrap:wrap;\n",
              "      gap: 12px;\n",
              "    }\n",
              "\n",
              "    .colab-df-convert {\n",
              "      background-color: #E8F0FE;\n",
              "      border: none;\n",
              "      border-radius: 50%;\n",
              "      cursor: pointer;\n",
              "      display: none;\n",
              "      fill: #1967D2;\n",
              "      height: 32px;\n",
              "      padding: 0 0 0 0;\n",
              "      width: 32px;\n",
              "    }\n",
              "\n",
              "    .colab-df-convert:hover {\n",
              "      background-color: #E2EBFA;\n",
              "      box-shadow: 0px 1px 2px rgba(60, 64, 67, 0.3), 0px 1px 3px 1px rgba(60, 64, 67, 0.15);\n",
              "      fill: #174EA6;\n",
              "    }\n",
              "\n",
              "    [theme=dark] .colab-df-convert {\n",
              "      background-color: #3B4455;\n",
              "      fill: #D2E3FC;\n",
              "    }\n",
              "\n",
              "    [theme=dark] .colab-df-convert:hover {\n",
              "      background-color: #434B5C;\n",
              "      box-shadow: 0px 1px 3px 1px rgba(0, 0, 0, 0.15);\n",
              "      filter: drop-shadow(0px 1px 2px rgba(0, 0, 0, 0.3));\n",
              "      fill: #FFFFFF;\n",
              "    }\n",
              "  </style>\n",
              "\n",
              "      <script>\n",
              "        const buttonEl =\n",
              "          document.querySelector('#df-5b242d5b-2b9e-41c7-898f-fe06e36e258f button.colab-df-convert');\n",
              "        buttonEl.style.display =\n",
              "          google.colab.kernel.accessAllowed ? 'block' : 'none';\n",
              "\n",
              "        async function convertToInteractive(key) {\n",
              "          const element = document.querySelector('#df-5b242d5b-2b9e-41c7-898f-fe06e36e258f');\n",
              "          const dataTable =\n",
              "            await google.colab.kernel.invokeFunction('convertToInteractive',\n",
              "                                                     [key], {});\n",
              "          if (!dataTable) return;\n",
              "\n",
              "          const docLinkHtml = 'Like what you see? Visit the ' +\n",
              "            '<a target=\"_blank\" href=https://colab.research.google.com/notebooks/data_table.ipynb>data table notebook</a>'\n",
              "            + ' to learn more about interactive tables.';\n",
              "          element.innerHTML = '';\n",
              "          dataTable['output_type'] = 'display_data';\n",
              "          await google.colab.output.renderOutput(dataTable, element);\n",
              "          const docLink = document.createElement('div');\n",
              "          docLink.innerHTML = docLinkHtml;\n",
              "          element.appendChild(docLink);\n",
              "        }\n",
              "      </script>\n",
              "    </div>\n",
              "  </div>\n",
              "  "
            ]
          },
          "metadata": {},
          "execution_count": 12
        }
      ],
      "source": [
        "vauxhall_df.head(5)"
      ]
    },
    {
      "cell_type": "code",
      "execution_count": 13,
      "metadata": {
        "colab": {
          "base_uri": "https://localhost:8080/",
          "height": 206
        },
        "id": "3mDQe9h3-4Bu",
        "outputId": "a2a55dd4-a12c-4638-e832-5183d17889c6"
      },
      "outputs": [
        {
          "output_type": "execute_result",
          "data": {
            "text/plain": [
              "    model  year  price transmission  mileage fuelType  tax   mpg  engineSize\n",
              "0   T-Roc  2019  25000    Automatic    13904   Diesel  145  49.6         2.0\n",
              "1   T-Roc  2019  26883    Automatic     4562   Diesel  145  49.6         2.0\n",
              "2   T-Roc  2019  20000       Manual     7414   Diesel  145  50.4         2.0\n",
              "3   T-Roc  2019  33492    Automatic     4825   Petrol  145  32.5         2.0\n",
              "4   T-Roc  2019  22900    Semi-Auto     6500   Petrol  150  39.8         1.5"
            ],
            "text/html": [
              "\n",
              "  <div id=\"df-95fdefee-14db-4a36-affd-cf7b99731967\">\n",
              "    <div class=\"colab-df-container\">\n",
              "      <div>\n",
              "<style scoped>\n",
              "    .dataframe tbody tr th:only-of-type {\n",
              "        vertical-align: middle;\n",
              "    }\n",
              "\n",
              "    .dataframe tbody tr th {\n",
              "        vertical-align: top;\n",
              "    }\n",
              "\n",
              "    .dataframe thead th {\n",
              "        text-align: right;\n",
              "    }\n",
              "</style>\n",
              "<table border=\"1\" class=\"dataframe\">\n",
              "  <thead>\n",
              "    <tr style=\"text-align: right;\">\n",
              "      <th></th>\n",
              "      <th>model</th>\n",
              "      <th>year</th>\n",
              "      <th>price</th>\n",
              "      <th>transmission</th>\n",
              "      <th>mileage</th>\n",
              "      <th>fuelType</th>\n",
              "      <th>tax</th>\n",
              "      <th>mpg</th>\n",
              "      <th>engineSize</th>\n",
              "    </tr>\n",
              "  </thead>\n",
              "  <tbody>\n",
              "    <tr>\n",
              "      <th>0</th>\n",
              "      <td>T-Roc</td>\n",
              "      <td>2019</td>\n",
              "      <td>25000</td>\n",
              "      <td>Automatic</td>\n",
              "      <td>13904</td>\n",
              "      <td>Diesel</td>\n",
              "      <td>145</td>\n",
              "      <td>49.6</td>\n",
              "      <td>2.0</td>\n",
              "    </tr>\n",
              "    <tr>\n",
              "      <th>1</th>\n",
              "      <td>T-Roc</td>\n",
              "      <td>2019</td>\n",
              "      <td>26883</td>\n",
              "      <td>Automatic</td>\n",
              "      <td>4562</td>\n",
              "      <td>Diesel</td>\n",
              "      <td>145</td>\n",
              "      <td>49.6</td>\n",
              "      <td>2.0</td>\n",
              "    </tr>\n",
              "    <tr>\n",
              "      <th>2</th>\n",
              "      <td>T-Roc</td>\n",
              "      <td>2019</td>\n",
              "      <td>20000</td>\n",
              "      <td>Manual</td>\n",
              "      <td>7414</td>\n",
              "      <td>Diesel</td>\n",
              "      <td>145</td>\n",
              "      <td>50.4</td>\n",
              "      <td>2.0</td>\n",
              "    </tr>\n",
              "    <tr>\n",
              "      <th>3</th>\n",
              "      <td>T-Roc</td>\n",
              "      <td>2019</td>\n",
              "      <td>33492</td>\n",
              "      <td>Automatic</td>\n",
              "      <td>4825</td>\n",
              "      <td>Petrol</td>\n",
              "      <td>145</td>\n",
              "      <td>32.5</td>\n",
              "      <td>2.0</td>\n",
              "    </tr>\n",
              "    <tr>\n",
              "      <th>4</th>\n",
              "      <td>T-Roc</td>\n",
              "      <td>2019</td>\n",
              "      <td>22900</td>\n",
              "      <td>Semi-Auto</td>\n",
              "      <td>6500</td>\n",
              "      <td>Petrol</td>\n",
              "      <td>150</td>\n",
              "      <td>39.8</td>\n",
              "      <td>1.5</td>\n",
              "    </tr>\n",
              "  </tbody>\n",
              "</table>\n",
              "</div>\n",
              "      <button class=\"colab-df-convert\" onclick=\"convertToInteractive('df-95fdefee-14db-4a36-affd-cf7b99731967')\"\n",
              "              title=\"Convert this dataframe to an interactive table.\"\n",
              "              style=\"display:none;\">\n",
              "        \n",
              "  <svg xmlns=\"http://www.w3.org/2000/svg\" height=\"24px\"viewBox=\"0 0 24 24\"\n",
              "       width=\"24px\">\n",
              "    <path d=\"M0 0h24v24H0V0z\" fill=\"none\"/>\n",
              "    <path d=\"M18.56 5.44l.94 2.06.94-2.06 2.06-.94-2.06-.94-.94-2.06-.94 2.06-2.06.94zm-11 1L8.5 8.5l.94-2.06 2.06-.94-2.06-.94L8.5 2.5l-.94 2.06-2.06.94zm10 10l.94 2.06.94-2.06 2.06-.94-2.06-.94-.94-2.06-.94 2.06-2.06.94z\"/><path d=\"M17.41 7.96l-1.37-1.37c-.4-.4-.92-.59-1.43-.59-.52 0-1.04.2-1.43.59L10.3 9.45l-7.72 7.72c-.78.78-.78 2.05 0 2.83L4 21.41c.39.39.9.59 1.41.59.51 0 1.02-.2 1.41-.59l7.78-7.78 2.81-2.81c.8-.78.8-2.07 0-2.86zM5.41 20L4 18.59l7.72-7.72 1.47 1.35L5.41 20z\"/>\n",
              "  </svg>\n",
              "      </button>\n",
              "      \n",
              "  <style>\n",
              "    .colab-df-container {\n",
              "      display:flex;\n",
              "      flex-wrap:wrap;\n",
              "      gap: 12px;\n",
              "    }\n",
              "\n",
              "    .colab-df-convert {\n",
              "      background-color: #E8F0FE;\n",
              "      border: none;\n",
              "      border-radius: 50%;\n",
              "      cursor: pointer;\n",
              "      display: none;\n",
              "      fill: #1967D2;\n",
              "      height: 32px;\n",
              "      padding: 0 0 0 0;\n",
              "      width: 32px;\n",
              "    }\n",
              "\n",
              "    .colab-df-convert:hover {\n",
              "      background-color: #E2EBFA;\n",
              "      box-shadow: 0px 1px 2px rgba(60, 64, 67, 0.3), 0px 1px 3px 1px rgba(60, 64, 67, 0.15);\n",
              "      fill: #174EA6;\n",
              "    }\n",
              "\n",
              "    [theme=dark] .colab-df-convert {\n",
              "      background-color: #3B4455;\n",
              "      fill: #D2E3FC;\n",
              "    }\n",
              "\n",
              "    [theme=dark] .colab-df-convert:hover {\n",
              "      background-color: #434B5C;\n",
              "      box-shadow: 0px 1px 3px 1px rgba(0, 0, 0, 0.15);\n",
              "      filter: drop-shadow(0px 1px 2px rgba(0, 0, 0, 0.3));\n",
              "      fill: #FFFFFF;\n",
              "    }\n",
              "  </style>\n",
              "\n",
              "      <script>\n",
              "        const buttonEl =\n",
              "          document.querySelector('#df-95fdefee-14db-4a36-affd-cf7b99731967 button.colab-df-convert');\n",
              "        buttonEl.style.display =\n",
              "          google.colab.kernel.accessAllowed ? 'block' : 'none';\n",
              "\n",
              "        async function convertToInteractive(key) {\n",
              "          const element = document.querySelector('#df-95fdefee-14db-4a36-affd-cf7b99731967');\n",
              "          const dataTable =\n",
              "            await google.colab.kernel.invokeFunction('convertToInteractive',\n",
              "                                                     [key], {});\n",
              "          if (!dataTable) return;\n",
              "\n",
              "          const docLinkHtml = 'Like what you see? Visit the ' +\n",
              "            '<a target=\"_blank\" href=https://colab.research.google.com/notebooks/data_table.ipynb>data table notebook</a>'\n",
              "            + ' to learn more about interactive tables.';\n",
              "          element.innerHTML = '';\n",
              "          dataTable['output_type'] = 'display_data';\n",
              "          await google.colab.output.renderOutput(dataTable, element);\n",
              "          const docLink = document.createElement('div');\n",
              "          docLink.innerHTML = docLinkHtml;\n",
              "          element.appendChild(docLink);\n",
              "        }\n",
              "      </script>\n",
              "    </div>\n",
              "  </div>\n",
              "  "
            ]
          },
          "metadata": {},
          "execution_count": 13
        }
      ],
      "source": [
        "vw_df.head(5)"
      ]
    },
    {
      "cell_type": "markdown",
      "metadata": {
        "id": "qghOWxgRFDpQ"
      },
      "source": [
        "By looking at the first five rows of each dataframe, we notice that all datafames have same columns **except in hyundi dataframe, there is a (£) sign after `tax` column**. \n",
        "\n",
        "We aim to merge these nine dataframes to form a comprehensive dataframe containing all the car brands for future analysis, therefore we need to standardize the column names."
      ]
    },
    {
      "cell_type": "markdown",
      "source": [
        "###Standardize Column Names###"
      ],
      "metadata": {
        "id": "uCh5OmVaMYoo"
      }
    },
    {
      "cell_type": "code",
      "execution_count": 14,
      "metadata": {
        "colab": {
          "base_uri": "https://localhost:8080/",
          "height": 206
        },
        "id": "icoU2q12-HJO",
        "outputId": "76269ccf-37b6-426b-f236-3a8086b25b11"
      },
      "outputs": [
        {
          "output_type": "execute_result",
          "data": {
            "text/plain": [
              "     model  year  price transmission  mileage fuelType  tax   mpg  engineSize\n",
              "0      I20  2017   7999       Manual    17307   Petrol  145  58.9         1.2\n",
              "1   Tucson  2016  14499    Automatic    25233   Diesel  235  43.5         2.0\n",
              "2   Tucson  2016  11399       Manual    37877   Diesel   30  61.7         1.7\n",
              "3      I10  2016   6499       Manual    23789   Petrol   20  60.1         1.0\n",
              "4     IX35  2015  10199       Manual    33177   Diesel  160  51.4         2.0"
            ],
            "text/html": [
              "\n",
              "  <div id=\"df-fc770949-9767-4c9f-bfa2-5bff8bf3a65e\">\n",
              "    <div class=\"colab-df-container\">\n",
              "      <div>\n",
              "<style scoped>\n",
              "    .dataframe tbody tr th:only-of-type {\n",
              "        vertical-align: middle;\n",
              "    }\n",
              "\n",
              "    .dataframe tbody tr th {\n",
              "        vertical-align: top;\n",
              "    }\n",
              "\n",
              "    .dataframe thead th {\n",
              "        text-align: right;\n",
              "    }\n",
              "</style>\n",
              "<table border=\"1\" class=\"dataframe\">\n",
              "  <thead>\n",
              "    <tr style=\"text-align: right;\">\n",
              "      <th></th>\n",
              "      <th>model</th>\n",
              "      <th>year</th>\n",
              "      <th>price</th>\n",
              "      <th>transmission</th>\n",
              "      <th>mileage</th>\n",
              "      <th>fuelType</th>\n",
              "      <th>tax</th>\n",
              "      <th>mpg</th>\n",
              "      <th>engineSize</th>\n",
              "    </tr>\n",
              "  </thead>\n",
              "  <tbody>\n",
              "    <tr>\n",
              "      <th>0</th>\n",
              "      <td>I20</td>\n",
              "      <td>2017</td>\n",
              "      <td>7999</td>\n",
              "      <td>Manual</td>\n",
              "      <td>17307</td>\n",
              "      <td>Petrol</td>\n",
              "      <td>145</td>\n",
              "      <td>58.9</td>\n",
              "      <td>1.2</td>\n",
              "    </tr>\n",
              "    <tr>\n",
              "      <th>1</th>\n",
              "      <td>Tucson</td>\n",
              "      <td>2016</td>\n",
              "      <td>14499</td>\n",
              "      <td>Automatic</td>\n",
              "      <td>25233</td>\n",
              "      <td>Diesel</td>\n",
              "      <td>235</td>\n",
              "      <td>43.5</td>\n",
              "      <td>2.0</td>\n",
              "    </tr>\n",
              "    <tr>\n",
              "      <th>2</th>\n",
              "      <td>Tucson</td>\n",
              "      <td>2016</td>\n",
              "      <td>11399</td>\n",
              "      <td>Manual</td>\n",
              "      <td>37877</td>\n",
              "      <td>Diesel</td>\n",
              "      <td>30</td>\n",
              "      <td>61.7</td>\n",
              "      <td>1.7</td>\n",
              "    </tr>\n",
              "    <tr>\n",
              "      <th>3</th>\n",
              "      <td>I10</td>\n",
              "      <td>2016</td>\n",
              "      <td>6499</td>\n",
              "      <td>Manual</td>\n",
              "      <td>23789</td>\n",
              "      <td>Petrol</td>\n",
              "      <td>20</td>\n",
              "      <td>60.1</td>\n",
              "      <td>1.0</td>\n",
              "    </tr>\n",
              "    <tr>\n",
              "      <th>4</th>\n",
              "      <td>IX35</td>\n",
              "      <td>2015</td>\n",
              "      <td>10199</td>\n",
              "      <td>Manual</td>\n",
              "      <td>33177</td>\n",
              "      <td>Diesel</td>\n",
              "      <td>160</td>\n",
              "      <td>51.4</td>\n",
              "      <td>2.0</td>\n",
              "    </tr>\n",
              "  </tbody>\n",
              "</table>\n",
              "</div>\n",
              "      <button class=\"colab-df-convert\" onclick=\"convertToInteractive('df-fc770949-9767-4c9f-bfa2-5bff8bf3a65e')\"\n",
              "              title=\"Convert this dataframe to an interactive table.\"\n",
              "              style=\"display:none;\">\n",
              "        \n",
              "  <svg xmlns=\"http://www.w3.org/2000/svg\" height=\"24px\"viewBox=\"0 0 24 24\"\n",
              "       width=\"24px\">\n",
              "    <path d=\"M0 0h24v24H0V0z\" fill=\"none\"/>\n",
              "    <path d=\"M18.56 5.44l.94 2.06.94-2.06 2.06-.94-2.06-.94-.94-2.06-.94 2.06-2.06.94zm-11 1L8.5 8.5l.94-2.06 2.06-.94-2.06-.94L8.5 2.5l-.94 2.06-2.06.94zm10 10l.94 2.06.94-2.06 2.06-.94-2.06-.94-.94-2.06-.94 2.06-2.06.94z\"/><path d=\"M17.41 7.96l-1.37-1.37c-.4-.4-.92-.59-1.43-.59-.52 0-1.04.2-1.43.59L10.3 9.45l-7.72 7.72c-.78.78-.78 2.05 0 2.83L4 21.41c.39.39.9.59 1.41.59.51 0 1.02-.2 1.41-.59l7.78-7.78 2.81-2.81c.8-.78.8-2.07 0-2.86zM5.41 20L4 18.59l7.72-7.72 1.47 1.35L5.41 20z\"/>\n",
              "  </svg>\n",
              "      </button>\n",
              "      \n",
              "  <style>\n",
              "    .colab-df-container {\n",
              "      display:flex;\n",
              "      flex-wrap:wrap;\n",
              "      gap: 12px;\n",
              "    }\n",
              "\n",
              "    .colab-df-convert {\n",
              "      background-color: #E8F0FE;\n",
              "      border: none;\n",
              "      border-radius: 50%;\n",
              "      cursor: pointer;\n",
              "      display: none;\n",
              "      fill: #1967D2;\n",
              "      height: 32px;\n",
              "      padding: 0 0 0 0;\n",
              "      width: 32px;\n",
              "    }\n",
              "\n",
              "    .colab-df-convert:hover {\n",
              "      background-color: #E2EBFA;\n",
              "      box-shadow: 0px 1px 2px rgba(60, 64, 67, 0.3), 0px 1px 3px 1px rgba(60, 64, 67, 0.15);\n",
              "      fill: #174EA6;\n",
              "    }\n",
              "\n",
              "    [theme=dark] .colab-df-convert {\n",
              "      background-color: #3B4455;\n",
              "      fill: #D2E3FC;\n",
              "    }\n",
              "\n",
              "    [theme=dark] .colab-df-convert:hover {\n",
              "      background-color: #434B5C;\n",
              "      box-shadow: 0px 1px 3px 1px rgba(0, 0, 0, 0.15);\n",
              "      filter: drop-shadow(0px 1px 2px rgba(0, 0, 0, 0.3));\n",
              "      fill: #FFFFFF;\n",
              "    }\n",
              "  </style>\n",
              "\n",
              "      <script>\n",
              "        const buttonEl =\n",
              "          document.querySelector('#df-fc770949-9767-4c9f-bfa2-5bff8bf3a65e button.colab-df-convert');\n",
              "        buttonEl.style.display =\n",
              "          google.colab.kernel.accessAllowed ? 'block' : 'none';\n",
              "\n",
              "        async function convertToInteractive(key) {\n",
              "          const element = document.querySelector('#df-fc770949-9767-4c9f-bfa2-5bff8bf3a65e');\n",
              "          const dataTable =\n",
              "            await google.colab.kernel.invokeFunction('convertToInteractive',\n",
              "                                                     [key], {});\n",
              "          if (!dataTable) return;\n",
              "\n",
              "          const docLinkHtml = 'Like what you see? Visit the ' +\n",
              "            '<a target=\"_blank\" href=https://colab.research.google.com/notebooks/data_table.ipynb>data table notebook</a>'\n",
              "            + ' to learn more about interactive tables.';\n",
              "          element.innerHTML = '';\n",
              "          dataTable['output_type'] = 'display_data';\n",
              "          await google.colab.output.renderOutput(dataTable, element);\n",
              "          const docLink = document.createElement('div');\n",
              "          docLink.innerHTML = docLinkHtml;\n",
              "          element.appendChild(docLink);\n",
              "        }\n",
              "      </script>\n",
              "    </div>\n",
              "  </div>\n",
              "  "
            ]
          },
          "metadata": {},
          "execution_count": 14
        }
      ],
      "source": [
        "hyundi_df = hyundi_df.rename(columns={\"tax(£)\": \"tax\"})\n",
        "hyundi_df.head(5)"
      ]
    },
    {
      "cell_type": "markdown",
      "metadata": {
        "id": "MM6cXV-FFNVJ"
      },
      "source": [
        "###Merge Dataframes into One###"
      ]
    },
    {
      "cell_type": "markdown",
      "metadata": {
        "id": "JN6-qhSInwUB"
      },
      "source": [
        "We would like to examine and model the datasets as a whole to gain overall understanding of the UK used car market. "
      ]
    },
    {
      "cell_type": "markdown",
      "source": [
        "The original datasets don't have their brand names as a column. In order to preserve this information after merging, we need to create a new column 'brand' and assign the brand names before merging."
      ],
      "metadata": {
        "id": "SyQvOIPpMttr"
      }
    },
    {
      "cell_type": "code",
      "execution_count": 15,
      "metadata": {
        "id": "VovFAjZCnvdU"
      },
      "outputs": [],
      "source": [
        "audi_df['brand'] = 'audi'\n",
        "bmw_df['brand'] = 'bmw'\n",
        "ford_df['brand'] = 'ford'\n",
        "hyundi_df['brand'] = 'hyundi'\n",
        "merc_df['brand'] = 'merc'\n",
        "skoda_df['brand'] = 'skoda'\n",
        "toyota_df['brand'] = 'toyota'\n",
        "vauxhall_df['brand'] = 'vauxhall'\n",
        "vw_df['brand'] = 'vw'"
      ]
    },
    {
      "cell_type": "markdown",
      "source": [
        "Merge the datasets into one"
      ],
      "metadata": {
        "id": "Y76rKNHsNspe"
      }
    },
    {
      "cell_type": "code",
      "execution_count": 16,
      "metadata": {
        "id": "pfl_8_ov-I21"
      },
      "outputs": [],
      "source": [
        "frames = [audi_df, bmw_df, ford_df, hyundi_df, merc_df, skoda_df, toyota_df, vauxhall_df, vw_df]\n",
        "usedcar_df = pd.concat(frames)"
      ]
    },
    {
      "cell_type": "code",
      "execution_count": 17,
      "metadata": {
        "colab": {
          "base_uri": "https://localhost:8080/",
          "height": 206
        },
        "id": "15sYB0Rdogkk",
        "outputId": "a671dc2c-2646-4415-b5c9-19d498af339d"
      },
      "outputs": [
        {
          "output_type": "execute_result",
          "data": {
            "text/plain": [
              "  model  year  price transmission  mileage fuelType  tax   mpg  engineSize  \\\n",
              "0    A1  2017  12500       Manual    15735   Petrol  150  55.4         1.4   \n",
              "1    A6  2016  16500    Automatic    36203   Diesel   20  64.2         2.0   \n",
              "2    A1  2016  11000       Manual    29946   Petrol   30  55.4         1.4   \n",
              "3    A4  2017  16800    Automatic    25952   Diesel  145  67.3         2.0   \n",
              "4    A3  2019  17300       Manual     1998   Petrol  145  49.6         1.0   \n",
              "\n",
              "  brand  \n",
              "0  audi  \n",
              "1  audi  \n",
              "2  audi  \n",
              "3  audi  \n",
              "4  audi  "
            ],
            "text/html": [
              "\n",
              "  <div id=\"df-b8be8c16-86b5-4d7c-af83-f2e80967c5e4\">\n",
              "    <div class=\"colab-df-container\">\n",
              "      <div>\n",
              "<style scoped>\n",
              "    .dataframe tbody tr th:only-of-type {\n",
              "        vertical-align: middle;\n",
              "    }\n",
              "\n",
              "    .dataframe tbody tr th {\n",
              "        vertical-align: top;\n",
              "    }\n",
              "\n",
              "    .dataframe thead th {\n",
              "        text-align: right;\n",
              "    }\n",
              "</style>\n",
              "<table border=\"1\" class=\"dataframe\">\n",
              "  <thead>\n",
              "    <tr style=\"text-align: right;\">\n",
              "      <th></th>\n",
              "      <th>model</th>\n",
              "      <th>year</th>\n",
              "      <th>price</th>\n",
              "      <th>transmission</th>\n",
              "      <th>mileage</th>\n",
              "      <th>fuelType</th>\n",
              "      <th>tax</th>\n",
              "      <th>mpg</th>\n",
              "      <th>engineSize</th>\n",
              "      <th>brand</th>\n",
              "    </tr>\n",
              "  </thead>\n",
              "  <tbody>\n",
              "    <tr>\n",
              "      <th>0</th>\n",
              "      <td>A1</td>\n",
              "      <td>2017</td>\n",
              "      <td>12500</td>\n",
              "      <td>Manual</td>\n",
              "      <td>15735</td>\n",
              "      <td>Petrol</td>\n",
              "      <td>150</td>\n",
              "      <td>55.4</td>\n",
              "      <td>1.4</td>\n",
              "      <td>audi</td>\n",
              "    </tr>\n",
              "    <tr>\n",
              "      <th>1</th>\n",
              "      <td>A6</td>\n",
              "      <td>2016</td>\n",
              "      <td>16500</td>\n",
              "      <td>Automatic</td>\n",
              "      <td>36203</td>\n",
              "      <td>Diesel</td>\n",
              "      <td>20</td>\n",
              "      <td>64.2</td>\n",
              "      <td>2.0</td>\n",
              "      <td>audi</td>\n",
              "    </tr>\n",
              "    <tr>\n",
              "      <th>2</th>\n",
              "      <td>A1</td>\n",
              "      <td>2016</td>\n",
              "      <td>11000</td>\n",
              "      <td>Manual</td>\n",
              "      <td>29946</td>\n",
              "      <td>Petrol</td>\n",
              "      <td>30</td>\n",
              "      <td>55.4</td>\n",
              "      <td>1.4</td>\n",
              "      <td>audi</td>\n",
              "    </tr>\n",
              "    <tr>\n",
              "      <th>3</th>\n",
              "      <td>A4</td>\n",
              "      <td>2017</td>\n",
              "      <td>16800</td>\n",
              "      <td>Automatic</td>\n",
              "      <td>25952</td>\n",
              "      <td>Diesel</td>\n",
              "      <td>145</td>\n",
              "      <td>67.3</td>\n",
              "      <td>2.0</td>\n",
              "      <td>audi</td>\n",
              "    </tr>\n",
              "    <tr>\n",
              "      <th>4</th>\n",
              "      <td>A3</td>\n",
              "      <td>2019</td>\n",
              "      <td>17300</td>\n",
              "      <td>Manual</td>\n",
              "      <td>1998</td>\n",
              "      <td>Petrol</td>\n",
              "      <td>145</td>\n",
              "      <td>49.6</td>\n",
              "      <td>1.0</td>\n",
              "      <td>audi</td>\n",
              "    </tr>\n",
              "  </tbody>\n",
              "</table>\n",
              "</div>\n",
              "      <button class=\"colab-df-convert\" onclick=\"convertToInteractive('df-b8be8c16-86b5-4d7c-af83-f2e80967c5e4')\"\n",
              "              title=\"Convert this dataframe to an interactive table.\"\n",
              "              style=\"display:none;\">\n",
              "        \n",
              "  <svg xmlns=\"http://www.w3.org/2000/svg\" height=\"24px\"viewBox=\"0 0 24 24\"\n",
              "       width=\"24px\">\n",
              "    <path d=\"M0 0h24v24H0V0z\" fill=\"none\"/>\n",
              "    <path d=\"M18.56 5.44l.94 2.06.94-2.06 2.06-.94-2.06-.94-.94-2.06-.94 2.06-2.06.94zm-11 1L8.5 8.5l.94-2.06 2.06-.94-2.06-.94L8.5 2.5l-.94 2.06-2.06.94zm10 10l.94 2.06.94-2.06 2.06-.94-2.06-.94-.94-2.06-.94 2.06-2.06.94z\"/><path d=\"M17.41 7.96l-1.37-1.37c-.4-.4-.92-.59-1.43-.59-.52 0-1.04.2-1.43.59L10.3 9.45l-7.72 7.72c-.78.78-.78 2.05 0 2.83L4 21.41c.39.39.9.59 1.41.59.51 0 1.02-.2 1.41-.59l7.78-7.78 2.81-2.81c.8-.78.8-2.07 0-2.86zM5.41 20L4 18.59l7.72-7.72 1.47 1.35L5.41 20z\"/>\n",
              "  </svg>\n",
              "      </button>\n",
              "      \n",
              "  <style>\n",
              "    .colab-df-container {\n",
              "      display:flex;\n",
              "      flex-wrap:wrap;\n",
              "      gap: 12px;\n",
              "    }\n",
              "\n",
              "    .colab-df-convert {\n",
              "      background-color: #E8F0FE;\n",
              "      border: none;\n",
              "      border-radius: 50%;\n",
              "      cursor: pointer;\n",
              "      display: none;\n",
              "      fill: #1967D2;\n",
              "      height: 32px;\n",
              "      padding: 0 0 0 0;\n",
              "      width: 32px;\n",
              "    }\n",
              "\n",
              "    .colab-df-convert:hover {\n",
              "      background-color: #E2EBFA;\n",
              "      box-shadow: 0px 1px 2px rgba(60, 64, 67, 0.3), 0px 1px 3px 1px rgba(60, 64, 67, 0.15);\n",
              "      fill: #174EA6;\n",
              "    }\n",
              "\n",
              "    [theme=dark] .colab-df-convert {\n",
              "      background-color: #3B4455;\n",
              "      fill: #D2E3FC;\n",
              "    }\n",
              "\n",
              "    [theme=dark] .colab-df-convert:hover {\n",
              "      background-color: #434B5C;\n",
              "      box-shadow: 0px 1px 3px 1px rgba(0, 0, 0, 0.15);\n",
              "      filter: drop-shadow(0px 1px 2px rgba(0, 0, 0, 0.3));\n",
              "      fill: #FFFFFF;\n",
              "    }\n",
              "  </style>\n",
              "\n",
              "      <script>\n",
              "        const buttonEl =\n",
              "          document.querySelector('#df-b8be8c16-86b5-4d7c-af83-f2e80967c5e4 button.colab-df-convert');\n",
              "        buttonEl.style.display =\n",
              "          google.colab.kernel.accessAllowed ? 'block' : 'none';\n",
              "\n",
              "        async function convertToInteractive(key) {\n",
              "          const element = document.querySelector('#df-b8be8c16-86b5-4d7c-af83-f2e80967c5e4');\n",
              "          const dataTable =\n",
              "            await google.colab.kernel.invokeFunction('convertToInteractive',\n",
              "                                                     [key], {});\n",
              "          if (!dataTable) return;\n",
              "\n",
              "          const docLinkHtml = 'Like what you see? Visit the ' +\n",
              "            '<a target=\"_blank\" href=https://colab.research.google.com/notebooks/data_table.ipynb>data table notebook</a>'\n",
              "            + ' to learn more about interactive tables.';\n",
              "          element.innerHTML = '';\n",
              "          dataTable['output_type'] = 'display_data';\n",
              "          await google.colab.output.renderOutput(dataTable, element);\n",
              "          const docLink = document.createElement('div');\n",
              "          docLink.innerHTML = docLinkHtml;\n",
              "          element.appendChild(docLink);\n",
              "        }\n",
              "      </script>\n",
              "    </div>\n",
              "  </div>\n",
              "  "
            ]
          },
          "metadata": {},
          "execution_count": 17
        }
      ],
      "source": [
        "usedcar_df.head(5)"
      ]
    },
    {
      "cell_type": "markdown",
      "source": [
        "###Check Nulls and Duplicates###"
      ],
      "metadata": {
        "id": "CzmUrFwfOJvv"
      }
    },
    {
      "cell_type": "markdown",
      "source": [
        "We will find the number of rows with null values and the number of duplicated rows to see if there is any need of further preprocessing."
      ],
      "metadata": {
        "id": "YpQw4KvjOlzT"
      }
    },
    {
      "cell_type": "code",
      "source": [
        "num_nulls = usedcar_df.isna().any(axis=1).sum()\n",
        "num_nulls"
      ],
      "metadata": {
        "colab": {
          "base_uri": "https://localhost:8080/"
        },
        "id": "ACAivg3SOQNU",
        "outputId": "3d0f9d17-0e77-4715-f1db-89be93a3fbd4"
      },
      "execution_count": 18,
      "outputs": [
        {
          "output_type": "execute_result",
          "data": {
            "text/plain": [
              "0"
            ]
          },
          "metadata": {},
          "execution_count": 18
        }
      ]
    },
    {
      "cell_type": "markdown",
      "source": [
        "There is no null value in the dataset."
      ],
      "metadata": {
        "id": "j0S38Fa9O44r"
      }
    },
    {
      "cell_type": "code",
      "source": [
        "num_dups = usedcar_df[usedcar_df.duplicated()].any(axis=1).count()\n",
        "num_dups"
      ],
      "metadata": {
        "colab": {
          "base_uri": "https://localhost:8080/"
        },
        "id": "9ox7fudtO-34",
        "outputId": "cafdea57-b568-45c6-cc9f-89c3fc71afaf"
      },
      "execution_count": 19,
      "outputs": [
        {
          "output_type": "execute_result",
          "data": {
            "text/plain": [
              "1475"
            ]
          },
          "metadata": {},
          "execution_count": 19
        }
      ]
    },
    {
      "cell_type": "markdown",
      "source": [
        "There are some duplicates in the dataset. Lets inspect their distribution in the individual datasets."
      ],
      "metadata": {
        "id": "EqSxPVqdhBSh"
      }
    },
    {
      "cell_type": "code",
      "source": [
        "datasets = {'audi': audi_df, 'bmw': bmw_df, 'ford': ford_df, 'hyundi': hyundi_df,\n",
        "            'merc': merc_df, 'skoda': skoda_df, 'toyota': toyota_df, 'vauxhall': vauxhall_df, 'vw': vw_df}\n",
        "\n",
        "for name, df in datasets.items():\n",
        "    num_duplicates = df.duplicated().sum()\n",
        "    print(f'{name}: {num_duplicates} duplicates')"
      ],
      "metadata": {
        "id": "sqS0oUYmRIyp",
        "outputId": "1ef4755c-5588-4df7-eea4-4d3cad361143",
        "colab": {
          "base_uri": "https://localhost:8080/"
        }
      },
      "execution_count": 20,
      "outputs": [
        {
          "output_type": "stream",
          "name": "stdout",
          "text": [
            "audi: 103 duplicates\n",
            "bmw: 117 duplicates\n",
            "ford: 154 duplicates\n",
            "hyundi: 86 duplicates\n",
            "merc: 259 duplicates\n",
            "skoda: 79 duplicates\n",
            "toyota: 39 duplicates\n",
            "vauxhall: 374 duplicates\n",
            "vw: 264 duplicates\n"
          ]
        }
      ]
    },
    {
      "cell_type": "markdown",
      "source": [
        "The duplicates are spread pretty evenly across the raw dataset. Lets take a closer look at them."
      ],
      "metadata": {
        "id": "Ob33Zk9FhPek"
      }
    },
    {
      "cell_type": "code",
      "source": [
        "usedcar_df[usedcar_df.duplicated()].head(5)"
      ],
      "metadata": {
        "colab": {
          "base_uri": "https://localhost:8080/",
          "height": 206
        },
        "id": "T9jzGGbShWm7",
        "outputId": "7890c30a-f68b-4990-904c-31676fe2e8e0"
      },
      "execution_count": 21,
      "outputs": [
        {
          "output_type": "execute_result",
          "data": {
            "text/plain": [
              "    model  year  price transmission  mileage fuelType  tax   mpg  engineSize  \\\n",
              "273    Q3  2019  34485    Automatic       10   Diesel  145  47.1         2.0   \n",
              "764    Q2  2019  22495       Manual     1000   Diesel  145  49.6         1.6   \n",
              "784    Q3  2015  13995       Manual    35446   Diesel  145  54.3         2.0   \n",
              "967    Q5  2019  31998    Semi-Auto      100   Petrol  145  33.2         2.0   \n",
              "990    Q2  2019  22495       Manual     1000   Diesel  145  49.6         1.6   \n",
              "\n",
              "    brand  \n",
              "273  audi  \n",
              "764  audi  \n",
              "784  audi  \n",
              "967  audi  \n",
              "990  audi  "
            ],
            "text/html": [
              "\n",
              "  <div id=\"df-542f8807-3f91-413f-ae5b-f59e99267235\">\n",
              "    <div class=\"colab-df-container\">\n",
              "      <div>\n",
              "<style scoped>\n",
              "    .dataframe tbody tr th:only-of-type {\n",
              "        vertical-align: middle;\n",
              "    }\n",
              "\n",
              "    .dataframe tbody tr th {\n",
              "        vertical-align: top;\n",
              "    }\n",
              "\n",
              "    .dataframe thead th {\n",
              "        text-align: right;\n",
              "    }\n",
              "</style>\n",
              "<table border=\"1\" class=\"dataframe\">\n",
              "  <thead>\n",
              "    <tr style=\"text-align: right;\">\n",
              "      <th></th>\n",
              "      <th>model</th>\n",
              "      <th>year</th>\n",
              "      <th>price</th>\n",
              "      <th>transmission</th>\n",
              "      <th>mileage</th>\n",
              "      <th>fuelType</th>\n",
              "      <th>tax</th>\n",
              "      <th>mpg</th>\n",
              "      <th>engineSize</th>\n",
              "      <th>brand</th>\n",
              "    </tr>\n",
              "  </thead>\n",
              "  <tbody>\n",
              "    <tr>\n",
              "      <th>273</th>\n",
              "      <td>Q3</td>\n",
              "      <td>2019</td>\n",
              "      <td>34485</td>\n",
              "      <td>Automatic</td>\n",
              "      <td>10</td>\n",
              "      <td>Diesel</td>\n",
              "      <td>145</td>\n",
              "      <td>47.1</td>\n",
              "      <td>2.0</td>\n",
              "      <td>audi</td>\n",
              "    </tr>\n",
              "    <tr>\n",
              "      <th>764</th>\n",
              "      <td>Q2</td>\n",
              "      <td>2019</td>\n",
              "      <td>22495</td>\n",
              "      <td>Manual</td>\n",
              "      <td>1000</td>\n",
              "      <td>Diesel</td>\n",
              "      <td>145</td>\n",
              "      <td>49.6</td>\n",
              "      <td>1.6</td>\n",
              "      <td>audi</td>\n",
              "    </tr>\n",
              "    <tr>\n",
              "      <th>784</th>\n",
              "      <td>Q3</td>\n",
              "      <td>2015</td>\n",
              "      <td>13995</td>\n",
              "      <td>Manual</td>\n",
              "      <td>35446</td>\n",
              "      <td>Diesel</td>\n",
              "      <td>145</td>\n",
              "      <td>54.3</td>\n",
              "      <td>2.0</td>\n",
              "      <td>audi</td>\n",
              "    </tr>\n",
              "    <tr>\n",
              "      <th>967</th>\n",
              "      <td>Q5</td>\n",
              "      <td>2019</td>\n",
              "      <td>31998</td>\n",
              "      <td>Semi-Auto</td>\n",
              "      <td>100</td>\n",
              "      <td>Petrol</td>\n",
              "      <td>145</td>\n",
              "      <td>33.2</td>\n",
              "      <td>2.0</td>\n",
              "      <td>audi</td>\n",
              "    </tr>\n",
              "    <tr>\n",
              "      <th>990</th>\n",
              "      <td>Q2</td>\n",
              "      <td>2019</td>\n",
              "      <td>22495</td>\n",
              "      <td>Manual</td>\n",
              "      <td>1000</td>\n",
              "      <td>Diesel</td>\n",
              "      <td>145</td>\n",
              "      <td>49.6</td>\n",
              "      <td>1.6</td>\n",
              "      <td>audi</td>\n",
              "    </tr>\n",
              "  </tbody>\n",
              "</table>\n",
              "</div>\n",
              "      <button class=\"colab-df-convert\" onclick=\"convertToInteractive('df-542f8807-3f91-413f-ae5b-f59e99267235')\"\n",
              "              title=\"Convert this dataframe to an interactive table.\"\n",
              "              style=\"display:none;\">\n",
              "        \n",
              "  <svg xmlns=\"http://www.w3.org/2000/svg\" height=\"24px\"viewBox=\"0 0 24 24\"\n",
              "       width=\"24px\">\n",
              "    <path d=\"M0 0h24v24H0V0z\" fill=\"none\"/>\n",
              "    <path d=\"M18.56 5.44l.94 2.06.94-2.06 2.06-.94-2.06-.94-.94-2.06-.94 2.06-2.06.94zm-11 1L8.5 8.5l.94-2.06 2.06-.94-2.06-.94L8.5 2.5l-.94 2.06-2.06.94zm10 10l.94 2.06.94-2.06 2.06-.94-2.06-.94-.94-2.06-.94 2.06-2.06.94z\"/><path d=\"M17.41 7.96l-1.37-1.37c-.4-.4-.92-.59-1.43-.59-.52 0-1.04.2-1.43.59L10.3 9.45l-7.72 7.72c-.78.78-.78 2.05 0 2.83L4 21.41c.39.39.9.59 1.41.59.51 0 1.02-.2 1.41-.59l7.78-7.78 2.81-2.81c.8-.78.8-2.07 0-2.86zM5.41 20L4 18.59l7.72-7.72 1.47 1.35L5.41 20z\"/>\n",
              "  </svg>\n",
              "      </button>\n",
              "      \n",
              "  <style>\n",
              "    .colab-df-container {\n",
              "      display:flex;\n",
              "      flex-wrap:wrap;\n",
              "      gap: 12px;\n",
              "    }\n",
              "\n",
              "    .colab-df-convert {\n",
              "      background-color: #E8F0FE;\n",
              "      border: none;\n",
              "      border-radius: 50%;\n",
              "      cursor: pointer;\n",
              "      display: none;\n",
              "      fill: #1967D2;\n",
              "      height: 32px;\n",
              "      padding: 0 0 0 0;\n",
              "      width: 32px;\n",
              "    }\n",
              "\n",
              "    .colab-df-convert:hover {\n",
              "      background-color: #E2EBFA;\n",
              "      box-shadow: 0px 1px 2px rgba(60, 64, 67, 0.3), 0px 1px 3px 1px rgba(60, 64, 67, 0.15);\n",
              "      fill: #174EA6;\n",
              "    }\n",
              "\n",
              "    [theme=dark] .colab-df-convert {\n",
              "      background-color: #3B4455;\n",
              "      fill: #D2E3FC;\n",
              "    }\n",
              "\n",
              "    [theme=dark] .colab-df-convert:hover {\n",
              "      background-color: #434B5C;\n",
              "      box-shadow: 0px 1px 3px 1px rgba(0, 0, 0, 0.15);\n",
              "      filter: drop-shadow(0px 1px 2px rgba(0, 0, 0, 0.3));\n",
              "      fill: #FFFFFF;\n",
              "    }\n",
              "  </style>\n",
              "\n",
              "      <script>\n",
              "        const buttonEl =\n",
              "          document.querySelector('#df-542f8807-3f91-413f-ae5b-f59e99267235 button.colab-df-convert');\n",
              "        buttonEl.style.display =\n",
              "          google.colab.kernel.accessAllowed ? 'block' : 'none';\n",
              "\n",
              "        async function convertToInteractive(key) {\n",
              "          const element = document.querySelector('#df-542f8807-3f91-413f-ae5b-f59e99267235');\n",
              "          const dataTable =\n",
              "            await google.colab.kernel.invokeFunction('convertToInteractive',\n",
              "                                                     [key], {});\n",
              "          if (!dataTable) return;\n",
              "\n",
              "          const docLinkHtml = 'Like what you see? Visit the ' +\n",
              "            '<a target=\"_blank\" href=https://colab.research.google.com/notebooks/data_table.ipynb>data table notebook</a>'\n",
              "            + ' to learn more about interactive tables.';\n",
              "          element.innerHTML = '';\n",
              "          dataTable['output_type'] = 'display_data';\n",
              "          await google.colab.output.renderOutput(dataTable, element);\n",
              "          const docLink = document.createElement('div');\n",
              "          docLink.innerHTML = docLinkHtml;\n",
              "          element.appendChild(docLink);\n",
              "        }\n",
              "      </script>\n",
              "    </div>\n",
              "  </div>\n",
              "  "
            ]
          },
          "metadata": {},
          "execution_count": 21
        }
      ]
    },
    {
      "cell_type": "markdown",
      "source": [
        "Since the mileage and price are contiuous numerical values, they are unlikely to be exactly the same for two different transactions. They are more likely to be duplicated values of the same transaction. Thus, We decide to drop the duplicated values."
      ],
      "metadata": {
        "id": "1PiXECu5hct0"
      }
    },
    {
      "cell_type": "markdown",
      "source": [
        "####Drop Duplicates####"
      ],
      "metadata": {
        "id": "cHblJ4u4ii6y"
      }
    },
    {
      "cell_type": "code",
      "source": [
        "usedcar_df = usedcar_df.drop_duplicates()"
      ],
      "metadata": {
        "id": "OU4i-LbeinHQ"
      },
      "execution_count": 22,
      "outputs": []
    },
    {
      "cell_type": "code",
      "source": [
        "usedcar_df[usedcar_df.duplicated()].any(axis=1).count()"
      ],
      "metadata": {
        "colab": {
          "base_uri": "https://localhost:8080/"
        },
        "id": "1dqD66Q2i8I4",
        "outputId": "aa560740-d83c-40e1-ce5c-0f1d1a1047ad"
      },
      "execution_count": 23,
      "outputs": [
        {
          "output_type": "execute_result",
          "data": {
            "text/plain": [
              "0"
            ]
          },
          "metadata": {},
          "execution_count": 23
        }
      ]
    },
    {
      "cell_type": "markdown",
      "source": [
        "All duplicates have been removed from the dataframe."
      ],
      "metadata": {
        "id": "rnx-KgMri_kl"
      }
    },
    {
      "cell_type": "markdown",
      "source": [
        "###Remove Outliers\n",
        "We need to check if there is any obvious outliers in the data."
      ],
      "metadata": {
        "id": "BDf5oagOjzy_"
      }
    },
    {
      "cell_type": "code",
      "execution_count": 24,
      "metadata": {
        "colab": {
          "base_uri": "https://localhost:8080/",
          "height": 604
        },
        "id": "oRaFKg7b-LTm",
        "outputId": "c591a20a-fa8c-4c2b-8a56-288528c3b956"
      },
      "outputs": [
        {
          "output_type": "stream",
          "name": "stdout",
          "text": [
            "<class 'pandas.core.frame.DataFrame'>\n",
            "Int64Index: 97712 entries, 0 to 15156\n",
            "Data columns (total 10 columns):\n",
            " #   Column        Non-Null Count  Dtype  \n",
            "---  ------        --------------  -----  \n",
            " 0   model         97712 non-null  object \n",
            " 1   year          97712 non-null  int64  \n",
            " 2   price         97712 non-null  int64  \n",
            " 3   transmission  97712 non-null  object \n",
            " 4   mileage       97712 non-null  int64  \n",
            " 5   fuelType      97712 non-null  object \n",
            " 6   tax           97712 non-null  int64  \n",
            " 7   mpg           97712 non-null  float64\n",
            " 8   engineSize    97712 non-null  float64\n",
            " 9   brand         97712 non-null  object \n",
            "dtypes: float64(2), int64(4), object(4)\n",
            "memory usage: 8.2+ MB\n"
          ]
        },
        {
          "output_type": "execute_result",
          "data": {
            "text/plain": [
              "               year          price        mileage           tax           mpg  \\\n",
              "count  97712.000000   97712.000000   97712.000000  97712.000000  97712.000000   \n",
              "mean    2017.066870   16773.487555   23219.475499    120.142408     55.205623   \n",
              "std        2.122993    9868.552222   21060.882301     63.357250     16.181659   \n",
              "min     1970.000000     450.000000       1.000000      0.000000      0.300000   \n",
              "25%     2016.000000    9999.000000    7673.000000    125.000000     47.100000   \n",
              "50%     2017.000000   14470.000000   17682.500000    145.000000     54.300000   \n",
              "75%     2019.000000   20750.000000   32500.000000    145.000000     62.800000   \n",
              "max     2060.000000  159999.000000  323000.000000    580.000000    470.800000   \n",
              "\n",
              "         engineSize  \n",
              "count  97712.000000  \n",
              "mean       1.664913  \n",
              "std        0.558574  \n",
              "min        0.000000  \n",
              "25%        1.200000  \n",
              "50%        1.600000  \n",
              "75%        2.000000  \n",
              "max        6.600000  "
            ],
            "text/html": [
              "\n",
              "  <div id=\"df-7feaa79b-6eae-444d-b2d2-f4f46cfd0ee5\">\n",
              "    <div class=\"colab-df-container\">\n",
              "      <div>\n",
              "<style scoped>\n",
              "    .dataframe tbody tr th:only-of-type {\n",
              "        vertical-align: middle;\n",
              "    }\n",
              "\n",
              "    .dataframe tbody tr th {\n",
              "        vertical-align: top;\n",
              "    }\n",
              "\n",
              "    .dataframe thead th {\n",
              "        text-align: right;\n",
              "    }\n",
              "</style>\n",
              "<table border=\"1\" class=\"dataframe\">\n",
              "  <thead>\n",
              "    <tr style=\"text-align: right;\">\n",
              "      <th></th>\n",
              "      <th>year</th>\n",
              "      <th>price</th>\n",
              "      <th>mileage</th>\n",
              "      <th>tax</th>\n",
              "      <th>mpg</th>\n",
              "      <th>engineSize</th>\n",
              "    </tr>\n",
              "  </thead>\n",
              "  <tbody>\n",
              "    <tr>\n",
              "      <th>count</th>\n",
              "      <td>97712.000000</td>\n",
              "      <td>97712.000000</td>\n",
              "      <td>97712.000000</td>\n",
              "      <td>97712.000000</td>\n",
              "      <td>97712.000000</td>\n",
              "      <td>97712.000000</td>\n",
              "    </tr>\n",
              "    <tr>\n",
              "      <th>mean</th>\n",
              "      <td>2017.066870</td>\n",
              "      <td>16773.487555</td>\n",
              "      <td>23219.475499</td>\n",
              "      <td>120.142408</td>\n",
              "      <td>55.205623</td>\n",
              "      <td>1.664913</td>\n",
              "    </tr>\n",
              "    <tr>\n",
              "      <th>std</th>\n",
              "      <td>2.122993</td>\n",
              "      <td>9868.552222</td>\n",
              "      <td>21060.882301</td>\n",
              "      <td>63.357250</td>\n",
              "      <td>16.181659</td>\n",
              "      <td>0.558574</td>\n",
              "    </tr>\n",
              "    <tr>\n",
              "      <th>min</th>\n",
              "      <td>1970.000000</td>\n",
              "      <td>450.000000</td>\n",
              "      <td>1.000000</td>\n",
              "      <td>0.000000</td>\n",
              "      <td>0.300000</td>\n",
              "      <td>0.000000</td>\n",
              "    </tr>\n",
              "    <tr>\n",
              "      <th>25%</th>\n",
              "      <td>2016.000000</td>\n",
              "      <td>9999.000000</td>\n",
              "      <td>7673.000000</td>\n",
              "      <td>125.000000</td>\n",
              "      <td>47.100000</td>\n",
              "      <td>1.200000</td>\n",
              "    </tr>\n",
              "    <tr>\n",
              "      <th>50%</th>\n",
              "      <td>2017.000000</td>\n",
              "      <td>14470.000000</td>\n",
              "      <td>17682.500000</td>\n",
              "      <td>145.000000</td>\n",
              "      <td>54.300000</td>\n",
              "      <td>1.600000</td>\n",
              "    </tr>\n",
              "    <tr>\n",
              "      <th>75%</th>\n",
              "      <td>2019.000000</td>\n",
              "      <td>20750.000000</td>\n",
              "      <td>32500.000000</td>\n",
              "      <td>145.000000</td>\n",
              "      <td>62.800000</td>\n",
              "      <td>2.000000</td>\n",
              "    </tr>\n",
              "    <tr>\n",
              "      <th>max</th>\n",
              "      <td>2060.000000</td>\n",
              "      <td>159999.000000</td>\n",
              "      <td>323000.000000</td>\n",
              "      <td>580.000000</td>\n",
              "      <td>470.800000</td>\n",
              "      <td>6.600000</td>\n",
              "    </tr>\n",
              "  </tbody>\n",
              "</table>\n",
              "</div>\n",
              "      <button class=\"colab-df-convert\" onclick=\"convertToInteractive('df-7feaa79b-6eae-444d-b2d2-f4f46cfd0ee5')\"\n",
              "              title=\"Convert this dataframe to an interactive table.\"\n",
              "              style=\"display:none;\">\n",
              "        \n",
              "  <svg xmlns=\"http://www.w3.org/2000/svg\" height=\"24px\"viewBox=\"0 0 24 24\"\n",
              "       width=\"24px\">\n",
              "    <path d=\"M0 0h24v24H0V0z\" fill=\"none\"/>\n",
              "    <path d=\"M18.56 5.44l.94 2.06.94-2.06 2.06-.94-2.06-.94-.94-2.06-.94 2.06-2.06.94zm-11 1L8.5 8.5l.94-2.06 2.06-.94-2.06-.94L8.5 2.5l-.94 2.06-2.06.94zm10 10l.94 2.06.94-2.06 2.06-.94-2.06-.94-.94-2.06-.94 2.06-2.06.94z\"/><path d=\"M17.41 7.96l-1.37-1.37c-.4-.4-.92-.59-1.43-.59-.52 0-1.04.2-1.43.59L10.3 9.45l-7.72 7.72c-.78.78-.78 2.05 0 2.83L4 21.41c.39.39.9.59 1.41.59.51 0 1.02-.2 1.41-.59l7.78-7.78 2.81-2.81c.8-.78.8-2.07 0-2.86zM5.41 20L4 18.59l7.72-7.72 1.47 1.35L5.41 20z\"/>\n",
              "  </svg>\n",
              "      </button>\n",
              "      \n",
              "  <style>\n",
              "    .colab-df-container {\n",
              "      display:flex;\n",
              "      flex-wrap:wrap;\n",
              "      gap: 12px;\n",
              "    }\n",
              "\n",
              "    .colab-df-convert {\n",
              "      background-color: #E8F0FE;\n",
              "      border: none;\n",
              "      border-radius: 50%;\n",
              "      cursor: pointer;\n",
              "      display: none;\n",
              "      fill: #1967D2;\n",
              "      height: 32px;\n",
              "      padding: 0 0 0 0;\n",
              "      width: 32px;\n",
              "    }\n",
              "\n",
              "    .colab-df-convert:hover {\n",
              "      background-color: #E2EBFA;\n",
              "      box-shadow: 0px 1px 2px rgba(60, 64, 67, 0.3), 0px 1px 3px 1px rgba(60, 64, 67, 0.15);\n",
              "      fill: #174EA6;\n",
              "    }\n",
              "\n",
              "    [theme=dark] .colab-df-convert {\n",
              "      background-color: #3B4455;\n",
              "      fill: #D2E3FC;\n",
              "    }\n",
              "\n",
              "    [theme=dark] .colab-df-convert:hover {\n",
              "      background-color: #434B5C;\n",
              "      box-shadow: 0px 1px 3px 1px rgba(0, 0, 0, 0.15);\n",
              "      filter: drop-shadow(0px 1px 2px rgba(0, 0, 0, 0.3));\n",
              "      fill: #FFFFFF;\n",
              "    }\n",
              "  </style>\n",
              "\n",
              "      <script>\n",
              "        const buttonEl =\n",
              "          document.querySelector('#df-7feaa79b-6eae-444d-b2d2-f4f46cfd0ee5 button.colab-df-convert');\n",
              "        buttonEl.style.display =\n",
              "          google.colab.kernel.accessAllowed ? 'block' : 'none';\n",
              "\n",
              "        async function convertToInteractive(key) {\n",
              "          const element = document.querySelector('#df-7feaa79b-6eae-444d-b2d2-f4f46cfd0ee5');\n",
              "          const dataTable =\n",
              "            await google.colab.kernel.invokeFunction('convertToInteractive',\n",
              "                                                     [key], {});\n",
              "          if (!dataTable) return;\n",
              "\n",
              "          const docLinkHtml = 'Like what you see? Visit the ' +\n",
              "            '<a target=\"_blank\" href=https://colab.research.google.com/notebooks/data_table.ipynb>data table notebook</a>'\n",
              "            + ' to learn more about interactive tables.';\n",
              "          element.innerHTML = '';\n",
              "          dataTable['output_type'] = 'display_data';\n",
              "          await google.colab.output.renderOutput(dataTable, element);\n",
              "          const docLink = document.createElement('div');\n",
              "          docLink.innerHTML = docLinkHtml;\n",
              "          element.appendChild(docLink);\n",
              "        }\n",
              "      </script>\n",
              "    </div>\n",
              "  </div>\n",
              "  "
            ]
          },
          "metadata": {},
          "execution_count": 24
        }
      ],
      "source": [
        "# Get information about the merged dataframe usedcar_df\n",
        "usedcar_df.info()\n",
        "\n",
        "usedcar_df.describe()"
      ]
    },
    {
      "cell_type": "markdown",
      "metadata": {
        "id": "f4LxBGu5M4UO"
      },
      "source": [
        "The describe() function reveals more descriptive statistics of the dataframe. One thing worth noticing is the max value of the variable `year` **(registration year)** is 2060, which does not make sense. Therefore we need to drop rows where the value of year is larger than 2023."
      ]
    },
    {
      "cell_type": "code",
      "execution_count": 25,
      "metadata": {
        "colab": {
          "base_uri": "https://localhost:8080/",
          "height": 300
        },
        "id": "Ii9ZKxLHX4T_",
        "outputId": "83a83921-e787-48f0-e939-e95784a9b64a"
      },
      "outputs": [
        {
          "output_type": "execute_result",
          "data": {
            "text/plain": [
              "               year          price        mileage           tax           mpg  \\\n",
              "count  97711.000000   97711.000000   97711.000000  97711.000000  97711.000000   \n",
              "mean    2017.066431   16773.592748   23219.152224    120.141540     55.205750   \n",
              "std        2.118556    9868.547939   21060.747641     63.356993     16.181693   \n",
              "min     1970.000000     450.000000       1.000000      0.000000      0.300000   \n",
              "25%     2016.000000    9999.000000    7673.000000    125.000000     47.100000   \n",
              "50%     2017.000000   14470.000000   17682.000000    145.000000     54.300000   \n",
              "75%     2019.000000   20750.000000   32500.000000    145.000000     62.800000   \n",
              "max     2020.000000  159999.000000  323000.000000    580.000000    470.800000   \n",
              "\n",
              "         engineSize  \n",
              "count  97711.000000  \n",
              "mean       1.664916  \n",
              "std        0.558576  \n",
              "min        0.000000  \n",
              "25%        1.200000  \n",
              "50%        1.600000  \n",
              "75%        2.000000  \n",
              "max        6.600000  "
            ],
            "text/html": [
              "\n",
              "  <div id=\"df-fb447ed9-7b13-46af-bc75-5794c81053a9\">\n",
              "    <div class=\"colab-df-container\">\n",
              "      <div>\n",
              "<style scoped>\n",
              "    .dataframe tbody tr th:only-of-type {\n",
              "        vertical-align: middle;\n",
              "    }\n",
              "\n",
              "    .dataframe tbody tr th {\n",
              "        vertical-align: top;\n",
              "    }\n",
              "\n",
              "    .dataframe thead th {\n",
              "        text-align: right;\n",
              "    }\n",
              "</style>\n",
              "<table border=\"1\" class=\"dataframe\">\n",
              "  <thead>\n",
              "    <tr style=\"text-align: right;\">\n",
              "      <th></th>\n",
              "      <th>year</th>\n",
              "      <th>price</th>\n",
              "      <th>mileage</th>\n",
              "      <th>tax</th>\n",
              "      <th>mpg</th>\n",
              "      <th>engineSize</th>\n",
              "    </tr>\n",
              "  </thead>\n",
              "  <tbody>\n",
              "    <tr>\n",
              "      <th>count</th>\n",
              "      <td>97711.000000</td>\n",
              "      <td>97711.000000</td>\n",
              "      <td>97711.000000</td>\n",
              "      <td>97711.000000</td>\n",
              "      <td>97711.000000</td>\n",
              "      <td>97711.000000</td>\n",
              "    </tr>\n",
              "    <tr>\n",
              "      <th>mean</th>\n",
              "      <td>2017.066431</td>\n",
              "      <td>16773.592748</td>\n",
              "      <td>23219.152224</td>\n",
              "      <td>120.141540</td>\n",
              "      <td>55.205750</td>\n",
              "      <td>1.664916</td>\n",
              "    </tr>\n",
              "    <tr>\n",
              "      <th>std</th>\n",
              "      <td>2.118556</td>\n",
              "      <td>9868.547939</td>\n",
              "      <td>21060.747641</td>\n",
              "      <td>63.356993</td>\n",
              "      <td>16.181693</td>\n",
              "      <td>0.558576</td>\n",
              "    </tr>\n",
              "    <tr>\n",
              "      <th>min</th>\n",
              "      <td>1970.000000</td>\n",
              "      <td>450.000000</td>\n",
              "      <td>1.000000</td>\n",
              "      <td>0.000000</td>\n",
              "      <td>0.300000</td>\n",
              "      <td>0.000000</td>\n",
              "    </tr>\n",
              "    <tr>\n",
              "      <th>25%</th>\n",
              "      <td>2016.000000</td>\n",
              "      <td>9999.000000</td>\n",
              "      <td>7673.000000</td>\n",
              "      <td>125.000000</td>\n",
              "      <td>47.100000</td>\n",
              "      <td>1.200000</td>\n",
              "    </tr>\n",
              "    <tr>\n",
              "      <th>50%</th>\n",
              "      <td>2017.000000</td>\n",
              "      <td>14470.000000</td>\n",
              "      <td>17682.000000</td>\n",
              "      <td>145.000000</td>\n",
              "      <td>54.300000</td>\n",
              "      <td>1.600000</td>\n",
              "    </tr>\n",
              "    <tr>\n",
              "      <th>75%</th>\n",
              "      <td>2019.000000</td>\n",
              "      <td>20750.000000</td>\n",
              "      <td>32500.000000</td>\n",
              "      <td>145.000000</td>\n",
              "      <td>62.800000</td>\n",
              "      <td>2.000000</td>\n",
              "    </tr>\n",
              "    <tr>\n",
              "      <th>max</th>\n",
              "      <td>2020.000000</td>\n",
              "      <td>159999.000000</td>\n",
              "      <td>323000.000000</td>\n",
              "      <td>580.000000</td>\n",
              "      <td>470.800000</td>\n",
              "      <td>6.600000</td>\n",
              "    </tr>\n",
              "  </tbody>\n",
              "</table>\n",
              "</div>\n",
              "      <button class=\"colab-df-convert\" onclick=\"convertToInteractive('df-fb447ed9-7b13-46af-bc75-5794c81053a9')\"\n",
              "              title=\"Convert this dataframe to an interactive table.\"\n",
              "              style=\"display:none;\">\n",
              "        \n",
              "  <svg xmlns=\"http://www.w3.org/2000/svg\" height=\"24px\"viewBox=\"0 0 24 24\"\n",
              "       width=\"24px\">\n",
              "    <path d=\"M0 0h24v24H0V0z\" fill=\"none\"/>\n",
              "    <path d=\"M18.56 5.44l.94 2.06.94-2.06 2.06-.94-2.06-.94-.94-2.06-.94 2.06-2.06.94zm-11 1L8.5 8.5l.94-2.06 2.06-.94-2.06-.94L8.5 2.5l-.94 2.06-2.06.94zm10 10l.94 2.06.94-2.06 2.06-.94-2.06-.94-.94-2.06-.94 2.06-2.06.94z\"/><path d=\"M17.41 7.96l-1.37-1.37c-.4-.4-.92-.59-1.43-.59-.52 0-1.04.2-1.43.59L10.3 9.45l-7.72 7.72c-.78.78-.78 2.05 0 2.83L4 21.41c.39.39.9.59 1.41.59.51 0 1.02-.2 1.41-.59l7.78-7.78 2.81-2.81c.8-.78.8-2.07 0-2.86zM5.41 20L4 18.59l7.72-7.72 1.47 1.35L5.41 20z\"/>\n",
              "  </svg>\n",
              "      </button>\n",
              "      \n",
              "  <style>\n",
              "    .colab-df-container {\n",
              "      display:flex;\n",
              "      flex-wrap:wrap;\n",
              "      gap: 12px;\n",
              "    }\n",
              "\n",
              "    .colab-df-convert {\n",
              "      background-color: #E8F0FE;\n",
              "      border: none;\n",
              "      border-radius: 50%;\n",
              "      cursor: pointer;\n",
              "      display: none;\n",
              "      fill: #1967D2;\n",
              "      height: 32px;\n",
              "      padding: 0 0 0 0;\n",
              "      width: 32px;\n",
              "    }\n",
              "\n",
              "    .colab-df-convert:hover {\n",
              "      background-color: #E2EBFA;\n",
              "      box-shadow: 0px 1px 2px rgba(60, 64, 67, 0.3), 0px 1px 3px 1px rgba(60, 64, 67, 0.15);\n",
              "      fill: #174EA6;\n",
              "    }\n",
              "\n",
              "    [theme=dark] .colab-df-convert {\n",
              "      background-color: #3B4455;\n",
              "      fill: #D2E3FC;\n",
              "    }\n",
              "\n",
              "    [theme=dark] .colab-df-convert:hover {\n",
              "      background-color: #434B5C;\n",
              "      box-shadow: 0px 1px 3px 1px rgba(0, 0, 0, 0.15);\n",
              "      filter: drop-shadow(0px 1px 2px rgba(0, 0, 0, 0.3));\n",
              "      fill: #FFFFFF;\n",
              "    }\n",
              "  </style>\n",
              "\n",
              "      <script>\n",
              "        const buttonEl =\n",
              "          document.querySelector('#df-fb447ed9-7b13-46af-bc75-5794c81053a9 button.colab-df-convert');\n",
              "        buttonEl.style.display =\n",
              "          google.colab.kernel.accessAllowed ? 'block' : 'none';\n",
              "\n",
              "        async function convertToInteractive(key) {\n",
              "          const element = document.querySelector('#df-fb447ed9-7b13-46af-bc75-5794c81053a9');\n",
              "          const dataTable =\n",
              "            await google.colab.kernel.invokeFunction('convertToInteractive',\n",
              "                                                     [key], {});\n",
              "          if (!dataTable) return;\n",
              "\n",
              "          const docLinkHtml = 'Like what you see? Visit the ' +\n",
              "            '<a target=\"_blank\" href=https://colab.research.google.com/notebooks/data_table.ipynb>data table notebook</a>'\n",
              "            + ' to learn more about interactive tables.';\n",
              "          element.innerHTML = '';\n",
              "          dataTable['output_type'] = 'display_data';\n",
              "          await google.colab.output.renderOutput(dataTable, element);\n",
              "          const docLink = document.createElement('div');\n",
              "          docLink.innerHTML = docLinkHtml;\n",
              "          element.appendChild(docLink);\n",
              "        }\n",
              "      </script>\n",
              "    </div>\n",
              "  </div>\n",
              "  "
            ]
          },
          "metadata": {},
          "execution_count": 25
        }
      ],
      "source": [
        "usedcar_df = usedcar_df[usedcar_df['year'] <= 2023]\n",
        "usedcar_df.describe()"
      ]
    },
    {
      "cell_type": "markdown",
      "metadata": {
        "id": "6Sdtf6udHrqC"
      },
      "source": [
        "## EDA\n"
      ]
    },
    {
      "cell_type": "markdown",
      "metadata": {
        "id": "5QsTVgv6Hvu4"
      },
      "source": [
        "### Which Car Model is the Most Popular?\n",
        "\n",
        "We are curious to know which model has been the most popular during the time span, therefore we create a barplot to visualize the count of each model. We aim to create visualization for the top 10 popular car models. \n",
        "\n",
        "According to the histogram, we discover that **Fiesta by Ford** is the most popular car model, followed by **Golf by VW** and **Focus by Ford**."
      ]
    },
    {
      "cell_type": "code",
      "execution_count": 26,
      "metadata": {
        "colab": {
          "base_uri": "https://localhost:8080/",
          "height": 424
        },
        "id": "hS0VTddlHuev",
        "outputId": "9e4b1a60-6ce6-472f-87cd-4cc17ad43373"
      },
      "outputs": [
        {
          "output_type": "execute_result",
          "data": {
            "text/plain": [
              "                model  count\n",
              "60             Fiesta   6508\n",
              "75               Golf   4797\n",
              "61              Focus   4555\n",
              "32            C Class   3694\n",
              "52              Corsa   3285\n",
              "..                ...    ...\n",
              "10                 A2      1\n",
              "131            Ranger      1\n",
              "163   Transit Tourneo      1\n",
              "17             Accent      1\n",
              "194               230      1\n",
              "\n",
              "[195 rows x 2 columns]"
            ],
            "text/html": [
              "\n",
              "  <div id=\"df-acde4b1f-4fac-4f8c-85a8-0d2af914935b\">\n",
              "    <div class=\"colab-df-container\">\n",
              "      <div>\n",
              "<style scoped>\n",
              "    .dataframe tbody tr th:only-of-type {\n",
              "        vertical-align: middle;\n",
              "    }\n",
              "\n",
              "    .dataframe tbody tr th {\n",
              "        vertical-align: top;\n",
              "    }\n",
              "\n",
              "    .dataframe thead th {\n",
              "        text-align: right;\n",
              "    }\n",
              "</style>\n",
              "<table border=\"1\" class=\"dataframe\">\n",
              "  <thead>\n",
              "    <tr style=\"text-align: right;\">\n",
              "      <th></th>\n",
              "      <th>model</th>\n",
              "      <th>count</th>\n",
              "    </tr>\n",
              "  </thead>\n",
              "  <tbody>\n",
              "    <tr>\n",
              "      <th>60</th>\n",
              "      <td>Fiesta</td>\n",
              "      <td>6508</td>\n",
              "    </tr>\n",
              "    <tr>\n",
              "      <th>75</th>\n",
              "      <td>Golf</td>\n",
              "      <td>4797</td>\n",
              "    </tr>\n",
              "    <tr>\n",
              "      <th>61</th>\n",
              "      <td>Focus</td>\n",
              "      <td>4555</td>\n",
              "    </tr>\n",
              "    <tr>\n",
              "      <th>32</th>\n",
              "      <td>C Class</td>\n",
              "      <td>3694</td>\n",
              "    </tr>\n",
              "    <tr>\n",
              "      <th>52</th>\n",
              "      <td>Corsa</td>\n",
              "      <td>3285</td>\n",
              "    </tr>\n",
              "    <tr>\n",
              "      <th>...</th>\n",
              "      <td>...</td>\n",
              "      <td>...</td>\n",
              "    </tr>\n",
              "    <tr>\n",
              "      <th>10</th>\n",
              "      <td>A2</td>\n",
              "      <td>1</td>\n",
              "    </tr>\n",
              "    <tr>\n",
              "      <th>131</th>\n",
              "      <td>Ranger</td>\n",
              "      <td>1</td>\n",
              "    </tr>\n",
              "    <tr>\n",
              "      <th>163</th>\n",
              "      <td>Transit Tourneo</td>\n",
              "      <td>1</td>\n",
              "    </tr>\n",
              "    <tr>\n",
              "      <th>17</th>\n",
              "      <td>Accent</td>\n",
              "      <td>1</td>\n",
              "    </tr>\n",
              "    <tr>\n",
              "      <th>194</th>\n",
              "      <td>230</td>\n",
              "      <td>1</td>\n",
              "    </tr>\n",
              "  </tbody>\n",
              "</table>\n",
              "<p>195 rows × 2 columns</p>\n",
              "</div>\n",
              "      <button class=\"colab-df-convert\" onclick=\"convertToInteractive('df-acde4b1f-4fac-4f8c-85a8-0d2af914935b')\"\n",
              "              title=\"Convert this dataframe to an interactive table.\"\n",
              "              style=\"display:none;\">\n",
              "        \n",
              "  <svg xmlns=\"http://www.w3.org/2000/svg\" height=\"24px\"viewBox=\"0 0 24 24\"\n",
              "       width=\"24px\">\n",
              "    <path d=\"M0 0h24v24H0V0z\" fill=\"none\"/>\n",
              "    <path d=\"M18.56 5.44l.94 2.06.94-2.06 2.06-.94-2.06-.94-.94-2.06-.94 2.06-2.06.94zm-11 1L8.5 8.5l.94-2.06 2.06-.94-2.06-.94L8.5 2.5l-.94 2.06-2.06.94zm10 10l.94 2.06.94-2.06 2.06-.94-2.06-.94-.94-2.06-.94 2.06-2.06.94z\"/><path d=\"M17.41 7.96l-1.37-1.37c-.4-.4-.92-.59-1.43-.59-.52 0-1.04.2-1.43.59L10.3 9.45l-7.72 7.72c-.78.78-.78 2.05 0 2.83L4 21.41c.39.39.9.59 1.41.59.51 0 1.02-.2 1.41-.59l7.78-7.78 2.81-2.81c.8-.78.8-2.07 0-2.86zM5.41 20L4 18.59l7.72-7.72 1.47 1.35L5.41 20z\"/>\n",
              "  </svg>\n",
              "      </button>\n",
              "      \n",
              "  <style>\n",
              "    .colab-df-container {\n",
              "      display:flex;\n",
              "      flex-wrap:wrap;\n",
              "      gap: 12px;\n",
              "    }\n",
              "\n",
              "    .colab-df-convert {\n",
              "      background-color: #E8F0FE;\n",
              "      border: none;\n",
              "      border-radius: 50%;\n",
              "      cursor: pointer;\n",
              "      display: none;\n",
              "      fill: #1967D2;\n",
              "      height: 32px;\n",
              "      padding: 0 0 0 0;\n",
              "      width: 32px;\n",
              "    }\n",
              "\n",
              "    .colab-df-convert:hover {\n",
              "      background-color: #E2EBFA;\n",
              "      box-shadow: 0px 1px 2px rgba(60, 64, 67, 0.3), 0px 1px 3px 1px rgba(60, 64, 67, 0.15);\n",
              "      fill: #174EA6;\n",
              "    }\n",
              "\n",
              "    [theme=dark] .colab-df-convert {\n",
              "      background-color: #3B4455;\n",
              "      fill: #D2E3FC;\n",
              "    }\n",
              "\n",
              "    [theme=dark] .colab-df-convert:hover {\n",
              "      background-color: #434B5C;\n",
              "      box-shadow: 0px 1px 3px 1px rgba(0, 0, 0, 0.15);\n",
              "      filter: drop-shadow(0px 1px 2px rgba(0, 0, 0, 0.3));\n",
              "      fill: #FFFFFF;\n",
              "    }\n",
              "  </style>\n",
              "\n",
              "      <script>\n",
              "        const buttonEl =\n",
              "          document.querySelector('#df-acde4b1f-4fac-4f8c-85a8-0d2af914935b button.colab-df-convert');\n",
              "        buttonEl.style.display =\n",
              "          google.colab.kernel.accessAllowed ? 'block' : 'none';\n",
              "\n",
              "        async function convertToInteractive(key) {\n",
              "          const element = document.querySelector('#df-acde4b1f-4fac-4f8c-85a8-0d2af914935b');\n",
              "          const dataTable =\n",
              "            await google.colab.kernel.invokeFunction('convertToInteractive',\n",
              "                                                     [key], {});\n",
              "          if (!dataTable) return;\n",
              "\n",
              "          const docLinkHtml = 'Like what you see? Visit the ' +\n",
              "            '<a target=\"_blank\" href=https://colab.research.google.com/notebooks/data_table.ipynb>data table notebook</a>'\n",
              "            + ' to learn more about interactive tables.';\n",
              "          element.innerHTML = '';\n",
              "          dataTable['output_type'] = 'display_data';\n",
              "          await google.colab.output.renderOutput(dataTable, element);\n",
              "          const docLink = document.createElement('div');\n",
              "          docLink.innerHTML = docLinkHtml;\n",
              "          element.appendChild(docLink);\n",
              "        }\n",
              "      </script>\n",
              "    </div>\n",
              "  </div>\n",
              "  "
            ]
          },
          "metadata": {},
          "execution_count": 26
        }
      ],
      "source": [
        "model_df= usedcar_df.groupby('model')['model'].count().reset_index(name='count').sort_values(['count'], ascending=False)\n",
        "model_df"
      ]
    },
    {
      "cell_type": "code",
      "execution_count": 27,
      "metadata": {
        "colab": {
          "base_uri": "https://localhost:8080/",
          "height": 487
        },
        "id": "ESr1mFjQMXOY",
        "outputId": "bd3570ea-77f8-4a55-f20c-beab2fbe7af3"
      },
      "outputs": [
        {
          "output_type": "display_data",
          "data": {
            "text/plain": [
              "<Figure size 800x500 with 1 Axes>"
            ],
            "image/png": "[encoded data removed]"
          },
          "metadata": {}
        }
      ],
      "source": [
        "figure, axis = plt.subplots(figsize = (8, 5))\n",
        "plot = sns.barplot(x = model_df['model'].head(10), y = model_df['count'].head(10), palette = 'husl', errorbar = None)\n",
        "plot.set(title ='Sales Count Based on Car Model Type', xlabel ='Model', ylabel = \"Count\")\n",
        "\n",
        "for i in plot.containers:\n",
        "    plot.bar_label(i,)"
      ]
    },
    {
      "cell_type": "markdown",
      "metadata": {
        "id": "P-AkEpijQVbV"
      },
      "source": [
        "### What is the most popular registration year among used cars in the market? ####\n",
        "\n",
        "We are interested in learning more about the age of cars available in the market. To do so, we analyzed the popular registration years of used cars in the market. After tallying the number of sales for each year, we found that **2019** was the most frequently occurring year. This suggests a trend of people selling their cars after three years of ownership.\n",
        "\n",
        "To better visualize the data, we created a bar plot that displays the top 10 most popular registration years and their corresponding counts."
      ]
    },
    {
      "cell_type": "code",
      "execution_count": 28,
      "metadata": {
        "colab": {
          "base_uri": "https://localhost:8080/",
          "height": 865
        },
        "id": "_hL_QzUdP8lC",
        "outputId": "30d60a0c-21ad-4f0d-9a4d-35d7b2b48633"
      },
      "outputs": [
        {
          "output_type": "execute_result",
          "data": {
            "text/plain": [
              "    year  count\n",
              "24  2019  26165\n",
              "22  2017  21616\n",
              "21  2016  15724\n",
              "23  2018  13570\n",
              "20  2015   7586\n",
              "19  2014   4053\n",
              "25  2020   4040\n",
              "18  2013   2590\n",
              "17  2012    633\n",
              "16  2011    432\n",
              "15  2010    340\n",
              "14  2009    277\n",
              "13  2008    199\n",
              "12  2007    163\n",
              "11  2006     86\n",
              "10  2005     69\n",
              "9   2004     52\n",
              "8   2003     34\n",
              "7   2002     31\n",
              "6   2001     20\n",
              "5   2000      9\n",
              "3   1998      8\n",
              "4   1999      6\n",
              "2   1997      4\n",
              "1   1996      2\n",
              "0   1970      2"
            ],
            "text/html": [
              "\n",
              "  <div id=\"df-d5799f73-f8a6-4795-85e9-68bf51546e46\">\n",
              "    <div class=\"colab-df-container\">\n",
              "      <div>\n",
              "<style scoped>\n",
              "    .dataframe tbody tr th:only-of-type {\n",
              "        vertical-align: middle;\n",
              "    }\n",
              "\n",
              "    .dataframe tbody tr th {\n",
              "        vertical-align: top;\n",
              "    }\n",
              "\n",
              "    .dataframe thead th {\n",
              "        text-align: right;\n",
              "    }\n",
              "</style>\n",
              "<table border=\"1\" class=\"dataframe\">\n",
              "  <thead>\n",
              "    <tr style=\"text-align: right;\">\n",
              "      <th></th>\n",
              "      <th>year</th>\n",
              "      <th>count</th>\n",
              "    </tr>\n",
              "  </thead>\n",
              "  <tbody>\n",
              "    <tr>\n",
              "      <th>24</th>\n",
              "      <td>2019</td>\n",
              "      <td>26165</td>\n",
              "    </tr>\n",
              "    <tr>\n",
              "      <th>22</th>\n",
              "      <td>2017</td>\n",
              "      <td>21616</td>\n",
              "    </tr>\n",
              "    <tr>\n",
              "      <th>21</th>\n",
              "      <td>2016</td>\n",
              "      <td>15724</td>\n",
              "    </tr>\n",
              "    <tr>\n",
              "      <th>23</th>\n",
              "      <td>2018</td>\n",
              "      <td>13570</td>\n",
              "    </tr>\n",
              "    <tr>\n",
              "      <th>20</th>\n",
              "      <td>2015</td>\n",
              "      <td>7586</td>\n",
              "    </tr>\n",
              "    <tr>\n",
              "      <th>19</th>\n",
              "      <td>2014</td>\n",
              "      <td>4053</td>\n",
              "    </tr>\n",
              "    <tr>\n",
              "      <th>25</th>\n",
              "      <td>2020</td>\n",
              "      <td>4040</td>\n",
              "    </tr>\n",
              "    <tr>\n",
              "      <th>18</th>\n",
              "      <td>2013</td>\n",
              "      <td>2590</td>\n",
              "    </tr>\n",
              "    <tr>\n",
              "      <th>17</th>\n",
              "      <td>2012</td>\n",
              "      <td>633</td>\n",
              "    </tr>\n",
              "    <tr>\n",
              "      <th>16</th>\n",
              "      <td>2011</td>\n",
              "      <td>432</td>\n",
              "    </tr>\n",
              "    <tr>\n",
              "      <th>15</th>\n",
              "      <td>2010</td>\n",
              "      <td>340</td>\n",
              "    </tr>\n",
              "    <tr>\n",
              "      <th>14</th>\n",
              "      <td>2009</td>\n",
              "      <td>277</td>\n",
              "    </tr>\n",
              "    <tr>\n",
              "      <th>13</th>\n",
              "      <td>2008</td>\n",
              "      <td>199</td>\n",
              "    </tr>\n",
              "    <tr>\n",
              "      <th>12</th>\n",
              "      <td>2007</td>\n",
              "      <td>163</td>\n",
              "    </tr>\n",
              "    <tr>\n",
              "      <th>11</th>\n",
              "      <td>2006</td>\n",
              "      <td>86</td>\n",
              "    </tr>\n",
              "    <tr>\n",
              "      <th>10</th>\n",
              "      <td>2005</td>\n",
              "      <td>69</td>\n",
              "    </tr>\n",
              "    <tr>\n",
              "      <th>9</th>\n",
              "      <td>2004</td>\n",
              "      <td>52</td>\n",
              "    </tr>\n",
              "    <tr>\n",
              "      <th>8</th>\n",
              "      <td>2003</td>\n",
              "      <td>34</td>\n",
              "    </tr>\n",
              "    <tr>\n",
              "      <th>7</th>\n",
              "      <td>2002</td>\n",
              "      <td>31</td>\n",
              "    </tr>\n",
              "    <tr>\n",
              "      <th>6</th>\n",
              "      <td>2001</td>\n",
              "      <td>20</td>\n",
              "    </tr>\n",
              "    <tr>\n",
              "      <th>5</th>\n",
              "      <td>2000</td>\n",
              "      <td>9</td>\n",
              "    </tr>\n",
              "    <tr>\n",
              "      <th>3</th>\n",
              "      <td>1998</td>\n",
              "      <td>8</td>\n",
              "    </tr>\n",
              "    <tr>\n",
              "      <th>4</th>\n",
              "      <td>1999</td>\n",
              "      <td>6</td>\n",
              "    </tr>\n",
              "    <tr>\n",
              "      <th>2</th>\n",
              "      <td>1997</td>\n",
              "      <td>4</td>\n",
              "    </tr>\n",
              "    <tr>\n",
              "      <th>1</th>\n",
              "      <td>1996</td>\n",
              "      <td>2</td>\n",
              "    </tr>\n",
              "    <tr>\n",
              "      <th>0</th>\n",
              "      <td>1970</td>\n",
              "      <td>2</td>\n",
              "    </tr>\n",
              "  </tbody>\n",
              "</table>\n",
              "</div>\n",
              "      <button class=\"colab-df-convert\" onclick=\"convertToInteractive('df-d5799f73-f8a6-4795-85e9-68bf51546e46')\"\n",
              "              title=\"Convert this dataframe to an interactive table.\"\n",
              "              style=\"display:none;\">\n",
              "        \n",
              "  <svg xmlns=\"http://www.w3.org/2000/svg\" height=\"24px\"viewBox=\"0 0 24 24\"\n",
              "       width=\"24px\">\n",
              "    <path d=\"M0 0h24v24H0V0z\" fill=\"none\"/>\n",
              "    <path d=\"M18.56 5.44l.94 2.06.94-2.06 2.06-.94-2.06-.94-.94-2.06-.94 2.06-2.06.94zm-11 1L8.5 8.5l.94-2.06 2.06-.94-2.06-.94L8.5 2.5l-.94 2.06-2.06.94zm10 10l.94 2.06.94-2.06 2.06-.94-2.06-.94-.94-2.06-.94 2.06-2.06.94z\"/><path d=\"M17.41 7.96l-1.37-1.37c-.4-.4-.92-.59-1.43-.59-.52 0-1.04.2-1.43.59L10.3 9.45l-7.72 7.72c-.78.78-.78 2.05 0 2.83L4 21.41c.39.39.9.59 1.41.59.51 0 1.02-.2 1.41-.59l7.78-7.78 2.81-2.81c.8-.78.8-2.07 0-2.86zM5.41 20L4 18.59l7.72-7.72 1.47 1.35L5.41 20z\"/>\n",
              "  </svg>\n",
              "      </button>\n",
              "      \n",
              "  <style>\n",
              "    .colab-df-container {\n",
              "      display:flex;\n",
              "      flex-wrap:wrap;\n",
              "      gap: 12px;\n",
              "    }\n",
              "\n",
              "    .colab-df-convert {\n",
              "      background-color: #E8F0FE;\n",
              "      border: none;\n",
              "      border-radius: 50%;\n",
              "      cursor: pointer;\n",
              "      display: none;\n",
              "      fill: #1967D2;\n",
              "      height: 32px;\n",
              "      padding: 0 0 0 0;\n",
              "      width: 32px;\n",
              "    }\n",
              "\n",
              "    .colab-df-convert:hover {\n",
              "      background-color: #E2EBFA;\n",
              "      box-shadow: 0px 1px 2px rgba(60, 64, 67, 0.3), 0px 1px 3px 1px rgba(60, 64, 67, 0.15);\n",
              "      fill: #174EA6;\n",
              "    }\n",
              "\n",
              "    [theme=dark] .colab-df-convert {\n",
              "      background-color: #3B4455;\n",
              "      fill: #D2E3FC;\n",
              "    }\n",
              "\n",
              "    [theme=dark] .colab-df-convert:hover {\n",
              "      background-color: #434B5C;\n",
              "      box-shadow: 0px 1px 3px 1px rgba(0, 0, 0, 0.15);\n",
              "      filter: drop-shadow(0px 1px 2px rgba(0, 0, 0, 0.3));\n",
              "      fill: #FFFFFF;\n",
              "    }\n",
              "  </style>\n",
              "\n",
              "      <script>\n",
              "        const buttonEl =\n",
              "          document.querySelector('#df-d5799f73-f8a6-4795-85e9-68bf51546e46 button.colab-df-convert');\n",
              "        buttonEl.style.display =\n",
              "          google.colab.kernel.accessAllowed ? 'block' : 'none';\n",
              "\n",
              "        async function convertToInteractive(key) {\n",
              "          const element = document.querySelector('#df-d5799f73-f8a6-4795-85e9-68bf51546e46');\n",
              "          const dataTable =\n",
              "            await google.colab.kernel.invokeFunction('convertToInteractive',\n",
              "                                                     [key], {});\n",
              "          if (!dataTable) return;\n",
              "\n",
              "          const docLinkHtml = 'Like what you see? Visit the ' +\n",
              "            '<a target=\"_blank\" href=https://colab.research.google.com/notebooks/data_table.ipynb>data table notebook</a>'\n",
              "            + ' to learn more about interactive tables.';\n",
              "          element.innerHTML = '';\n",
              "          dataTable['output_type'] = 'display_data';\n",
              "          await google.colab.output.renderOutput(dataTable, element);\n",
              "          const docLink = document.createElement('div');\n",
              "          docLink.innerHTML = docLinkHtml;\n",
              "          element.appendChild(docLink);\n",
              "        }\n",
              "      </script>\n",
              "    </div>\n",
              "  </div>\n",
              "  "
            ]
          },
          "metadata": {},
          "execution_count": 28
        }
      ],
      "source": [
        "year_df= usedcar_df.groupby('year')['year'].count().reset_index(name='count').sort_values(['count'], ascending=False)\n",
        "year_df"
      ]
    },
    {
      "cell_type": "code",
      "execution_count": 29,
      "metadata": {
        "colab": {
          "base_uri": "https://localhost:8080/",
          "height": 487
        },
        "id": "j4kQt2oAUVvQ",
        "outputId": "131ea24a-ea7e-4c43-8927-0e982ee4f49d"
      },
      "outputs": [
        {
          "output_type": "display_data",
          "data": {
            "text/plain": [
              "<Figure size 800x500 with 1 Axes>"
            ],
            "image/png": "[encoded data removed]"
          },
          "metadata": {}
        }
      ],
      "source": [
        "figure, axis = plt.subplots(figsize = (8, 5))\n",
        "plot = sns.barplot(x = year_df['year'].head(10), y = year_df['count'].head(10), palette = 'husl', errorbar = None)\n",
        "plot.set(title ='Sales Count Based on Year', xlabel ='Year', ylabel = \"Count\")\n",
        "\n",
        "for i in plot.containers:\n",
        "    plot.bar_label(i,)"
      ]
    },
    {
      "cell_type": "markdown",
      "metadata": {
        "id": "Nh4vgzZ6b0tx"
      },
      "source": [
        "### What are the ratios for each type of transmission?\n",
        "\n",
        "By looking at the dataset, there are four types of transmission: automatic, semi-auto, manual, and others. We are curious about what percentage each transmission type is, and therefore want to visulizae using a pie chart.\n",
        "\n",
        "The result indicates that **manual is the most common transmission type (57%)**, **semi-auto is the second most common (23%)**, **automatic is the third (20%)**, and others is the rarest."
      ]
    },
    {
      "cell_type": "code",
      "execution_count": 30,
      "metadata": {
        "colab": {
          "base_uri": "https://localhost:8080/",
          "height": 175
        },
        "id": "P7n8RuPudLge",
        "outputId": "b54109f9-780c-4ecb-8133-73cb968d7ec5"
      },
      "outputs": [
        {
          "output_type": "execute_result",
          "data": {
            "text/plain": [
              "  transmission  count\n",
              "1       Manual  55502\n",
              "3    Semi-Auto  22296\n",
              "0    Automatic  19904\n",
              "2        Other      9"
            ],
            "text/html": [
              "\n",
              "  <div id=\"df-fa237785-6da3-4cab-a63b-4da1aa492d69\">\n",
              "    <div class=\"colab-df-container\">\n",
              "      <div>\n",
              "<style scoped>\n",
              "    .dataframe tbody tr th:only-of-type {\n",
              "        vertical-align: middle;\n",
              "    }\n",
              "\n",
              "    .dataframe tbody tr th {\n",
              "        vertical-align: top;\n",
              "    }\n",
              "\n",
              "    .dataframe thead th {\n",
              "        text-align: right;\n",
              "    }\n",
              "</style>\n",
              "<table border=\"1\" class=\"dataframe\">\n",
              "  <thead>\n",
              "    <tr style=\"text-align: right;\">\n",
              "      <th></th>\n",
              "      <th>transmission</th>\n",
              "      <th>count</th>\n",
              "    </tr>\n",
              "  </thead>\n",
              "  <tbody>\n",
              "    <tr>\n",
              "      <th>1</th>\n",
              "      <td>Manual</td>\n",
              "      <td>55502</td>\n",
              "    </tr>\n",
              "    <tr>\n",
              "      <th>3</th>\n",
              "      <td>Semi-Auto</td>\n",
              "      <td>22296</td>\n",
              "    </tr>\n",
              "    <tr>\n",
              "      <th>0</th>\n",
              "      <td>Automatic</td>\n",
              "      <td>19904</td>\n",
              "    </tr>\n",
              "    <tr>\n",
              "      <th>2</th>\n",
              "      <td>Other</td>\n",
              "      <td>9</td>\n",
              "    </tr>\n",
              "  </tbody>\n",
              "</table>\n",
              "</div>\n",
              "      <button class=\"colab-df-convert\" onclick=\"convertToInteractive('df-fa237785-6da3-4cab-a63b-4da1aa492d69')\"\n",
              "              title=\"Convert this dataframe to an interactive table.\"\n",
              "              style=\"display:none;\">\n",
              "        \n",
              "  <svg xmlns=\"http://www.w3.org/2000/svg\" height=\"24px\"viewBox=\"0 0 24 24\"\n",
              "       width=\"24px\">\n",
              "    <path d=\"M0 0h24v24H0V0z\" fill=\"none\"/>\n",
              "    <path d=\"M18.56 5.44l.94 2.06.94-2.06 2.06-.94-2.06-.94-.94-2.06-.94 2.06-2.06.94zm-11 1L8.5 8.5l.94-2.06 2.06-.94-2.06-.94L8.5 2.5l-.94 2.06-2.06.94zm10 10l.94 2.06.94-2.06 2.06-.94-2.06-.94-.94-2.06-.94 2.06-2.06.94z\"/><path d=\"M17.41 7.96l-1.37-1.37c-.4-.4-.92-.59-1.43-.59-.52 0-1.04.2-1.43.59L10.3 9.45l-7.72 7.72c-.78.78-.78 2.05 0 2.83L4 21.41c.39.39.9.59 1.41.59.51 0 1.02-.2 1.41-.59l7.78-7.78 2.81-2.81c.8-.78.8-2.07 0-2.86zM5.41 20L4 18.59l7.72-7.72 1.47 1.35L5.41 20z\"/>\n",
              "  </svg>\n",
              "      </button>\n",
              "      \n",
              "  <style>\n",
              "    .colab-df-container {\n",
              "      display:flex;\n",
              "      flex-wrap:wrap;\n",
              "      gap: 12px;\n",
              "    }\n",
              "\n",
              "    .colab-df-convert {\n",
              "      background-color: #E8F0FE;\n",
              "      border: none;\n",
              "      border-radius: 50%;\n",
              "      cursor: pointer;\n",
              "      display: none;\n",
              "      fill: #1967D2;\n",
              "      height: 32px;\n",
              "      padding: 0 0 0 0;\n",
              "      width: 32px;\n",
              "    }\n",
              "\n",
              "    .colab-df-convert:hover {\n",
              "      background-color: #E2EBFA;\n",
              "      box-shadow: 0px 1px 2px rgba(60, 64, 67, 0.3), 0px 1px 3px 1px rgba(60, 64, 67, 0.15);\n",
              "      fill: #174EA6;\n",
              "    }\n",
              "\n",
              "    [theme=dark] .colab-df-convert {\n",
              "      background-color: #3B4455;\n",
              "      fill: #D2E3FC;\n",
              "    }\n",
              "\n",
              "    [theme=dark] .colab-df-convert:hover {\n",
              "      background-color: #434B5C;\n",
              "      box-shadow: 0px 1px 3px 1px rgba(0, 0, 0, 0.15);\n",
              "      filter: drop-shadow(0px 1px 2px rgba(0, 0, 0, 0.3));\n",
              "      fill: #FFFFFF;\n",
              "    }\n",
              "  </style>\n",
              "\n",
              "      <script>\n",
              "        const buttonEl =\n",
              "          document.querySelector('#df-fa237785-6da3-4cab-a63b-4da1aa492d69 button.colab-df-convert');\n",
              "        buttonEl.style.display =\n",
              "          google.colab.kernel.accessAllowed ? 'block' : 'none';\n",
              "\n",
              "        async function convertToInteractive(key) {\n",
              "          const element = document.querySelector('#df-fa237785-6da3-4cab-a63b-4da1aa492d69');\n",
              "          const dataTable =\n",
              "            await google.colab.kernel.invokeFunction('convertToInteractive',\n",
              "                                                     [key], {});\n",
              "          if (!dataTable) return;\n",
              "\n",
              "          const docLinkHtml = 'Like what you see? Visit the ' +\n",
              "            '<a target=\"_blank\" href=https://colab.research.google.com/notebooks/data_table.ipynb>data table notebook</a>'\n",
              "            + ' to learn more about interactive tables.';\n",
              "          element.innerHTML = '';\n",
              "          dataTable['output_type'] = 'display_data';\n",
              "          await google.colab.output.renderOutput(dataTable, element);\n",
              "          const docLink = document.createElement('div');\n",
              "          docLink.innerHTML = docLinkHtml;\n",
              "          element.appendChild(docLink);\n",
              "        }\n",
              "      </script>\n",
              "    </div>\n",
              "  </div>\n",
              "  "
            ]
          },
          "metadata": {},
          "execution_count": 30
        }
      ],
      "source": [
        "transmission_df= usedcar_df.groupby('transmission')['transmission'].count().reset_index(name='count').sort_values(['count'], ascending=False)\n",
        "transmission_df"
      ]
    },
    {
      "cell_type": "code",
      "execution_count": 31,
      "metadata": {
        "colab": {
          "base_uri": "https://localhost:8080/",
          "height": 620
        },
        "id": "Tg03MyjWf8w0",
        "outputId": "98ecb0c2-e247-400f-96b7-71fe20b3a674"
      },
      "outputs": [
        {
          "output_type": "execute_result",
          "data": {
            "text/plain": [
              "([<matplotlib.patches.Wedge at 0x7ffa08d5a280>,\n",
              "  <matplotlib.patches.Wedge at 0x7ffa08d5a190>,\n",
              "  <matplotlib.patches.Wedge at 0x7ffa08d5af70>,\n",
              "  <matplotlib.patches.Wedge at 0x7ffa08d69640>],\n",
              " [Text(-0.2332821615988998, 1.0749788058746763, 'Manual'),\n",
              "  Text(-0.4550986732727858, -1.0014415597454254, 'Semi-Auto'),\n",
              "  Text(0.8819571082652223, -0.6573824299298295, 'Automatic'),\n",
              "  Text(1.0999999539254877, -0.0003183770172356805, 'Other')],\n",
              " [Text(-0.1272448154175817, 0.5863520759316415, '57%'),\n",
              "  Text(-0.24823563996697404, -0.546240850770232, '23%'),\n",
              "  Text(0.48106751359921207, -0.3585722345071797, '20%'),\n",
              "  Text(0.5999999748684478, -0.00017366019121946207, '0%')])"
            ]
          },
          "metadata": {},
          "execution_count": 31
        },
        {
          "output_type": "display_data",
          "data": {
            "text/plain": [
              "<Figure size 640x480 with 1 Axes>"
            ],
            "image/png": "[encoded data removed]"
          },
          "metadata": {}
        }
      ],
      "source": [
        "colors = sns.color_palette('pastel')[0:5]\n",
        "plt.pie(transmission_df[\"count\"], labels = transmission_df[\"transmission\"], autopct='%.0f%%', colors=colors)"
      ]
    },
    {
      "cell_type": "markdown",
      "source": [
        " ### Price by Brand\n",
        "\n",
        "we decided to examine the prices by brand to identify any trends or differences in pricing across different brands. To accomplish this, we created a boxplot that visualized the distribution of prices for each brand, with the x-axis representing each brand and the y-axis representing the price range.\n",
        "\n",
        "Upon examining the boxplot, we noticed that the price range for **Mercedes-Benz** was higher than the other brands, followed closely by **Audi** and **BMW**. This suggests that these three brands may be more expensive in the used car market compared to other brands. We also observed that **each brand had some outliers**, which may indicate the presence of some unique or rare models that command a higher price."
      ],
      "metadata": {
        "id": "D4xb0xRVCpKx"
      }
    },
    {
      "cell_type": "code",
      "source": [
        "plt.figure(figsize=(12, 6))\n",
        "sns.boxplot(data=usedcar_df, x='brand', y='price', palette='husl')\n",
        "plt.title('Price Distribution by Brand')\n",
        "plt.xlabel('Brand')\n",
        "plt.ylabel('Price')\n",
        "plt.show()\n"
      ],
      "metadata": {
        "colab": {
          "base_uri": "https://localhost:8080/",
          "height": 564
        },
        "id": "Br3fu7WxAzo7",
        "outputId": "9d792669-10c9-4574-a13a-8714443d607d"
      },
      "execution_count": 32,
      "outputs": [
        {
          "output_type": "display_data",
          "data": {
            "text/plain": [
              "<Figure size 1200x600 with 1 Axes>"
            ],
            "image/png": "[encoded data removed]"
          },
          "metadata": {}
        }
      ]
    },
    {
      "cell_type": "markdown",
      "source": [
        "### Violin Plot of Mileage by Fuel Type\n",
        "\n",
        "We can create a violin plot to visualize the distribution of mileage for each fuel type. This will help us compare the overall range and density of mileage values for different fuel types. The x-axis represents the five fuel types: petrol, diesel, hybrid, other, and electric, while the y-axis represents the mileage range.\n",
        "\n",
        "Upon examining the violin plot, we can compare the overall range and density of mileage values for each fuel type. **Petrol fuel type** shows a wider distribution of mileage values, indicating a larger market inventory. **Diesel cars** have some high mileage data points, which may be attributed to the fact that diesel cars are often used as commercial vehicles. Additionally, we can observe that there are **no electric cars with high mileage**. This may be due to the relatively new introduction of electric cars to the market.\n",
        "\n"
      ],
      "metadata": {
        "id": "NBKEjPCzCuXG"
      }
    },
    {
      "cell_type": "code",
      "source": [
        "plt.figure(figsize=(10, 5))\n",
        "sns.violinplot(data=usedcar_df, x='fuelType', y='mileage', palette='husl')\n",
        "plt.title('Mileage Distribution by Fuel Type')\n",
        "plt.xlabel('Fuel Type')\n",
        "plt.ylabel('Mileage')\n",
        "plt.show()\n"
      ],
      "metadata": {
        "colab": {
          "base_uri": "https://localhost:8080/",
          "height": 487
        },
        "id": "hx108jyZC0mt",
        "outputId": "6059a055-2039-48b3-a67e-1f289a2737e6"
      },
      "execution_count": 33,
      "outputs": [
        {
          "output_type": "display_data",
          "data": {
            "text/plain": [
              "<Figure size 1000x500 with 1 Axes>"
            ],
            "image/png": "[encoded data removed]"
          },
          "metadata": {}
        }
      ]
    },
    {
      "cell_type": "markdown",
      "source": [
        "### Scatterplot of Price vs. Mileage\n",
        "\n",
        "We can create a scatterplot to visualize the relationship between the price and mileage of used cars. This will help us identify any potential correlation or trend between the two variables.\n",
        "\n",
        "Upon examining the scatterplot, we can observe **a correlation between mileage and the maximum price**. We can also see that **there are affordable cars at all mileage ranges**. However, **at higher mileage, even premium cars like Mercedes and BMW are selling for less**.\n",
        "\n",
        "These observations suggest that **mileage is an important factor to consider when purchasing a used car**, as it can **have a significant impact on the price**. Additionally, we can conclude that the brand name alone does not always determine the price of a used car, as even luxury cars may have lower prices at higher mileage ranges."
      ],
      "metadata": {
        "id": "PpKK__-KDXN_"
      }
    },
    {
      "cell_type": "code",
      "source": [
        "plt.figure(figsize=(10, 5))\n",
        "sns.scatterplot(data=usedcar_df, x='mileage', y='price', hue='brand', alpha=0.5)\n",
        "plt.title('Price vs. Mileage')\n",
        "plt.xlabel('Mileage')\n",
        "plt.ylabel('Price')\n",
        "plt.legend(loc='upper right', bbox_to_anchor=(1.2, 1), title='Brand')\n",
        "plt.show()"
      ],
      "metadata": {
        "colab": {
          "base_uri": "https://localhost:8080/",
          "height": 487
        },
        "id": "FkUSRKHfDVur",
        "outputId": "977f1d1a-c642-4837-da79-9cf27cf077a3"
      },
      "execution_count": 34,
      "outputs": [
        {
          "output_type": "display_data",
          "data": {
            "text/plain": [
              "<Figure size 1000x500 with 1 Axes>"
            ],
            "image/png": "[encoded data removed]"
          },
          "metadata": {}
        }
      ]
    },
    {
      "cell_type": "markdown",
      "metadata": {
        "id": "_1S86eSXovTI"
      },
      "source": [
        "##Feature engineering##\n",
        "Before modeling, we would like to perform feature engineering to extract features from raw data via data mining techniques based on what we learned in EDA. \n",
        "These features can be used to improve the performance of machine learning algorithms."
      ]
    },
    {
      "cell_type": "markdown",
      "metadata": {
        "id": "hDps_q4Ip-dF"
      },
      "source": [
        "###One hot encoding###"
      ]
    },
    {
      "cell_type": "markdown",
      "source": [
        "Our goal is to develop a regression model to predict the price of used cars in the UK market. However, to enhance the performance of machine learning algorithms, we must first process the numerous categorical features in our dataset. To begin, we need to identify the categorical data present in our dataset."
      ],
      "metadata": {
        "id": "JcN5HUylumUv"
      }
    },
    {
      "cell_type": "code",
      "execution_count": 35,
      "metadata": {
        "colab": {
          "base_uri": "https://localhost:8080/"
        },
        "id": "ixfWFBicqg55",
        "outputId": "d2d89aec-a5f5-4c6d-ccb9-e9d5883d681c"
      },
      "outputs": [
        {
          "output_type": "stream",
          "name": "stdout",
          "text": [
            "<class 'pandas.core.frame.DataFrame'>\n",
            "Int64Index: 97711 entries, 0 to 15156\n",
            "Data columns (total 10 columns):\n",
            " #   Column        Non-Null Count  Dtype  \n",
            "---  ------        --------------  -----  \n",
            " 0   model         97711 non-null  object \n",
            " 1   year          97711 non-null  int64  \n",
            " 2   price         97711 non-null  int64  \n",
            " 3   transmission  97711 non-null  object \n",
            " 4   mileage       97711 non-null  int64  \n",
            " 5   fuelType      97711 non-null  object \n",
            " 6   tax           97711 non-null  int64  \n",
            " 7   mpg           97711 non-null  float64\n",
            " 8   engineSize    97711 non-null  float64\n",
            " 9   brand         97711 non-null  object \n",
            "dtypes: float64(2), int64(4), object(4)\n",
            "memory usage: 8.2+ MB\n"
          ]
        }
      ],
      "source": [
        "usedcar_df.info()"
      ]
    },
    {
      "cell_type": "markdown",
      "source": [
        "model, transmission, fuelType, and brand are the categorical features in our dataframe. we decided to use one hot encoding over other methods because it creates binary columns for each category, thus avoiding any numerical bias that may arise from using label encoding. \n",
        "\n",
        "One hot encoding ensures that each category is represented as a separate binary feature, which can improve the accuracy and performance of our regression model. Additionally, since we have relatively few categorical features in our dataset, one hot encoding is a suitable approach that won't result in an excessive increase in the dimensionality of the data."
      ],
      "metadata": {
        "id": "XyL-V0VDvgXc"
      }
    },
    {
      "cell_type": "markdown",
      "metadata": {
        "id": "ld3rSPZGpEaJ"
      },
      "source": [
        "Based on pie chart, we noticed there are too few 'other' transmission type\n"
      ]
    },
    {
      "cell_type": "code",
      "execution_count": 36,
      "metadata": {
        "colab": {
          "base_uri": "https://localhost:8080/"
        },
        "id": "7a5lEZGSot9e",
        "outputId": "f2488265-f69d-4f63-dece-3d719d8e0c5e"
      },
      "outputs": [
        {
          "output_type": "execute_result",
          "data": {
            "text/plain": [
              "9"
            ]
          },
          "metadata": {},
          "execution_count": 36
        }
      ],
      "source": [
        "usedcar_df['transmission'].value_counts()['Other']"
      ]
    },
    {
      "cell_type": "markdown",
      "metadata": {
        "id": "enDtokiwpijP"
      },
      "source": [
        "We can drop the 'others' to reduce dimention after one hot encoding"
      ]
    },
    {
      "cell_type": "code",
      "execution_count": 37,
      "metadata": {
        "id": "9rvmuXVqptN8"
      },
      "outputs": [],
      "source": [
        "usedcar_df = usedcar_df[usedcar_df['transmission'] != 'Other']"
      ]
    },
    {
      "cell_type": "markdown",
      "source": [
        "Additionally, we noticed there are many potential value for \"model\""
      ],
      "metadata": {
        "id": "-WJKG7TlwXMA"
      }
    },
    {
      "cell_type": "code",
      "execution_count": 38,
      "metadata": {
        "colab": {
          "base_uri": "https://localhost:8080/"
        },
        "id": "qsLEA6rEqmn1",
        "outputId": "6a64bf7e-c900-496a-fe1a-be316fd83189"
      },
      "outputs": [
        {
          "output_type": "execute_result",
          "data": {
            "text/plain": [
              "195"
            ]
          },
          "metadata": {},
          "execution_count": 38
        }
      ],
      "source": [
        "len(usedcar_df.model.unique())"
      ]
    },
    {
      "cell_type": "markdown",
      "metadata": {
        "id": "KDeUUr1SqsT5"
      },
      "source": [
        "The feature \"model\" contains a large number of distinct values, which poses a challenge for preprocessing using one hot encoding. This approach would create an additional 195 features, potentially resulting in overfitting of our regression model. To mitigate this issue, we recommend grouping similar categories together. \n",
        "\n",
        "In this case, we can group car models into their respective brands since the brand value is still captured. Additionally, other features such as transmission, engineSize, and mpg should provide information on the difference between high-end and entry-level models. By grouping similar categories together, we can reduce the number of unique values and potentially improve the performance of our regression model."
      ]
    },
    {
      "cell_type": "code",
      "execution_count": 39,
      "metadata": {
        "id": "GGJFzXrkrdQt"
      },
      "outputs": [],
      "source": [
        "usedcar_df = usedcar_df.drop('model', axis=1)"
      ]
    },
    {
      "cell_type": "markdown",
      "source": [
        "Create the one hot encoding with pd.get_dummies()"
      ],
      "metadata": {
        "id": "W96w1xSFwzRh"
      }
    },
    {
      "cell_type": "code",
      "execution_count": 40,
      "metadata": {
        "id": "7bG-lUfArpXj"
      },
      "outputs": [],
      "source": [
        "encoded_usedcar_df = pd.get_dummies(usedcar_df, columns=['transmission', 'fuelType', 'brand'])"
      ]
    },
    {
      "cell_type": "code",
      "execution_count": 41,
      "metadata": {
        "colab": {
          "base_uri": "https://localhost:8080/"
        },
        "id": "s_E-X80Cr2GX",
        "outputId": "f9315b24-1e1b-43d7-fad4-6463f40b812e"
      },
      "outputs": [
        {
          "output_type": "stream",
          "name": "stdout",
          "text": [
            "<class 'pandas.core.frame.DataFrame'>\n",
            "Int64Index: 97702 entries, 0 to 15156\n",
            "Data columns (total 23 columns):\n",
            " #   Column                  Non-Null Count  Dtype  \n",
            "---  ------                  --------------  -----  \n",
            " 0   year                    97702 non-null  int64  \n",
            " 1   price                   97702 non-null  int64  \n",
            " 2   mileage                 97702 non-null  int64  \n",
            " 3   tax                     97702 non-null  int64  \n",
            " 4   mpg                     97702 non-null  float64\n",
            " 5   engineSize              97702 non-null  float64\n",
            " 6   transmission_Automatic  97702 non-null  uint8  \n",
            " 7   transmission_Manual     97702 non-null  uint8  \n",
            " 8   transmission_Semi-Auto  97702 non-null  uint8  \n",
            " 9   fuelType_Diesel         97702 non-null  uint8  \n",
            " 10  fuelType_Electric       97702 non-null  uint8  \n",
            " 11  fuelType_Hybrid         97702 non-null  uint8  \n",
            " 12  fuelType_Other          97702 non-null  uint8  \n",
            " 13  fuelType_Petrol         97702 non-null  uint8  \n",
            " 14  brand_audi              97702 non-null  uint8  \n",
            " 15  brand_bmw               97702 non-null  uint8  \n",
            " 16  brand_ford              97702 non-null  uint8  \n",
            " 17  brand_hyundi            97702 non-null  uint8  \n",
            " 18  brand_merc              97702 non-null  uint8  \n",
            " 19  brand_skoda             97702 non-null  uint8  \n",
            " 20  brand_toyota            97702 non-null  uint8  \n",
            " 21  brand_vauxhall          97702 non-null  uint8  \n",
            " 22  brand_vw                97702 non-null  uint8  \n",
            "dtypes: float64(2), int64(4), uint8(17)\n",
            "memory usage: 6.8 MB\n"
          ]
        }
      ],
      "source": [
        "encoded_usedcar_df.info()"
      ]
    },
    {
      "cell_type": "markdown",
      "source": [
        "We ended up with a dataframe of 21 features, which is a reason amount of dimensionality."
      ],
      "metadata": {
        "id": "mcoYLwXlw7ex"
      }
    },
    {
      "cell_type": "markdown",
      "metadata": {
        "id": "S-MUD5hfsFvN"
      },
      "source": [
        "##Modeling##\n",
        "In this section, we will experiment with different Regression Models to predict the used car price."
      ]
    },
    {
      "cell_type": "markdown",
      "metadata": {
        "id": "RGtVMZUJsQgw"
      },
      "source": [
        "###Preprocessing###"
      ]
    },
    {
      "cell_type": "code",
      "execution_count": 42,
      "metadata": {
        "id": "hRUtEUL6sYcA"
      },
      "outputs": [],
      "source": [
        "from sklearn.model_selection import train_test_split"
      ]
    },
    {
      "cell_type": "markdown",
      "source": [
        "Split the data where features are all in one dataframe and the target \"price\" is in its separated dataframe."
      ],
      "metadata": {
        "id": "uOySyhrJ46BF"
      }
    },
    {
      "cell_type": "code",
      "execution_count": 43,
      "metadata": {
        "id": "K-JRCSTusIhl"
      },
      "outputs": [],
      "source": [
        "features = encoded_usedcar_df.drop('price', axis=1)\n",
        "target = encoded_usedcar_df['price']"
      ]
    },
    {
      "cell_type": "markdown",
      "source": [
        "Using sklearn's train_test_split function to split data for regression into train and test sets with a 80-20 split."
      ],
      "metadata": {
        "id": "PIRHSq0s5Kgo"
      }
    },
    {
      "cell_type": "code",
      "execution_count": 44,
      "metadata": {
        "id": "PNOHfPZ2sVz2"
      },
      "outputs": [],
      "source": [
        "seed = 42\n",
        "X_train, X_test, y_train, y_test = train_test_split(features, target, test_size=0.2, random_state=seed)"
      ]
    },
    {
      "cell_type": "markdown",
      "metadata": {
        "id": "IFnIq3LdsjRW"
      },
      "source": [
        "###Linear Regression###"
      ]
    },
    {
      "cell_type": "markdown",
      "source": [
        "Linear Regression serves as a foundational model to understand and predict the relationship between the features and the target variable (price). We will train a model with default parameters as our baseline model."
      ],
      "metadata": {
        "id": "kmgr_WF5PxGw"
      }
    },
    {
      "cell_type": "code",
      "execution_count": 45,
      "metadata": {
        "id": "ieJoxxrEsl43"
      },
      "outputs": [],
      "source": [
        "from sklearn.linear_model import LinearRegression\n",
        "from sklearn.metrics import mean_squared_error\n",
        "\n",
        "reg = LinearRegression()\n",
        "reg.fit(X_train, y_train)\n",
        "y_pred = reg.predict(X_test)"
      ]
    },
    {
      "cell_type": "markdown",
      "source": [
        "Measure the R-squared (The coefficient of determination) score of the model. It measures the proportion of variance in the traget variable  that can be explained by the independent (features) variables. \n",
        "R-squared ranges from 0 to 1, where a higher indicates a better fit of the model to the data."
      ],
      "metadata": {
        "id": "yQGptIhH7b8w"
      }
    },
    {
      "cell_type": "code",
      "execution_count": 46,
      "metadata": {
        "colab": {
          "base_uri": "https://localhost:8080/"
        },
        "id": "pYxsi23SuG-G",
        "outputId": "7b5e6ef2-480e-4b98-e2d6-511a7640a1b7"
      },
      "outputs": [
        {
          "output_type": "execute_result",
          "data": {
            "text/plain": [
              "0.7619718584985797"
            ]
          },
          "metadata": {},
          "execution_count": 46
        }
      ],
      "source": [
        "lin_acc = reg.score(X_test, y_test)\n",
        "lin_acc"
      ]
    },
    {
      "cell_type": "markdown",
      "source": [
        "Another immportant metric is Root Mean Squared Error(RMSE). It gives us an idea of how far off the predicted values are from the actual values, and by taking the square root, it makes the error metric more interpretable in the same units as the response variable. By minimizing the RMSE, we can find the linear regression model that is most accurately predicting the outcome variable, and is therefore the most useful for making predictions or identifying important features that drive the outcome variable."
      ],
      "metadata": {
        "id": "2h9byTmr_LRQ"
      }
    },
    {
      "cell_type": "code",
      "source": [
        "# get RMSE by setting squared=False\n",
        "lin_rmse = mean_squared_error(y_test, y_pred, squared=False)\n",
        "lin_rmse"
      ],
      "metadata": {
        "colab": {
          "base_uri": "https://localhost:8080/"
        },
        "id": "NVZS7sHu_JuH",
        "outputId": "6e0c2d55-adb0-471b-b1a4-e12d636b5848"
      },
      "execution_count": 47,
      "outputs": [
        {
          "output_type": "execute_result",
          "data": {
            "text/plain": [
              "4841.924818983463"
            ]
          },
          "metadata": {},
          "execution_count": 47
        }
      ]
    },
    {
      "cell_type": "markdown",
      "source": [
        "Linear Regression Analysis:\n",
        "\n",
        "Despite the mediocre R-squared score on the Used Car Prices dataset, Linear Regression is still a valuable technique due to its simplicity and interpretability. Linear Regression is a straightforward model that establishes a linear relationship between the features and the target variable, making it easy to understand and implement. Additionally, it produces coefficients for each feature that can provide insights into how different factors influence car prices. However, Linear Regression has limitations. When features are highly correlated, the model can produce unstable coefficient estimates, leading to overfitting and poor generalization to new data. Multicollinearity may exist among some features in the Used Car Prices dataset, such as engine size, tax, and mpg, which can adversely affect the model's accuracy. Moreover, Linear Regression is sensitive to outliers, which can distort the model's estimates and lower its predictive power."
      ],
      "metadata": {
        "id": "4qEaeBgD69xg"
      }
    },
    {
      "cell_type": "markdown",
      "metadata": {
        "id": "z7quOQxxu0YG"
      },
      "source": [
        "###Ridge Regression ($L_2$)###"
      ]
    },
    {
      "cell_type": "markdown",
      "source": [
        "Since linear regression doesn't do well, we suspect the model is suffering overfitting. To overcome that issue, we would like to introduce $L_2$ reguration, which introduces a regularization term to the cost function. We will use the Ridge class in scikit-learn to perform $L_2$ Regularized Linear Regression."
      ],
      "metadata": {
        "id": "EU6LVUv5B8HY"
      }
    },
    {
      "cell_type": "markdown",
      "source": [
        "We will use StandardScaler to helps to ensure that all of the input features are on the same scale, since thats the assumption that ridge regression based on.\n",
        "By using standard scaler to normalize the input features, we can ensure that they all have zero mean and unit variance, which puts them on the same scale and ensures that the penalty term in ridge regression is applied equally to all features "
      ],
      "metadata": {
        "id": "ghqDCqgnCzTM"
      }
    },
    {
      "cell_type": "code",
      "execution_count": 48,
      "metadata": {
        "id": "PyLHvB3PvAAY"
      },
      "outputs": [],
      "source": [
        "from sklearn.preprocessing import StandardScaler"
      ]
    },
    {
      "cell_type": "code",
      "execution_count": 49,
      "metadata": {
        "id": "3OcQMvE9u2VH"
      },
      "outputs": [],
      "source": [
        "scaler = StandardScaler()\n",
        "scaler.fit(X_train)\n",
        "scaled_x_train = scaler.transform(X_train)\n",
        "scaled_x_test = scaler.transform(X_test)"
      ]
    },
    {
      "cell_type": "markdown",
      "metadata": {
        "id": "jXWkiXxHvmve"
      },
      "source": [
        "####Hyperparameter Tuning####\n",
        "The parameter alpha in ridge regression controls the amount of regularization applied to the model, and it is important to search for the best alpha value to balance bias and variance and prevent overfitting or underfitting. By using cross-validation to evaluate the model's performance with different alpha values, we can determine the optimal alpha that produces the best predictions on new, unseen data. "
      ]
    },
    {
      "cell_type": "code",
      "execution_count": 50,
      "metadata": {
        "id": "KIC4-dd2vkL9"
      },
      "outputs": [],
      "source": [
        "from sklearn.linear_model import Ridge\n",
        "from sklearn.model_selection import GridSearchCV\n",
        "\n",
        "# Create a Ridge regression object\n",
        "ridge = Ridge()\n",
        "\n",
        "# Define the grid of alpha values to test\n",
        "param_grid = {'alpha': [0.01, 0.1, 1, 10, 50, 80, 100]}\n",
        "\n",
        "# Perform grid search with cross-validation\n",
        "grid_search = GridSearchCV(ridge, param_grid, cv=5)\n",
        "grid_search.fit(scaled_x_train, y_train)\n",
        "\n",
        "# Get the best value of alpha\n",
        "best_alpha = grid_search.best_params_['alpha']"
      ]
    },
    {
      "cell_type": "markdown",
      "source": [
        "We found the best alpha value using five fold cross validation."
      ],
      "metadata": {
        "id": "A2g0En_pE7bV"
      }
    },
    {
      "cell_type": "code",
      "execution_count": 51,
      "metadata": {
        "colab": {
          "base_uri": "https://localhost:8080/"
        },
        "id": "DEf7ZfGrvymo",
        "outputId": "40f05338-3f95-4ad7-82df-87d184d3d684"
      },
      "outputs": [
        {
          "output_type": "execute_result",
          "data": {
            "text/plain": [
              "50"
            ]
          },
          "metadata": {},
          "execution_count": 51
        }
      ],
      "source": [
        "best_alpha"
      ]
    },
    {
      "cell_type": "markdown",
      "source": [
        "Train the model with best_alpha"
      ],
      "metadata": {
        "id": "G1n59IozFDNV"
      }
    },
    {
      "cell_type": "code",
      "execution_count": 52,
      "metadata": {
        "id": "jQRb2r_kv1oN"
      },
      "outputs": [],
      "source": [
        "reg_ridge = Ridge(alpha=best_alpha)\n",
        "\n",
        "reg_ridge.fit(scaled_x_train, y_train)\n",
        "y_pred = reg_ridge.predict(scaled_x_test)"
      ]
    },
    {
      "cell_type": "code",
      "source": [
        "ridge_score = reg_ridge.score(scaled_x_test, y_test)\n",
        "ridge_score"
      ],
      "metadata": {
        "colab": {
          "base_uri": "https://localhost:8080/"
        },
        "id": "fpKOD5a5FKnw",
        "outputId": "cd453421-14c8-4170-bcb8-008b3e067583"
      },
      "execution_count": 53,
      "outputs": [
        {
          "output_type": "execute_result",
          "data": {
            "text/plain": [
              "0.7619701205213183"
            ]
          },
          "metadata": {},
          "execution_count": 53
        }
      ]
    },
    {
      "cell_type": "code",
      "source": [
        "# get RMSE by setting squared=False\n",
        "ridge_rmse = mean_squared_error(y_test, y_pred, squared=False)\n",
        "ridge_rmse"
      ],
      "metadata": {
        "colab": {
          "base_uri": "https://localhost:8080/"
        },
        "id": "seUjKoTYFNZP",
        "outputId": "38f7346f-a68e-4498-959b-8a8392ecee02"
      },
      "execution_count": 54,
      "outputs": [
        {
          "output_type": "execute_result",
          "data": {
            "text/plain": [
              "4841.942495758619"
            ]
          },
          "metadata": {},
          "execution_count": 54
        }
      ]
    },
    {
      "cell_type": "markdown",
      "source": [
        "Ridge Regression Analysis:\n",
        "\n",
        "Ridge Regression is a useful technique for addressing multicollinearity and controlling model complexity in the context of the Used Car Prices case. By reducing overfitting and making the model more robust to noise, Ridge Regression can improve the model's generalization performance. However, despite its benefits, we found that Ridge Regression with L2 regularization did not show significant improvement over the base linear regression model in terms of R-squared and RMSE, even with hyperparameter tuning. This may be because Ridge Regression does not perform feature selection and cannot set coefficients to zero like L1 regularization. As a result, all features remain in the model, which can limit the model's interpretability.\n"
      ],
      "metadata": {
        "id": "rRDJ-f4CBnj0"
      }
    },
    {
      "cell_type": "markdown",
      "source": [
        "###LASSO ($L_1$)###\n",
        "\n",
        "After finding that L2 regularization did not provide significant improvement over the base linear regression model, we decided to try L1 regularization as an alternative technique to improve the performance of the model. L1 regularization adds the sum of absolute values of coefficients to the objective function, which can result in sparsity by setting some coefficients to zero. This feature selection can help to improve the interpretability of the model and potentially improve its performance. Furthermore, L1 regularization can be more effective than L2 regularization when the dataset has a large number of features, as it can reduce the impact of irrelevant or redundant features on the model's performance. By trying L1 regularization after L2 was ineffective, we aim to explore different approaches to improve the model's performance and find the best technique for this specific dataset."
      ],
      "metadata": {
        "id": "X2tzdC_MPb0W"
      }
    },
    {
      "cell_type": "markdown",
      "source": [
        "####Hyperparameter Tuning####\n",
        "Similar to Ridge, the parameter alpha in LASSO regression controls the amount of regularization applied to the model, and it is important to search for the best alpha value to balance bias and variance and prevent overfitting or underfitting. Again we will use cross-validation to evaluate the model's performance with different alpha values."
      ],
      "metadata": {
        "id": "dCTeRB8FPaRg"
      }
    },
    {
      "cell_type": "code",
      "execution_count": 55,
      "metadata": {
        "id": "JNRtLmqeyDMV"
      },
      "outputs": [],
      "source": [
        "from sklearn.linear_model import Lasso\n",
        "from sklearn.linear_model import LassoCV\n",
        "\n",
        "# Create a LassoCV object with 5-fold cross-validation\n",
        "lasso_cv = LassoCV(cv=5)\n",
        "\n",
        "# Fit the model to the training data\n",
        "lasso_cv.fit(scaled_x_train, y_train)\n",
        "\n",
        "# Get the best value of alpha\n",
        "best_alpha = lasso_cv.alpha_\n"
      ]
    },
    {
      "cell_type": "markdown",
      "source": [
        "We found the best alpha value using five fold cross validation."
      ],
      "metadata": {
        "id": "udNf01_yP2OO"
      }
    },
    {
      "cell_type": "code",
      "execution_count": 56,
      "metadata": {
        "colab": {
          "base_uri": "https://localhost:8080/"
        },
        "id": "gtXMelPSyYOK",
        "outputId": "89338c24-ee0f-4736-e056-49a8b0c52941"
      },
      "outputs": [
        {
          "output_type": "execute_result",
          "data": {
            "text/plain": [
              "6.298178250218522"
            ]
          },
          "metadata": {},
          "execution_count": 56
        }
      ],
      "source": [
        "best_alpha"
      ]
    },
    {
      "cell_type": "markdown",
      "source": [
        "Train the model with best_alpha"
      ],
      "metadata": {
        "id": "x6qsXVlCP4h_"
      }
    },
    {
      "cell_type": "code",
      "execution_count": 57,
      "metadata": {
        "id": "efnmn2TCyeIT"
      },
      "outputs": [],
      "source": [
        "lasso = Lasso(alpha=best_alpha)\n",
        "\n",
        "# Fit the model to the training data\n",
        "lasso.fit(scaled_x_train, y_train)\n",
        "\n",
        "# Predict the target variable for the test data\n",
        "y_pred = lasso.predict(scaled_x_test)"
      ]
    },
    {
      "cell_type": "code",
      "source": [
        "lasso_score = lasso.score(scaled_x_test, y_test)\n",
        "lasso_score"
      ],
      "metadata": {
        "colab": {
          "base_uri": "https://localhost:8080/"
        },
        "id": "-dcl1MkVQNxz",
        "outputId": "81767f65-cb02-4ae9-ea01-ef1537a1f869"
      },
      "execution_count": 58,
      "outputs": [
        {
          "output_type": "execute_result",
          "data": {
            "text/plain": [
              "0.7619489480739252"
            ]
          },
          "metadata": {},
          "execution_count": 58
        }
      ]
    },
    {
      "cell_type": "code",
      "source": [
        "# get RMSE by setting squared=False\n",
        "lasso_rmse = mean_squared_error(y_test, y_pred, squared=False)\n",
        "lasso_rmse"
      ],
      "metadata": {
        "colab": {
          "base_uri": "https://localhost:8080/"
        },
        "id": "rcHnSoA-QSY1",
        "outputId": "1ee35b63-e57a-4ff3-e605-04373a76e36f"
      },
      "execution_count": 59,
      "outputs": [
        {
          "output_type": "execute_result",
          "data": {
            "text/plain": [
              "4842.157833205826"
            ]
          },
          "metadata": {},
          "execution_count": 59
        }
      ]
    },
    {
      "cell_type": "markdown",
      "source": [
        "\n",
        "LASSO (L1) Analysis:\n",
        "\n",
        "LASSO, which uses L1 regularization, can help address both multicollinearity and feature selection in the Used Car Prices dataset. It can shrink the coefficients of less important features and set some of them to zero, effectively removing irrelevant features from the model. This simplification can improve the model's interpretability and potentially enhance its performance.\n",
        "\n",
        "However, despite its benefits, we found that Lasso Regression with L1 regularization did not show significant improvement over the base linear regression model and L2 regularization in terms of R-squared and RMSE, even with hyperparameter tuning. It is possible that L1 regularization did not improve the results for our model due to various reasons. Firstly, the effectiveness of L1 regularization depends on the structure of the dataset and the relationship between the features and the target variable. It is possible that the features in our dataset did not have strong correlations with the target variable or that the correlations were not captured well by the linear model, which may have limited the impact of the regularization. Secondly, it is possible that other techniques such as data preprocessing or feature selection may be more effective for this dataset, and therefore, L1 regularization did not provide any significant improvement.\n"
      ],
      "metadata": {
        "id": "zHcn7OCCHIJV"
      }
    },
    {
      "cell_type": "markdown",
      "metadata": {
        "id": "uh1yIlsx1x8Z"
      },
      "source": [
        "###PCA###"
      ]
    },
    {
      "cell_type": "markdown",
      "source": [
        "After L1 and L2 regularization techniques failed to improve the performance of the Linear Regression model, we decided to explore the use of Principal Component Analysis (PCA) to address the issue of multicollinearity and reduce the dimensionality of the dataset. PCA is a dimensionality reduction technique that can help identify the most significant features in the dataset and transform them into a smaller set of uncorrelated variables known as principal components. By reducing the number of features in the dataset, PCA can help mitigate the effects of multicollinearity and simplify the model, potentially improving its performance. Furthermore, PCA can help remove noise and redundancies in the data, which can improve the accuracy and interpretability of the model. Therefore, we chose to apply PCA before fitting the Linear Regression model to the Used Car Prices dataset in an attempt to improve its performance."
      ],
      "metadata": {
        "id": "kFEvuitRTGKV"
      }
    },
    {
      "cell_type": "markdown",
      "source": [
        "We will be utilizing the PCA package from Sklearn, which requires the standardized training and testing dataset to avoid scale-related issues. In order to determine the optimal number of Principal Components to select, we will conduct an analysis. For now, we will retain all Principal Components."
      ],
      "metadata": {
        "id": "WPrzFRE-TNWl"
      }
    },
    {
      "cell_type": "code",
      "execution_count": 60,
      "metadata": {
        "id": "fhZ9krxk1xd_"
      },
      "outputs": [],
      "source": [
        "from sklearn.decomposition import PCA\n",
        "pca = PCA()\n",
        "pca_x_train = pca.fit_transform(scaled_x_train)"
      ]
    },
    {
      "cell_type": "markdown",
      "source": [
        "We have created an array to store the explained variance ratios, and then computed the cumulative explained variance ratios. This information will be used to determine the appropriate number of Principal Components to include in the model."
      ],
      "metadata": {
        "id": "_XRJmKnZT5dA"
      }
    },
    {
      "cell_type": "code",
      "execution_count": 61,
      "metadata": {
        "id": "YXGq4WSB18U1"
      },
      "outputs": [],
      "source": [
        "explained_variance_ratios = pca.explained_variance_ratio_\n",
        "\n",
        "cum_evr = np.cumsum(explained_variance_ratios)"
      ]
    },
    {
      "cell_type": "markdown",
      "source": [
        "We will plot a graph to visualize the relationship between the number of components and the cumulative explained variance ratio."
      ],
      "metadata": {
        "id": "e_Sk71C-UsY4"
      }
    },
    {
      "cell_type": "code",
      "execution_count": 62,
      "metadata": {
        "colab": {
          "base_uri": "https://localhost:8080/",
          "height": 472
        },
        "id": "RJBGOL-j2GgT",
        "outputId": "68bee25b-fc47-443d-a4de-2d6239e472d1"
      },
      "outputs": [
        {
          "output_type": "display_data",
          "data": {
            "text/plain": [
              "<Figure size 640x480 with 1 Axes>"
            ],
            "image/png": "[encoded data removed]"
          },
          "metadata": {}
        }
      ],
      "source": [
        "plt.plot(np.arange(1, 23), cum_evr)\n",
        "plt.plot(np.arange(1, 23), [0.80]*22)\n",
        "plt.xlabel(\"# of components\")\n",
        "plt.ylabel(\"Proportion of Explained Variance\")\n",
        "plt.title(\"PVE as # of components increases\")\n",
        "plt.show()"
      ]
    },
    {
      "cell_type": "markdown",
      "source": [
        "According to the plot, the number of components needed to explain at least 80% of the variance is 12, which corresponds to the component at index 11 in the array."
      ],
      "metadata": {
        "id": "aGW3X2NFU_eE"
      }
    },
    {
      "cell_type": "code",
      "source": [
        "cum_evr[11]"
      ],
      "metadata": {
        "colab": {
          "base_uri": "https://localhost:8080/"
        },
        "id": "6tw7AnzDWsXT",
        "outputId": "2a990bd4-524c-474c-8d1d-27dad8aadbb1"
      },
      "execution_count": 63,
      "outputs": [
        {
          "output_type": "execute_result",
          "data": {
            "text/plain": [
              "0.8220042823035744"
            ]
          },
          "metadata": {},
          "execution_count": 63
        }
      ]
    },
    {
      "cell_type": "markdown",
      "source": [
        "####PCA with Linear Regression####\n",
        "With the parameter n=12, we can now transform the dataset with PCA and re-fit it with Linear Regression."
      ],
      "metadata": {
        "id": "mKkFr9-1bTMO"
      }
    },
    {
      "cell_type": "code",
      "execution_count": 64,
      "metadata": {
        "id": "YeMESH6t2Ua-"
      },
      "outputs": [],
      "source": [
        "n = 12\n",
        "# 1. Refit and transform on training with parameter n (as deduced from the last step) \n",
        "pca = PCA(n_components=n)\n",
        "X_train_pca = pca.fit_transform(scaled_x_train)\n",
        "\n",
        "# 2. Transform on Testing Set and store it as `X_test_pca`\n",
        "X_test_pca = pca.transform(scaled_x_test)"
      ]
    },
    {
      "cell_type": "code",
      "execution_count": 65,
      "metadata": {
        "id": "JNfTMYD_2gPF"
      },
      "outputs": [],
      "source": [
        "reg = LinearRegression()\n",
        "reg.fit(X_train_pca, y_train)\n",
        "y_pred = reg.predict(X_test_pca)"
      ]
    },
    {
      "cell_type": "code",
      "execution_count": 66,
      "metadata": {
        "colab": {
          "base_uri": "https://localhost:8080/"
        },
        "id": "Gk9IJ4jX2nhQ",
        "outputId": "51179941-441b-4195-e94e-8b28ae0a8373"
      },
      "outputs": [
        {
          "output_type": "execute_result",
          "data": {
            "text/plain": [
              "0.6704652680220585"
            ]
          },
          "metadata": {},
          "execution_count": 66
        }
      ],
      "source": [
        "pca_acc = reg.score(X_test_pca, y_test)\n",
        "pca_acc"
      ]
    },
    {
      "cell_type": "code",
      "source": [
        "# get RMSE by setting squared=False\n",
        "pca_rmse = mean_squared_error(y_test, y_pred, squared=False)\n",
        "pca_rmse"
      ],
      "metadata": {
        "colab": {
          "base_uri": "https://localhost:8080/"
        },
        "id": "WxnTlc1WbnCy",
        "outputId": "5bd0b86c-c727-4657-c141-fa393b0a598d"
      },
      "execution_count": 67,
      "outputs": [
        {
          "output_type": "execute_result",
          "data": {
            "text/plain": [
              "5697.108444342037"
            ]
          },
          "metadata": {},
          "execution_count": 67
        }
      ]
    },
    {
      "cell_type": "markdown",
      "source": [
        "\n",
        "\n",
        "After applying PCA to the used car prices dataset, the R2 score decreased from 0.76 to 0.67. This reduction in performance could be due to several reasons. Firstly, PCA assumes that the relationships between the features are linear. If the dataset contains non-linear relationships, PCA may not effectively capture the variance in the data. Secondly, by retaining only 80% of the cumulative variance, some information may have been lost, resulting in a less precise model."
      ],
      "metadata": {
        "id": "CTuFeh9bMkQr"
      }
    },
    {
      "cell_type": "markdown",
      "metadata": {
        "id": "-VkPAdI120C2"
      },
      "source": [
        "####PCA with Ridge Regression ($L_2$)####\n",
        "\n",
        "After our unsuccessful attempt with PCA and normal linear regression, we decided to explore the use of PCA with ridge regression. The L2 regularization provided by ridge regression can help reduce overfitting by penalizing large coefficients, which can be particularly beneficial when dealing with high-dimensional datasets. Furthermore, since PCA can help reduce the number of features in the dataset, it may be more effective when combined with a regularization technique like ridge regression. By combining these techniques, we hope to achieve a better balance between model complexity and performance on the used car prices dataset."
      ]
    },
    {
      "cell_type": "code",
      "execution_count": 68,
      "metadata": {
        "id": "zba45Qff2zgL"
      },
      "outputs": [],
      "source": [
        "reg_ridge = Ridge(alpha=10)\n",
        "\n",
        "reg_ridge.fit(X_train_pca, y_train)\n",
        "y_pred = reg_ridge.predict(X_test_pca)\n"
      ]
    },
    {
      "cell_type": "code",
      "source": [
        "pca_ridge_score = reg_ridge.score(X_test_pca, y_test)\n",
        "pca_ridge_score"
      ],
      "metadata": {
        "colab": {
          "base_uri": "https://localhost:8080/"
        },
        "id": "8jbf51hOdauo",
        "outputId": "2935542d-d23b-4acb-c310-154d48c800b1"
      },
      "execution_count": 69,
      "outputs": [
        {
          "output_type": "execute_result",
          "data": {
            "text/plain": [
              "0.6704650130575269"
            ]
          },
          "metadata": {},
          "execution_count": 69
        }
      ]
    },
    {
      "cell_type": "code",
      "source": [
        "# get RMSE by setting squared=False\n",
        "pca_ridge_rmse = mean_squared_error(y_test, y_pred, squared=False)\n",
        "pca_ridge_rmse"
      ],
      "metadata": {
        "colab": {
          "base_uri": "https://localhost:8080/"
        },
        "id": "pfhxHpiTdf56",
        "outputId": "10fd85b0-a145-455f-f445-de5088ec983c"
      },
      "execution_count": 70,
      "outputs": [
        {
          "output_type": "execute_result",
          "data": {
            "text/plain": [
              "5697.110648298348"
            ]
          },
          "metadata": {},
          "execution_count": 70
        }
      ]
    },
    {
      "cell_type": "markdown",
      "source": [
        "After attempting PCA with ridge regression on our used car dataset, it appears that the linear model is still not able to adequately fit the data. This suggests that the dataset may not be suitable for linear modeling techniques, and it may be necessary to explore alternative modeling approaches. While it is possible that additional preprocessing steps or feature engineering could improve the performance of the linear model, it may also be worthwhile to consider more complex models such as decision trees."
      ],
      "metadata": {
        "id": "NYvMHNvlM71s"
      }
    },
    {
      "cell_type": "markdown",
      "metadata": {
        "id": "psk_5zrtzspB"
      },
      "source": [
        "###Random Forest Regressor###\n",
        "We have decided to explore other modeling techniques. One such technique is the Random Forest Regressor, which is known for its ability to handle nonlinear relationships between variables and its robustness to outliers. This model uses decision trees to build a collection of models and then averages their predictions to produce the final result. By using this approach, we hope to obtain a more accurate and reliable model for our dataset. We will also evaluate the performance of this model and compare it to the previous attempts to determine the best approach for our analysis.\n",
        "\n",
        "\n",
        "\n",
        "\n"
      ]
    },
    {
      "cell_type": "code",
      "execution_count": 71,
      "metadata": {
        "id": "nF6MEGkZzWV8"
      },
      "outputs": [],
      "source": [
        "from sklearn.ensemble import RandomForestRegressor\n",
        "\n",
        "# Initialize model with default parameters and fit it on the training set\n",
        "reg_rf = RandomForestRegressor()\n",
        "\n",
        "# Use the model to predict on the test set\n",
        "reg_rf.fit(X_train, y_train)\n",
        "y_pred = reg_rf.predict(X_test)"
      ]
    },
    {
      "cell_type": "code",
      "execution_count": 72,
      "metadata": {
        "colab": {
          "base_uri": "https://localhost:8080/"
        },
        "id": "SXx9Xbssz0mk",
        "outputId": "5da08cc4-a533-4585-ee35-34fc2c7e1b51"
      },
      "outputs": [
        {
          "output_type": "execute_result",
          "data": {
            "text/plain": [
              "0.9395117888148703"
            ]
          },
          "metadata": {},
          "execution_count": 72
        }
      ],
      "source": [
        "rfr_score = reg_rf.score(X_test, y_test)\n",
        "rfr_score"
      ]
    },
    {
      "cell_type": "code",
      "source": [
        "# get RMSE by setting squared=False\n",
        "rfr_rmse = mean_squared_error(y_test, y_pred, squared=False)\n",
        "rfr_rmse"
      ],
      "metadata": {
        "colab": {
          "base_uri": "https://localhost:8080/"
        },
        "id": "AGI_KFy3fTFw",
        "outputId": "2426bfd7-5168-4723-a503-c682c005533f"
      },
      "execution_count": 73,
      "outputs": [
        {
          "output_type": "execute_result",
          "data": {
            "text/plain": [
              "2440.839706730076"
            ]
          },
          "metadata": {},
          "execution_count": 73
        }
      ]
    },
    {
      "cell_type": "markdown",
      "source": [
        "Analysis:\n",
        "\n",
        "The decision tree model's outstanding performance, with an R2 score of 0.94, highlights its effectiveness compared to linear models, which had an R2 score of 0.76. This excellent performance can be attributed to several factors. Firstly, Random Forest can determine the importance of each feature in predicting the target variable (price) by quantifying the impact of the features like the car's age (year), mileage, engine size, and brand. Secondly, Random Forest can capture the non-linear relationships between features like transmission types, fuel types, and brands more effectively due to being an ensemble of decision trees. Moreover, Random Forest models are less prone to overfitting due to the averaging of multiple decision trees, which can result in a more generalizable model that can predict prices for new data points better. Random Forest is also robust to outliers, making it suitable for datasets with cars with exceptionally high or low prices. Finally, Random Forest models can handle both categorical and continuous variables, making them suitable for diverse features present in the used car prices dataset.\n",
        "\n",
        "However, using Random Forest has some trade-offs. Firstly, the model can be challenging to interpret compared to linear models due to its complex structure, which can be a drawback for stakeholders who want to understand the relationships between variables and the target (price) more transparently. Secondly, Random Forest models can take longer to train, particularly when there are many trees in the ensemble or the dataset is large, increasing the overall time required to develop and deploy the model.\n",
        "\n",
        "In conclusion, despite the trade-offs, Random Forest has proven to be an effective choice for the Used Car Prices case scenario, and its benefits outweigh its drawbacks for this dataset."
      ],
      "metadata": {
        "id": "YyzrBXdrLUYB"
      }
    },
    {
      "cell_type": "markdown",
      "metadata": {
        "id": "a4mDTRav3WGU"
      },
      "source": [
        "###XGBoost###\n",
        "After noticing that Random Forest produced satisfactory results and Linear Regression did not, we decided to explore XGBoost as an alternative. The dataset appeared to be more accurately represented by non-linear models. XGBoost is another ensemble method that aggregates the predictions of multiple decision trees to arrive at a final prediction. However, XGBoost creates decision trees in a different way than Random Forest. Instead of using bagging, XGBoost utilizes gradient boosting, which involves building decision trees sequentially. Each subsequent tree is trained to correct the errors made by the previous tree. This technique enables XGBoost to capture more intricate relationships between the features and the target variable, making it more effective in modeling complex datasets."
      ]
    },
    {
      "cell_type": "code",
      "execution_count": 74,
      "metadata": {
        "id": "ti3H6mbb3Zfx"
      },
      "outputs": [],
      "source": [
        "from xgboost import XGBRegressor\n",
        "\n",
        "xgb = XGBRegressor()\n",
        "\n",
        "# Fit the model to the training data\n",
        "xgb.fit(X_train, y_train)\n",
        "\n",
        "# Predict the target variable for the test data\n",
        "y_pred = xgb.predict(X_test)"
      ]
    },
    {
      "cell_type": "code",
      "execution_count": 75,
      "metadata": {
        "colab": {
          "base_uri": "https://localhost:8080/"
        },
        "id": "YCkFtW2g3rAT",
        "outputId": "a9fd17ec-6654-4bd2-aa8e-087117ac0feb"
      },
      "outputs": [
        {
          "output_type": "execute_result",
          "data": {
            "text/plain": [
              "0.9433107592237125"
            ]
          },
          "metadata": {},
          "execution_count": 75
        }
      ],
      "source": [
        "xgb_score = xgb.score(X_test, y_test)\n",
        "xgb_score"
      ]
    },
    {
      "cell_type": "code",
      "source": [
        "# get RMSE by setting squared=False\n",
        "xgb_rmse = mean_squared_error(y_test, y_pred, squared=False)\n",
        "xgb_rmse"
      ],
      "metadata": {
        "colab": {
          "base_uri": "https://localhost:8080/"
        },
        "id": "KK-0Le6AiEZw",
        "outputId": "00f32e5c-9c03-4546-db30-ec2d4054c148"
      },
      "execution_count": 76,
      "outputs": [
        {
          "output_type": "execute_result",
          "data": {
            "text/plain": [
              "2362.948243882911"
            ]
          },
          "metadata": {},
          "execution_count": 76
        }
      ]
    },
    {
      "cell_type": "markdown",
      "source": [
        "After comparing the performance of XGBoost and Random Forest on our used car dataset, we observed that XGBoost yielded slightly better results. The R2 score for XGBoost was 0.943, which is marginally higher than the 0.940 score obtained by Random Forest. The RMSE is slight better too with a value of 2362 comparing to Random Forest's 2441. XGBoost's gradient boosting algorithm can provide a more refined and precise model by sequentially improving the fit of each tree in this case. While the difference in performance between the two models is not significant, the slightly better performance of XGBoost could make it a preferable option for use cases where small improvements in accuracy are crucial."
      ],
      "metadata": {
        "id": "P96nMfHIKq1O"
      }
    },
    {
      "cell_type": "markdown",
      "source": [
        "##Comparing Models##\n",
        "After attempting three models and different regularization and feature selection techniques, we would like compare their performance in terms of $R^2$ and RMSE score."
      ],
      "metadata": {
        "id": "XKxrai9jk4Ky"
      }
    },
    {
      "cell_type": "code",
      "source": [
        "# create arrays of R2 and RMSE scores for each model\n",
        "R2_scores = [lin_acc, ridge_score, lasso_score, pca_acc, pca_ridge_score, rfr_score, xgb_score]\n",
        "RMSE_scores = [lin_rmse, ridge_rmse, lasso_rmse, pca_rmse, pca_ridge_rmse, rfr_rmse, xgb_rmse]\n",
        "\n",
        "# create labels for the models\n",
        "models = ['Linear Regression', 'Ridge Regression', 'LASSO Regression', 'Linear Regression with PCA', 'Ridge Regression with PCA', 'Random Forest', 'XGBoost']\n",
        "\n",
        "# create a bar chart for R2 scores\n",
        "fig, ax = plt.subplots()\n",
        "ax.bar(models, R2_scores)\n",
        "ax.set_ylabel('R2 Score')\n",
        "ax.set_title('Comparison of Regression Models based on R2 Score')\n",
        "\n",
        "for i, v in enumerate(R2_scores):\n",
        "    ax.text(i, v+0.01, str(round(v, 3)), ha='center')\n",
        "\n",
        "_ = plt.xticks(models, models, rotation='vertical')\n",
        "plt.show()"
      ],
      "metadata": {
        "colab": {
          "base_uri": "https://localhost:8080/",
          "height": 627
        },
        "id": "xdTa1FYglsu4",
        "outputId": "f682fd1c-de60-4f8d-cabe-95a09cc54e90"
      },
      "execution_count": 77,
      "outputs": [
        {
          "output_type": "display_data",
          "data": {
            "text/plain": [
              "<Figure size 640x480 with 1 Axes>"
            ],
            "image/png": "[encoded data removed]"
          },
          "metadata": {}
        }
      ]
    },
    {
      "cell_type": "code",
      "source": [
        "# create a bar chart for RMSE scores\n",
        "fig, ax = plt.subplots()\n",
        "ax.bar(models, RMSE_scores)\n",
        "ax.set_ylabel('RMSE Score')\n",
        "ax.set_title('Comparison of Regression Models based on RMSE Score')\n",
        "for i, v in enumerate(RMSE_scores):\n",
        "    ax.text(i, v+50, str(round(v, 2)), ha='center')\n",
        "\n",
        "_ = plt.xticks(models, models, rotation='vertical')\n",
        "plt.show()\n"
      ],
      "metadata": {
        "colab": {
          "base_uri": "https://localhost:8080/",
          "height": 627
        },
        "id": "ZI455DhYotMC",
        "outputId": "59a24a4a-22ab-41bb-85d6-ad280cc63b05"
      },
      "execution_count": 78,
      "outputs": [
        {
          "output_type": "display_data",
          "data": {
            "text/plain": [
              "<Figure size 640x480 with 1 Axes>"
            ],
            "image/png": "[encoded data removed]"
          },
          "metadata": {}
        }
      ]
    },
    {
      "cell_type": "markdown",
      "source": [
        "Based on the R2 scores, Random Forest (0.940) and XGBoost (0.943) outperform the other models, including Linear Regression, Ridge Regression, LASSO Regression, and PCA-based models. These two ensemble methods are better able to capture the non-linear relationships between the features and the target variable in the dataset.\n",
        "\n",
        "In terms of RMSE scores, XGBoost (2362.95) performs slightly better than Random Forest (2440.84), indicating that it can more accurately predict the prices of used cars. However, it is worth noting that Random Forest has a faster training time and can handle larger datasets more efficiently than XGBoost.\n",
        "\n",
        "Overall, both Random Forest and XGBoost demonstrate strong performance in predicting the prices of used cars. In this case, we should choose XGBoost based on its higher score and lower lost.\n",
        "\n",
        "\n",
        "\n",
        "\n"
      ],
      "metadata": {
        "id": "M9o6qcN2rYGd"
      }
    },
    {
      "cell_type": "markdown",
      "source": [
        "## Summary ##"
      ],
      "metadata": {
        "id": "_xbBvOcmQsxL"
      }
    },
    {
      "cell_type": "markdown",
      "source": [
        "After analyzing EDA and the performance of the various models on the Used Car Prices dataset, we can draw the following conclusions:\n",
        "\n",
        "###EDA (Exploratory Data Analysis)###\n",
        "\n",
        "1. For the most popular car model, Fiesta by Ford ranks first, followed by Golf by Volkswagen and Focus by Ford.\n",
        "\n",
        "2. 2019 is the year when the number of used car sales is the highest.\n",
        "\n",
        "3. For the transmission type, manual is the most common transmission type, semi-auto is the second most common, automatic is the third, and others is the rarest.\n",
        "\n",
        "4. The price range for Mercedes-Benz was the highest, followed closely by Audi and BMW. We also observed that each brand had some outliers, which may indicate the presence of some unique or rare models that command a higher price.\n",
        "\n",
        "5. Petrol fuel type shows a wider distribution of mileage values, indicating a larger market inventory. Diesel cars have some high mileage data points, which may be attributed to the fact that diesel cars are often used as commercial vehicles. Additionally, we can observe that there are no electric cars with high mileage.\n",
        "\n",
        "6. We observe a correlation between mileage and the maximum price. We can also see that there are affordable cars at all mileage ranges. However, at higher mileage, even premium cars like Mercedes and BMW are selling for less.\n",
        "\n",
        " Mileage is an important factor to consider when purchasing a used car, as it can have a significant impact on the price. Additionally, we can conclude that the brand name alone does not always determine the price of a used car, as even luxury cars may have lower prices at higher mileage ranges."
      ],
      "metadata": {
        "id": "b6CBiEDPQ-sA"
      }
    },
    {
      "cell_type": "markdown",
      "source": [
        "###Modeling###\n",
        "\n",
        "1. Linear Regression serves as a good starting point due to its simplicity, interpretability, and computational efficiency. However, it may struggle with multicollinearity, non-linear relationships, and outliers, limiting its predictive performance.\n",
        "\n",
        "2. Ridge Regression (L2) and LASSO (L1) offer improvements over Linear Regression by introducing regularization, which can help mitigate multicollinearity and overfitting. However, the improvement in performance over Linear Regression is marginal, suggesting that the linear model may not be suffering from overfitting. Instead, the reduced performance could be attributed to other factors, such as feature selection or the inherently non-linear nature of the dataset.\n",
        "\n",
        "3. PCA can be useful for reducing the dimensionality of the data, but in this case, it resulted in a significant loss of predictive performance. Combining PCA with Ridge Regression did not provide any noticeable improvements, suggesting that PCA may not be necessary for this dataset.\n",
        "\n",
        "4. Random Forest and XGBoost models significantly outperformed the other models, with both achieving high R-squared scores. These tree-based models are capable of handling non-linear relationships and complex interactions between features, making them well-suited for this dataset.\n",
        "\n",
        "5. Although Random Forest and XGBoost had similar performance, XGBoost offers some advantages, such as built-in regularization and the ability to handle missing values. Additionally, XGBoost can be more computationally efficient when properly tuned, making it a strong choice for this case.\n",
        "\n",
        "In summary, for the Used Car Prices dataset, tree-based models like Random Forest and XGBoost deliver the best predictive performance. While simpler models like Linear Regression and Ridge Regression provide valuable insights and are more interpretable, their performance is limited by the complexity of the dataset. Considering the balance between accuracy, interpretability, and computational efficiency, XGBoost emerges as the most suitable model for this case."
      ],
      "metadata": {
        "id": "_ndNKdEzuosv"
      }
    },
    {
      "cell_type": "markdown",
      "source": [
        "## Challenges / Obstacles Faced ##\n",
        "\n",
        "1. **Handling categorical data**: One of the challenges we faced was dealing with categorical data for regression models. Initially, we considered using one-hot encoding to represent the categories, but we soon realized that the model column had 195 unique values, which would lead to too many dimensions and could cause overfitting. We decided to drop the model column altogether and instead used other relevant features such as brand, price, and engine size to represent the information. This approach helped us overcome the issue of high dimensionality and resulted in better model performance.\n",
        "\n",
        "2. **Poor performance of linear regression**: Another challenge we encountered was the poor performance of the linear regression model. Despite using L1 and L2 regularization and performing hyperparameter tuning, we only saw minimal improvement in the model's accuracy. We attempted to use Principal Component Analysis (PCA) to select better features for the linear model, but this approach did not lead to significant improvements in performance and even resulted in a decrease in performance in some cases. We eventually overcame this issue by using tree-based models like Random Forest and XGBoost, which were able to capture the non-linear relationships in the data and resulted in much better performance. We concluded that the dataset was too complex for a linear model to handle, despite our best efforts to optimize it."
      ],
      "metadata": {
        "id": "WabO2d0sur0W"
      }
    },
    {
      "cell_type": "markdown",
      "source": [
        "## Potential Next Steps & Future Directions ##\n"
      ],
      "metadata": {
        "id": "vpHDbhavNST1"
      }
    },
    {
      "cell_type": "markdown",
      "source": [
        "In this Used Car Project, we have performed a thorough analysis of the dataset, applied various models to predict used car prices, and identified XGBoost as the most suitable model for this task. Moving forward, there are several potential next steps and future directions that can be taken to further enhance the project.\n",
        "\n",
        "\n",
        "\n",
        "1.   **Feature Engineering:** Investigating additional feature engineering techniques can improve the model's performance by creating new features or transforming existing ones. Specifically, consider the following:\n",
        "\n",
        "*   **Creating interaction features between existing variables to capture their combined effect on the target.** This may help reveal hidden patterns and relationships that are not evident when considering features individually.\n",
        "*   **Applying non-linear transformations, such as log or polynomial, to continuous variables to better capture non-linear relationships.** These transformations may make the data more compatible with the assumptions of certain models, leading to improved performance.\n",
        "2. **Hyperparameter Optimization:** To further enhance the performance of the XGBoost model, a more systematic approach to hyperparameter tuning can be employed. Techniques like Grid Search or Random Search can be utilized to find the best combination of hyperparameters, which may lead to improved model performance and generalization.\n",
        "3. **Model Stacking or Blending:** Combining the predictions from multiple models, such as Random Forest and XGBoost, has the potential to improve prediction accuracy. Exploring model stacking or blending techniques will create an ensemble model that leverages the strengths of different models to deliver better results.\n",
        "4. **Addressing Class Imbalance:** If the dataset contains a class imbalance in categorical features, such as fuel types or transmission types, it may be necessary to balance the dataset to improve the model's performance in predicting underrepresented categories. Techniques to consider include:\n",
        "*   Oversampling the minority class\n",
        "*   Undersampling the majority class\n",
        "*   Using advanced sampling methods like SMOTE\n",
        "5. **Time Series Analysis:** If temporal information is present in the dataset, such as car prices over time, incorporating time series analysis techniques can help capture trends and seasonality in the data. This may result in improved model predictions by accounting for time-dependent patterns.\n",
        "6. **Alternative Models:** Exploring other machine learning models, such as neural networks or support vector machines, may yield different insights and potentially improve prediction accuracy. By comparing the performance of various models, you can make an informed decision about which model is best suited for the task at hand.\n",
        "7. **Model Interpretability:** Investigating techniques to enhance the interpretability of the XGBoost model can help stakeholders better understand the relationships between variables and the target (price). Techniques such as SHAP values or LIME can be used to make the model more transparent and easier to interpret.\n",
        "8. **External Data Sources:** Integrating external data sources, like macroeconomic indicators, consumer trends, or regional factors, may provide additional context and improve the model's predictive performance. By incorporating relevant external data, the model can account for a broader range of factors that influence used car prices.\n",
        "9. **Model Evaluation Metrics:** In addition to R-squared and Root mean squared error (RMSE), other evaluation metrics can be considered to assess model performance from different perspectives. Some metrics to consider include:\n",
        "*   Mean absolute error (MAE)\n",
        "*   Mean squared logarithmic error (MSLE)\n",
        "10. **Model Deployment:** After identifying and fine-tuning the optimal model, develop a strategy for deploying the model in a production environment. This could include a web application or API that enables real-time predictions for users. By making the model accessible and easy to use, you can increase the impact and value of your project.\n",
        "\n",
        "By focusing on these potential next steps and future directions, we can continue to refine the Used Car Project, ultimately leading to a more accurate and robust predictive model for used car prices. As we explore these avenues, it is essential to iteratively evaluate the impact of each change on the model's performance and make informed decisions based on our findings. This will ensure that the project continues to evolve and adapt to new insights and challenges, ultimately leading to a more comprehensive and impactful solution for predicting used car prices. \n",
        "\n",
        "Since the end goal is not only to develop a highly accurate model but also to provide stakeholders with valuable insights and a user-friendly tool that can be applied in real-world scenarios. By striking a balance between accuracy, interpretability, and usability, we will ensure that this Used Car Project delivers tangible benefits and serves as a valuable resource for users interested in understanding and predicting used car prices."
      ],
      "metadata": {
        "id": "muVCzNDrNiNu"
      }
    }
  ],
  "metadata": {
    "colab": {
      "provenance": []
    },
    "kernelspec": {
      "display_name": "Python 3",
      "name": "python3"
    },
    "language_info": {
      "name": "python"
    }
  },
  "nbformat": 4,
  "nbformat_minor": 0
}